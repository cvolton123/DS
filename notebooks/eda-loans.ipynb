{
 "cells": [
  {
   "cell_type": "markdown",
   "metadata": {},
   "source": [
    "# Loans EDA"
   ]
  },
  {
   "cell_type": "markdown",
   "metadata": {},
   "source": [
    "## Fields description\n",
    "\n",
    "`profile_id` is the unique identificator of a customer. One customer could have many loans.\n",
    "\n",
    "`app_id` is the unique identificator of an application. One customer could have many applications and not every application results in a loan.\n",
    "\n",
    "`loan` is the unique identificator of a loan.\n",
    "\n",
    "`begin_date` is the date when a loan was granted to a client.\n",
    "\n",
    "`end_date` is the planned date of repayment according to loan's schedule. If a loan was prolongued this date will account for the last planned date of repayment.\n",
    "\n",
    "`amount` is the amount granted to the a client when a loan was originated.\n",
    "\n",
    "`product` is the internal classification of financial structure of a loan as a product. **START** corresponds to the product with initial commission and then some grace period for interest. **START_11** as oposite has no initial commission by incorporates intrest rate form the vary begining. Total loan overpayment is the same for both products.\n",
    "\n",
    "`status` is the status of a loan. Possible values are: **OVERDUE**, **REPAID**, **CLOSED**. There is only technical difference between **REPAID** and **CLOSED**. Thus status **REPAID** can be treated as **CLOSED** for the purpose of this analysis.\n",
    "\n",
    "`lodging_cnt` accounts for the number of prolongations of a loan.\n",
    "\n",
    "`repayment_ratio` is the total amount repayed by a customer divided by begin amount granted to that customer in boundaries of a single loan."
   ]
  },
  {
   "cell_type": "markdown",
   "metadata": {},
   "source": [
    "## Additional notes from the owners of the dataset\n",
    "\n",
    "1. Loans granted before 2018-06-01 where technicaly test loans and should be omited for the purpose of this analysis.\n",
    "\n",
    "2. For the loans granted from 2018-06-01 till February 2019 loan amount was limited at 2 UAHk. Somewhere at the end of February 2019 the cap was raised to 3 UAHk for new clients ans 4 UAHk for existing clients.\n",
    "\n",
    "3. During autumn 2018 they conducted kind of test granting some bad customers 100 UAH loans instead of rejecting their applications.\n",
    "\n",
    "4. During February-March 2019 they conducted kind of another test granting some bad customers 500 UAH loans instead of rejecting their applications.\n",
    "\n",
    "5. Marketing activity was different during different months. This data can't be shared within this project.\n",
    "\n",
    "6. It's suggested to treat loan as **GOOD** if it was repayed 90% of the begin amount or more and to treat loan as **GOOD** if it was repayed 10% of the begin amount or less. It's hard to classify loans if the repayment ratio is between 10% and 90%. Loans can be classified only 90 days after the date of origination."
   ]
  },
  {
   "cell_type": "markdown",
   "metadata": {},
   "source": [
    "## Load data"
   ]
  },
  {
   "cell_type": "code",
   "execution_count": 1,
   "metadata": {},
   "outputs": [],
   "source": [
    "# load libraries\n",
    "\n",
    "import pandas as pd\n",
    "import numpy as np\n",
    "from datetime import timedelta\n",
    "import seaborn\n",
    "import matplotlib.pyplot as plt\n",
    "import seaborn as sns"
   ]
  },
  {
   "cell_type": "code",
   "execution_count": 2,
   "metadata": {},
   "outputs": [
    {
     "data": {
      "text/html": [
       "<div>\n",
       "<style scoped>\n",
       "    .dataframe tbody tr th:only-of-type {\n",
       "        vertical-align: middle;\n",
       "    }\n",
       "\n",
       "    .dataframe tbody tr th {\n",
       "        vertical-align: top;\n",
       "    }\n",
       "\n",
       "    .dataframe thead th {\n",
       "        text-align: right;\n",
       "    }\n",
       "</style>\n",
       "<table border=\"1\" class=\"dataframe\">\n",
       "  <thead>\n",
       "    <tr style=\"text-align: right;\">\n",
       "      <th></th>\n",
       "      <th>profile_id</th>\n",
       "      <th>app_id</th>\n",
       "      <th>loan</th>\n",
       "      <th>begin_date</th>\n",
       "      <th>end_date</th>\n",
       "      <th>amount</th>\n",
       "      <th>product</th>\n",
       "      <th>status</th>\n",
       "      <th>lodging_cnt</th>\n",
       "      <th>repayment_ratio</th>\n",
       "    </tr>\n",
       "  </thead>\n",
       "  <tbody>\n",
       "    <tr>\n",
       "      <th>0</th>\n",
       "      <td>158618</td>\n",
       "      <td>848153</td>\n",
       "      <td>34275</td>\n",
       "      <td>2020-01-16</td>\n",
       "      <td>2020-02-25</td>\n",
       "      <td>3500.0</td>\n",
       "      <td>START_11</td>\n",
       "      <td>CLOSED</td>\n",
       "      <td>1</td>\n",
       "      <td>1.486</td>\n",
       "    </tr>\n",
       "    <tr>\n",
       "      <th>1</th>\n",
       "      <td>709513</td>\n",
       "      <td>509688</td>\n",
       "      <td>21025</td>\n",
       "      <td>2019-06-14</td>\n",
       "      <td>2019-06-28</td>\n",
       "      <td>700.0</td>\n",
       "      <td>START_11</td>\n",
       "      <td>CLOSED</td>\n",
       "      <td>0</td>\n",
       "      <td>1.000</td>\n",
       "    </tr>\n",
       "    <tr>\n",
       "      <th>2</th>\n",
       "      <td>690248</td>\n",
       "      <td>518539</td>\n",
       "      <td>21232</td>\n",
       "      <td>2019-06-19</td>\n",
       "      <td>2019-06-30</td>\n",
       "      <td>2000.0</td>\n",
       "      <td>START_11</td>\n",
       "      <td>CLOSED</td>\n",
       "      <td>0</td>\n",
       "      <td>1.054</td>\n",
       "    </tr>\n",
       "    <tr>\n",
       "      <th>3</th>\n",
       "      <td>753344</td>\n",
       "      <td>755195</td>\n",
       "      <td>30938</td>\n",
       "      <td>2019-11-23</td>\n",
       "      <td>2019-12-07</td>\n",
       "      <td>700.0</td>\n",
       "      <td>START_11</td>\n",
       "      <td>CLOSED</td>\n",
       "      <td>0</td>\n",
       "      <td>1.036</td>\n",
       "    </tr>\n",
       "    <tr>\n",
       "      <th>4</th>\n",
       "      <td>416384</td>\n",
       "      <td>393817</td>\n",
       "      <td>17844</td>\n",
       "      <td>2019-04-09</td>\n",
       "      <td>2019-05-04</td>\n",
       "      <td>2300.0</td>\n",
       "      <td>START_11</td>\n",
       "      <td>CLOSED</td>\n",
       "      <td>1</td>\n",
       "      <td>1.180</td>\n",
       "    </tr>\n",
       "  </tbody>\n",
       "</table>\n",
       "</div>"
      ],
      "text/plain": [
       "   profile_id  app_id   loan  begin_date    end_date  amount   product  \\\n",
       "0      158618  848153  34275  2020-01-16  2020-02-25  3500.0  START_11   \n",
       "1      709513  509688  21025  2019-06-14  2019-06-28   700.0  START_11   \n",
       "2      690248  518539  21232  2019-06-19  2019-06-30  2000.0  START_11   \n",
       "3      753344  755195  30938  2019-11-23  2019-12-07   700.0  START_11   \n",
       "4      416384  393817  17844  2019-04-09  2019-05-04  2300.0  START_11   \n",
       "\n",
       "   status  lodging_cnt  repayment_ratio  \n",
       "0  CLOSED            1            1.486  \n",
       "1  CLOSED            0            1.000  \n",
       "2  CLOSED            0            1.054  \n",
       "3  CLOSED            0            1.036  \n",
       "4  CLOSED            1            1.180  "
      ]
     },
     "execution_count": 2,
     "metadata": {},
     "output_type": "execute_result"
    }
   ],
   "source": [
    "# load data\n",
    "\n",
    "df_loans = pd.read_csv('../data/raw/dr_loans.csv')\n",
    "df_loans.head()"
   ]
  },
  {
   "cell_type": "code",
   "execution_count": 3,
   "metadata": {},
   "outputs": [],
   "source": [
    "# convert 'begin_date' and 'end_date' fields to datetime type\n",
    "df_loans.loc[:,['begin_date', 'end_date']] = df_loans[['begin_date', 'end_date']].transform(pd.to_datetime)\n",
    "\n",
    "# drop test loans and \"young\" loans\n",
    "df_loans = df_loans[(df_loans['begin_date'] >= '2018-06-01') & (df_loans['begin_date'] < '2020-01-01')]\n",
    "\n",
    "# simplify status\n",
    "df_loans['status'] = df_loans['status'].transform(lambda x: 'CLOSED' if x == 'REPAID' else x)\n"
   ]
  },
  {
   "cell_type": "code",
   "execution_count": 4,
   "metadata": {},
   "outputs": [
    {
     "data": {
      "text/html": [
       "<div>\n",
       "<style scoped>\n",
       "    .dataframe tbody tr th:only-of-type {\n",
       "        vertical-align: middle;\n",
       "    }\n",
       "\n",
       "    .dataframe tbody tr th {\n",
       "        vertical-align: top;\n",
       "    }\n",
       "\n",
       "    .dataframe thead th {\n",
       "        text-align: right;\n",
       "    }\n",
       "</style>\n",
       "<table border=\"1\" class=\"dataframe\">\n",
       "  <thead>\n",
       "    <tr style=\"text-align: right;\">\n",
       "      <th></th>\n",
       "      <th>profile_id</th>\n",
       "      <th>app_id</th>\n",
       "      <th>loan</th>\n",
       "      <th>begin_date</th>\n",
       "      <th>end_date</th>\n",
       "      <th>amount</th>\n",
       "      <th>product</th>\n",
       "      <th>status</th>\n",
       "      <th>lodging_cnt</th>\n",
       "      <th>repayment_ratio</th>\n",
       "      <th>loan_num</th>\n",
       "      <th>can_be_bad</th>\n",
       "      <th>bad</th>\n",
       "    </tr>\n",
       "  </thead>\n",
       "  <tbody>\n",
       "    <tr>\n",
       "      <th>1</th>\n",
       "      <td>709513</td>\n",
       "      <td>509688</td>\n",
       "      <td>21025</td>\n",
       "      <td>2019-06-14</td>\n",
       "      <td>2019-06-28</td>\n",
       "      <td>700.0</td>\n",
       "      <td>START_11</td>\n",
       "      <td>CLOSED</td>\n",
       "      <td>0</td>\n",
       "      <td>1.000</td>\n",
       "      <td>1</td>\n",
       "      <td>True</td>\n",
       "      <td>False</td>\n",
       "    </tr>\n",
       "    <tr>\n",
       "      <th>2</th>\n",
       "      <td>690248</td>\n",
       "      <td>518539</td>\n",
       "      <td>21232</td>\n",
       "      <td>2019-06-19</td>\n",
       "      <td>2019-06-30</td>\n",
       "      <td>2000.0</td>\n",
       "      <td>START_11</td>\n",
       "      <td>CLOSED</td>\n",
       "      <td>0</td>\n",
       "      <td>1.054</td>\n",
       "      <td>3</td>\n",
       "      <td>True</td>\n",
       "      <td>False</td>\n",
       "    </tr>\n",
       "    <tr>\n",
       "      <th>3</th>\n",
       "      <td>753344</td>\n",
       "      <td>755195</td>\n",
       "      <td>30938</td>\n",
       "      <td>2019-11-23</td>\n",
       "      <td>2019-12-07</td>\n",
       "      <td>700.0</td>\n",
       "      <td>START_11</td>\n",
       "      <td>CLOSED</td>\n",
       "      <td>0</td>\n",
       "      <td>1.036</td>\n",
       "      <td>17</td>\n",
       "      <td>True</td>\n",
       "      <td>False</td>\n",
       "    </tr>\n",
       "    <tr>\n",
       "      <th>4</th>\n",
       "      <td>416384</td>\n",
       "      <td>393817</td>\n",
       "      <td>17844</td>\n",
       "      <td>2019-04-09</td>\n",
       "      <td>2019-05-04</td>\n",
       "      <td>2300.0</td>\n",
       "      <td>START_11</td>\n",
       "      <td>CLOSED</td>\n",
       "      <td>1</td>\n",
       "      <td>1.180</td>\n",
       "      <td>2</td>\n",
       "      <td>True</td>\n",
       "      <td>False</td>\n",
       "    </tr>\n",
       "    <tr>\n",
       "      <th>5</th>\n",
       "      <td>767257</td>\n",
       "      <td>580393</td>\n",
       "      <td>23343</td>\n",
       "      <td>2019-07-31</td>\n",
       "      <td>2019-08-07</td>\n",
       "      <td>3000.0</td>\n",
       "      <td>START_11</td>\n",
       "      <td>CLOSED</td>\n",
       "      <td>0</td>\n",
       "      <td>1.108</td>\n",
       "      <td>2</td>\n",
       "      <td>True</td>\n",
       "      <td>False</td>\n",
       "    </tr>\n",
       "  </tbody>\n",
       "</table>\n",
       "</div>"
      ],
      "text/plain": [
       "   profile_id  app_id   loan begin_date   end_date  amount   product  status  \\\n",
       "1      709513  509688  21025 2019-06-14 2019-06-28   700.0  START_11  CLOSED   \n",
       "2      690248  518539  21232 2019-06-19 2019-06-30  2000.0  START_11  CLOSED   \n",
       "3      753344  755195  30938 2019-11-23 2019-12-07   700.0  START_11  CLOSED   \n",
       "4      416384  393817  17844 2019-04-09 2019-05-04  2300.0  START_11  CLOSED   \n",
       "5      767257  580393  23343 2019-07-31 2019-08-07  3000.0  START_11  CLOSED   \n",
       "\n",
       "   lodging_cnt  repayment_ratio  loan_num  can_be_bad    bad  \n",
       "1            0            1.000         1        True  False  \n",
       "2            0            1.054         3        True  False  \n",
       "3            0            1.036        17        True  False  \n",
       "4            1            1.180         2        True  False  \n",
       "5            0            1.108         2        True  False  "
      ]
     },
     "execution_count": 4,
     "metadata": {},
     "output_type": "execute_result"
    }
   ],
   "source": [
    "# Calculate loan number for each customer\n",
    "df_loans['loan_num'] = df_loans.groupby('profile_id')['begin_date'].rank(method=\"first\", ascending=True).astype(int)\n",
    "\n",
    "# Classify loans\n",
    "report_day = pd.to_datetime('2020-04-16')\n",
    "df_loans['can_be_bad'] = df_loans['begin_date'].apply(lambda d: (report_day - d) > timedelta(days=90))\n",
    "df_loans['bad'] = df_loans['repayment_ratio'].apply(lambda rr: True if rr < 0.1 else (False if rr > 0.9 else np.NaN))\n",
    "\n",
    "# Filter only loans apropriate for model input\n",
    "df_loans = df_loans[df_loans['can_be_bad'] & df_loans['bad'].notnull()]\n",
    "df_loans.head()"
   ]
  },
  {
   "cell_type": "markdown",
   "metadata": {},
   "source": [
    "## Basic overview"
   ]
  },
  {
   "cell_type": "code",
   "execution_count": 5,
   "metadata": {
    "scrolled": false
   },
   "outputs": [
    {
     "name": "stdout",
     "output_type": "stream",
     "text": [
      "<class 'pandas.core.frame.DataFrame'>\n",
      "Int64Index: 12593 entries, 1 to 13931\n",
      "Data columns (total 13 columns):\n",
      " #   Column           Non-Null Count  Dtype         \n",
      "---  ------           --------------  -----         \n",
      " 0   profile_id       12593 non-null  int64         \n",
      " 1   app_id           12593 non-null  int64         \n",
      " 2   loan             12593 non-null  int64         \n",
      " 3   begin_date       12593 non-null  datetime64[ns]\n",
      " 4   end_date         12593 non-null  datetime64[ns]\n",
      " 5   amount           12593 non-null  float64       \n",
      " 6   product          12593 non-null  object        \n",
      " 7   status           12593 non-null  object        \n",
      " 8   lodging_cnt      12593 non-null  int64         \n",
      " 9   repayment_ratio  12593 non-null  float64       \n",
      " 10  loan_num         12593 non-null  int64         \n",
      " 11  can_be_bad       12593 non-null  bool          \n",
      " 12  bad              12593 non-null  object        \n",
      "dtypes: bool(1), datetime64[ns](2), float64(2), int64(5), object(3)\n",
      "memory usage: 1.3+ MB\n"
     ]
    }
   ],
   "source": [
    "df_loans.info()"
   ]
  },
  {
   "cell_type": "code",
   "execution_count": 6,
   "metadata": {},
   "outputs": [
    {
     "data": {
      "text/html": [
       "<div>\n",
       "<style scoped>\n",
       "    .dataframe tbody tr th:only-of-type {\n",
       "        vertical-align: middle;\n",
       "    }\n",
       "\n",
       "    .dataframe tbody tr th {\n",
       "        vertical-align: top;\n",
       "    }\n",
       "\n",
       "    .dataframe thead th {\n",
       "        text-align: right;\n",
       "    }\n",
       "</style>\n",
       "<table border=\"1\" class=\"dataframe\">\n",
       "  <thead>\n",
       "    <tr style=\"text-align: right;\">\n",
       "      <th></th>\n",
       "      <th>amount</th>\n",
       "      <th>lodging_cnt</th>\n",
       "      <th>repayment_ratio</th>\n",
       "      <th>loan_num</th>\n",
       "    </tr>\n",
       "  </thead>\n",
       "  <tbody>\n",
       "    <tr>\n",
       "      <th>count</th>\n",
       "      <td>12593.000000</td>\n",
       "      <td>12593.000000</td>\n",
       "      <td>12593.000000</td>\n",
       "      <td>12593.000000</td>\n",
       "    </tr>\n",
       "    <tr>\n",
       "      <th>mean</th>\n",
       "      <td>1919.725244</td>\n",
       "      <td>0.298658</td>\n",
       "      <td>1.131306</td>\n",
       "      <td>1.727944</td>\n",
       "    </tr>\n",
       "    <tr>\n",
       "      <th>std</th>\n",
       "      <td>1088.057509</td>\n",
       "      <td>0.966306</td>\n",
       "      <td>0.826213</td>\n",
       "      <td>1.480065</td>\n",
       "    </tr>\n",
       "    <tr>\n",
       "      <th>min</th>\n",
       "      <td>100.000000</td>\n",
       "      <td>0.000000</td>\n",
       "      <td>0.000000</td>\n",
       "      <td>1.000000</td>\n",
       "    </tr>\n",
       "    <tr>\n",
       "      <th>25%</th>\n",
       "      <td>1000.000000</td>\n",
       "      <td>0.000000</td>\n",
       "      <td>0.970120</td>\n",
       "      <td>1.000000</td>\n",
       "    </tr>\n",
       "    <tr>\n",
       "      <th>50%</th>\n",
       "      <td>2000.000000</td>\n",
       "      <td>0.000000</td>\n",
       "      <td>1.198000</td>\n",
       "      <td>1.000000</td>\n",
       "    </tr>\n",
       "    <tr>\n",
       "      <th>75%</th>\n",
       "      <td>3000.000000</td>\n",
       "      <td>0.000000</td>\n",
       "      <td>1.486000</td>\n",
       "      <td>2.000000</td>\n",
       "    </tr>\n",
       "    <tr>\n",
       "      <th>max</th>\n",
       "      <td>4000.000000</td>\n",
       "      <td>19.000000</td>\n",
       "      <td>7.395910</td>\n",
       "      <td>23.000000</td>\n",
       "    </tr>\n",
       "  </tbody>\n",
       "</table>\n",
       "</div>"
      ],
      "text/plain": [
       "             amount   lodging_cnt  repayment_ratio      loan_num\n",
       "count  12593.000000  12593.000000     12593.000000  12593.000000\n",
       "mean    1919.725244      0.298658         1.131306      1.727944\n",
       "std     1088.057509      0.966306         0.826213      1.480065\n",
       "min      100.000000      0.000000         0.000000      1.000000\n",
       "25%     1000.000000      0.000000         0.970120      1.000000\n",
       "50%     2000.000000      0.000000         1.198000      1.000000\n",
       "75%     3000.000000      0.000000         1.486000      2.000000\n",
       "max     4000.000000     19.000000         7.395910     23.000000"
      ]
     },
     "execution_count": 6,
     "metadata": {},
     "output_type": "execute_result"
    }
   ],
   "source": [
    "df_loans.drop(['profile_id', 'app_id', 'loan'], axis='columns').describe()"
   ]
  },
  {
   "cell_type": "code",
   "execution_count": 7,
   "metadata": {},
   "outputs": [
    {
     "data": {
      "text/plain": [
       "count                   12593\n",
       "unique                    577\n",
       "top       2019-03-01 00:00:00\n",
       "freq                      252\n",
       "first     2018-06-03 00:00:00\n",
       "last      2019-12-31 00:00:00\n",
       "Name: begin_date, dtype: object"
      ]
     },
     "execution_count": 7,
     "metadata": {},
     "output_type": "execute_result"
    }
   ],
   "source": [
    "df_loans['begin_date'].describe()"
   ]
  },
  {
   "cell_type": "code",
   "execution_count": 8,
   "metadata": {},
   "outputs": [
    {
     "data": {
      "text/plain": [
       "count                   12593\n",
       "unique                    599\n",
       "top       2019-03-15 00:00:00\n",
       "freq                      139\n",
       "first     2018-06-14 00:00:00\n",
       "last      2020-02-27 00:00:00\n",
       "Name: end_date, dtype: object"
      ]
     },
     "execution_count": 8,
     "metadata": {},
     "output_type": "execute_result"
    }
   ],
   "source": [
    "df_loans['end_date'].describe()"
   ]
  },
  {
   "cell_type": "code",
   "execution_count": 9,
   "metadata": {},
   "outputs": [
    {
     "data": {
      "text/plain": [
       "START_11    9310\n",
       "START       3283\n",
       "Name: product, dtype: int64"
      ]
     },
     "execution_count": 9,
     "metadata": {},
     "output_type": "execute_result"
    }
   ],
   "source": [
    "df_loans['product'].value_counts()"
   ]
  },
  {
   "cell_type": "code",
   "execution_count": 10,
   "metadata": {},
   "outputs": [
    {
     "data": {
      "text/plain": [
       "CLOSED     9140\n",
       "OVERDUE    3453\n",
       "Name: status, dtype: int64"
      ]
     },
     "execution_count": 10,
     "metadata": {},
     "output_type": "execute_result"
    }
   ],
   "source": [
    "df_loans['status'].value_counts()"
   ]
  },
  {
   "cell_type": "code",
   "execution_count": 11,
   "metadata": {},
   "outputs": [
    {
     "data": {
      "text/plain": [
       "False    9472\n",
       "True     3121\n",
       "Name: bad, dtype: int64"
      ]
     },
     "execution_count": 11,
     "metadata": {},
     "output_type": "execute_result"
    }
   ],
   "source": [
    "df_loans['bad'].value_counts()"
   ]
  },
  {
   "cell_type": "code",
   "execution_count": 12,
   "metadata": {},
   "outputs": [
    {
     "data": {
      "image/png": "[encoded data removed]",
      "text/plain": [
       "<Figure size 1080x360 with 2 Axes>"
      ]
     },
     "metadata": {
      "needs_background": "light"
     },
     "output_type": "display_data"
    }
   ],
   "source": [
    "plt.subplots(1, 2, figsize=(15,5))\n",
    "plt.subplot(1,2,1)\n",
    "plt.hist(df_loans['lodging_cnt'], bins = 30)\n",
    "plt.xlabel('Number of prolongations')\n",
    "plt.title('Including zero prolongations')\n",
    "plt.subplot(1,2,2)\n",
    "plt.hist(df_loans[df_loans['lodging_cnt'] > 0]['lodging_cnt'], bins = 30)\n",
    "plt.xlabel('Number of prolongations')\n",
    "plt.title('Omiting zero prolongations')\n",
    "plt.show()"
   ]
  },
  {
   "cell_type": "code",
   "execution_count": 13,
   "metadata": {},
   "outputs": [
    {
     "data": {
      "image/png": "[encoded data removed]",
      "text/plain": [
       "<Figure size 1080x432 with 1 Axes>"
      ]
     },
     "metadata": {
      "needs_background": "light"
     },
     "output_type": "display_data"
    }
   ],
   "source": [
    "plt.figure(figsize=(15,6))\n",
    "sns.distplot(df_loans['repayment_ratio'])\n",
    "plt.axvline(x=0.1, linestyle='--', color='r')\n",
    "plt.axvline(x=0.9, linestyle='--', color='r')\n",
    "plt.text(x=-0.5, y=0.5, s='BAD', color='r', horizontalalignment='center')\n",
    "plt.text(x=0.5, y=0.5, s='UNDEFINED', color='k', horizontalalignment='center')\n",
    "plt.text(x=2, y=0.5, s='GOOD', color='g', horizontalalignment='center')\n",
    "plt.xlabel('Repayment ratio')\n",
    "plt.show()"
   ]
  },
  {
   "cell_type": "markdown",
   "metadata": {},
   "source": [
    "<u>Thoughts</u>\n",
    "\n",
    "Looks like it's better to investigate further who are those clients with repayments ratio from 10% to 60%."
   ]
  },
  {
   "cell_type": "code",
   "execution_count": 14,
   "metadata": {},
   "outputs": [
    {
     "data": {
      "text/html": [
       "<div>\n",
       "<style scoped>\n",
       "    .dataframe tbody tr th:only-of-type {\n",
       "        vertical-align: middle;\n",
       "    }\n",
       "\n",
       "    .dataframe tbody tr th {\n",
       "        vertical-align: top;\n",
       "    }\n",
       "\n",
       "    .dataframe thead th {\n",
       "        text-align: right;\n",
       "    }\n",
       "</style>\n",
       "<table border=\"1\" class=\"dataframe\">\n",
       "  <thead>\n",
       "    <tr style=\"text-align: right;\">\n",
       "      <th></th>\n",
       "      <th>profiles</th>\n",
       "    </tr>\n",
       "    <tr>\n",
       "      <th>loans</th>\n",
       "      <th></th>\n",
       "    </tr>\n",
       "  </thead>\n",
       "  <tbody>\n",
       "    <tr>\n",
       "      <th>1</th>\n",
       "      <td>5501</td>\n",
       "    </tr>\n",
       "    <tr>\n",
       "      <th>2</th>\n",
       "      <td>1539</td>\n",
       "    </tr>\n",
       "    <tr>\n",
       "      <th>3</th>\n",
       "      <td>541</td>\n",
       "    </tr>\n",
       "    <tr>\n",
       "      <th>4</th>\n",
       "      <td>226</td>\n",
       "    </tr>\n",
       "    <tr>\n",
       "      <th>5</th>\n",
       "      <td>110</td>\n",
       "    </tr>\n",
       "  </tbody>\n",
       "</table>\n",
       "</div>"
      ],
      "text/plain": [
       "       profiles\n",
       "loans          \n",
       "1          5501\n",
       "2          1539\n",
       "3           541\n",
       "4           226\n",
       "5           110"
      ]
     },
     "execution_count": 14,
     "metadata": {},
     "output_type": "execute_result"
    }
   ],
   "source": [
    "(df_loans.groupby('profile_id')\n",
    "         .agg(loans=pd.NamedAgg(column='loan', aggfunc='count'))\n",
    "         .reset_index()\n",
    "         .groupby('loans')\n",
    "         .agg(profiles=pd.NamedAgg(column='profile_id', aggfunc='count'))\n",
    "         .head()\n",
    ")"
   ]
  },
  {
   "cell_type": "markdown",
   "metadata": {},
   "source": [
    "<u>Thoughts</u>\n",
    "    \n",
    "- most of the clients takes only one loan\n",
    "- some clients recieves 2-5 loans\n",
    "- only a few clients gets 6 and more loans\n",
    "\n",
    "It looks natural to devide clients into 3 groups:\n",
    "    \n",
    "- `1st` loan\n",
    "- `2nd` loan\n",
    "- `3rd+` loan"
   ]
  },
  {
   "cell_type": "code",
   "execution_count": 15,
   "metadata": {},
   "outputs": [
    {
     "data": {
      "text/html": [
       "<div>\n",
       "<style scoped>\n",
       "    .dataframe tbody tr th:only-of-type {\n",
       "        vertical-align: middle;\n",
       "    }\n",
       "\n",
       "    .dataframe tbody tr th {\n",
       "        vertical-align: top;\n",
       "    }\n",
       "\n",
       "    .dataframe thead th {\n",
       "        text-align: right;\n",
       "    }\n",
       "</style>\n",
       "<table border=\"1\" class=\"dataframe\">\n",
       "  <thead>\n",
       "    <tr style=\"text-align: right;\">\n",
       "      <th></th>\n",
       "      <th>profiles</th>\n",
       "    </tr>\n",
       "    <tr>\n",
       "      <th>loans</th>\n",
       "      <th></th>\n",
       "    </tr>\n",
       "  </thead>\n",
       "  <tbody>\n",
       "    <tr>\n",
       "      <th>1</th>\n",
       "      <td>5501</td>\n",
       "    </tr>\n",
       "    <tr>\n",
       "      <th>2</th>\n",
       "      <td>1539</td>\n",
       "    </tr>\n",
       "    <tr>\n",
       "      <th>3+</th>\n",
       "      <td>1000</td>\n",
       "    </tr>\n",
       "  </tbody>\n",
       "</table>\n",
       "</div>"
      ],
      "text/plain": [
       "       profiles\n",
       "loans          \n",
       "1          5501\n",
       "2          1539\n",
       "3+         1000"
      ]
     },
     "execution_count": 15,
     "metadata": {},
     "output_type": "execute_result"
    }
   ],
   "source": [
    "(df_loans.groupby('profile_id')\n",
    "         .agg(loans=pd.NamedAgg(column='loan', aggfunc='count'))\n",
    "         .reset_index()\n",
    "         .groupby('loans')\n",
    "         .agg(profiles=pd.NamedAgg(column='profile_id', aggfunc='count'))\n",
    "         .reset_index()\n",
    "         .transform(func={'loans': (lambda x: '3+' if x >= 3 else str(x)), 'profiles': (lambda x: x)})\n",
    "         .groupby('loans')\n",
    "         .agg(profiles=pd.NamedAgg(column='profiles', aggfunc='sum'))\n",
    ")"
   ]
  },
  {
   "cell_type": "code",
   "execution_count": 16,
   "metadata": {},
   "outputs": [
    {
     "data": {
      "image/png": "[encoded data removed]",
      "text/plain": [
       "<Figure size 1080x360 with 1 Axes>"
      ]
     },
     "metadata": {
      "needs_background": "light"
     },
     "output_type": "display_data"
    }
   ],
   "source": [
    "df_by_day = (df_loans['begin_date'].value_counts().sort_index())\n",
    "\n",
    "plt.figure(figsize=(15,5))\n",
    "plt.plot(df_by_day.index, df_by_day, zorder=2)\n",
    "plt.ylabel('Daily loans')\n",
    "plt.grid(axis='y', linestyle='--')\n",
    "plt.show()"
   ]
  },
  {
   "cell_type": "code",
   "execution_count": 17,
   "metadata": {},
   "outputs": [
    {
     "data": {
      "image/png": "[encoded data removed]",
      "text/plain": [
       "<Figure size 864x360 with 1 Axes>"
      ]
     },
     "metadata": {
      "needs_background": "light"
     },
     "output_type": "display_data"
    }
   ],
   "source": [
    "df_by_month = (df_loans['begin_date']\n",
    "    .dt.strftime('%Y-%m')\n",
    "    .value_counts()\n",
    "    .sort_index()\n",
    ")\n",
    "\n",
    "plt.figure(figsize=(12,5))\n",
    "plt.bar(df_by_month.index, df_by_month, zorder=2)\n",
    "plt.xticks(rotation='vertical')\n",
    "plt.ylabel('Monthly loans')\n",
    "plt.grid(axis='y', linestyle='--')\n",
    "plt.show()"
   ]
  },
  {
   "cell_type": "code",
   "execution_count": 18,
   "metadata": {},
   "outputs": [
    {
     "data": {
      "image/png": "[encoded data removed]",
      "text/plain": [
       "<Figure size 1080x360 with 1 Axes>"
      ]
     },
     "metadata": {
      "needs_background": "light"
     },
     "output_type": "display_data"
    }
   ],
   "source": [
    "df_by_mday = (df_loans['begin_date']\n",
    "    .dt.day\n",
    "    .value_counts()\n",
    "    .sort_index()\n",
    ")\n",
    "\n",
    "plt.figure(figsize=(15,5))\n",
    "plt.bar(df_by_mday.index, df_by_mday, zorder=2)\n",
    "plt.xlabel('Day of the month')\n",
    "plt.ylabel('Number of loans')\n",
    "plt.grid(axis='y', linestyle='--')\n",
    "plt.show()"
   ]
  },
  {
   "cell_type": "code",
   "execution_count": 19,
   "metadata": {},
   "outputs": [
    {
     "data": {
      "image/png": "[encoded data removed]",
      "text/plain": [
       "<Figure size 720x360 with 1 Axes>"
      ]
     },
     "metadata": {
      "needs_background": "light"
     },
     "output_type": "display_data"
    }
   ],
   "source": [
    "df_by_wday = (df_loans['begin_date']\n",
    "    .dt.weekday\n",
    "    .value_counts()\n",
    "    .sort_index()\n",
    ")\n",
    "\n",
    "plt.figure(figsize=(10,5))\n",
    "plt.bar(df_by_wday.index, df_by_wday, zorder=2)\n",
    "plt.xticks(ticks=[0,1,2,3,4,5,6,0], labels=['Sunday','Monday','Tuesday','Thirsady','Wednsday','Friday','Saturday'])\n",
    "plt.xlabel('Day of the month')\n",
    "plt.ylabel('Number of loans')\n",
    "plt.grid(axis='y', linestyle='--')\n",
    "plt.show()"
   ]
  },
  {
   "cell_type": "markdown",
   "metadata": {},
   "source": [
    "### Percentage of credit status by product"
   ]
  },
  {
   "cell_type": "code",
   "execution_count": 20,
   "metadata": {},
   "outputs": [
    {
     "data": {
      "image/png": "[encoded data removed]",
      "text/plain": [
       "<Figure size 432x288 with 1 Axes>"
      ]
     },
     "metadata": {
      "needs_background": "light"
     },
     "output_type": "display_data"
    }
   ],
   "source": [
    "(df_loans[['bad','product']]\n",
    " .groupby(['product','bad'])\n",
    " .size()\n",
    " .unstack()\n",
    " .apply(lambda r: r/r.sum()*100, axis='columns')\n",
    ").plot.bar(title=('Percentage of credit status is sorted by product'), zorder=2, grid=True)\n",
    "plt.legend(labels=['Good','Bad'], title='')\n",
    "plt.show()"
   ]
  },
  {
   "cell_type": "markdown",
   "metadata": {},
   "source": [
    "'START' product has better predictive model than 'START_11' \\\n",
    "START - 72% closed loans \\\n",
    "START_11 - 67% closed loans"
   ]
  },
  {
   "cell_type": "markdown",
   "metadata": {},
   "source": [
    "### Loans by amount distribution"
   ]
  },
  {
   "cell_type": "code",
   "execution_count": 21,
   "metadata": {
    "scrolled": true
   },
   "outputs": [
    {
     "data": {
      "text/html": [
       "<div>\n",
       "<style scoped>\n",
       "    .dataframe tbody tr th:only-of-type {\n",
       "        vertical-align: middle;\n",
       "    }\n",
       "\n",
       "    .dataframe tbody tr th {\n",
       "        vertical-align: top;\n",
       "    }\n",
       "\n",
       "    .dataframe thead th {\n",
       "        text-align: right;\n",
       "    }\n",
       "</style>\n",
       "<table border=\"1\" class=\"dataframe\">\n",
       "  <thead>\n",
       "    <tr style=\"text-align: right;\">\n",
       "      <th></th>\n",
       "      <th>amount_binned</th>\n",
       "      <th>loans_sum</th>\n",
       "    </tr>\n",
       "  </thead>\n",
       "  <tbody>\n",
       "    <tr>\n",
       "      <th>0</th>\n",
       "      <td>[0-500]</td>\n",
       "      <td>2080</td>\n",
       "    </tr>\n",
       "    <tr>\n",
       "      <th>1</th>\n",
       "      <td>(500-1000]</td>\n",
       "      <td>1391</td>\n",
       "    </tr>\n",
       "    <tr>\n",
       "      <th>2</th>\n",
       "      <td>(1000-1500]</td>\n",
       "      <td>1458</td>\n",
       "    </tr>\n",
       "    <tr>\n",
       "      <th>3</th>\n",
       "      <td>(1500-2000]</td>\n",
       "      <td>3859</td>\n",
       "    </tr>\n",
       "    <tr>\n",
       "      <th>4</th>\n",
       "      <td>(2000-2500]</td>\n",
       "      <td>358</td>\n",
       "    </tr>\n",
       "    <tr>\n",
       "      <th>5</th>\n",
       "      <td>(2500-3000]</td>\n",
       "      <td>2067</td>\n",
       "    </tr>\n",
       "    <tr>\n",
       "      <th>6</th>\n",
       "      <td>(3000-3500]</td>\n",
       "      <td>105</td>\n",
       "    </tr>\n",
       "    <tr>\n",
       "      <th>7</th>\n",
       "      <td>(3500-4000]</td>\n",
       "      <td>1275</td>\n",
       "    </tr>\n",
       "  </tbody>\n",
       "</table>\n",
       "</div>"
      ],
      "text/plain": [
       "  amount_binned  loans_sum\n",
       "0       [0-500]       2080\n",
       "1    (500-1000]       1391\n",
       "2   (1000-1500]       1458\n",
       "3   (1500-2000]       3859\n",
       "4   (2000-2500]        358\n",
       "5   (2500-3000]       2067\n",
       "6   (3000-3500]        105\n",
       "7   (3500-4000]       1275"
      ]
     },
     "execution_count": 21,
     "metadata": {},
     "output_type": "execute_result"
    }
   ],
   "source": [
    "amount_df = pd.DataFrame.copy(df_loans.groupby('amount')\n",
    "         .agg(loans=pd.NamedAgg(column='loan', aggfunc='count'))\n",
    "         .reset_index()\n",
    ")\n",
    "\n",
    "# binning data by amount\n",
    "bin_labels = ['[0-500]', '(500-1000]','(1000-1500]','(1500-2000]',\n",
    "              '(2000-2500]','(2500-3000]','(3000-3500]','(3500-4000]',]\n",
    "amount_df['amount_binned'] = pd.qcut(x=amount_df.index, q=8, labels=bin_labels) \n",
    "\n",
    "# get bins sum\n",
    "amount_df = (amount_df.groupby('amount_binned')\n",
    "         .agg(loans_sum=pd.NamedAgg(column='loans', aggfunc='sum'))\n",
    "         .reset_index()\n",
    ")\n",
    "\n",
    "amount_df"
   ]
  },
  {
   "cell_type": "code",
   "execution_count": 22,
   "metadata": {
    "scrolled": true
   },
   "outputs": [
    {
     "data": {
      "image/png": "[encoded data removed]",
      "text/plain": [
       "<Figure size 720x360 with 1 Axes>"
      ]
     },
     "metadata": {
      "needs_background": "light"
     },
     "output_type": "display_data"
    }
   ],
   "source": [
    "# plot diagram\n",
    "plt.figure(figsize=(10,5))\n",
    "ax = sns.barplot(x=\"amount_binned\", y=\"loans_sum\", data=amount_df, ci=None)\n",
    "plt.title('Loan`s amount distribution')\n",
    "plt.show()"
   ]
  },
  {
   "cell_type": "code",
   "execution_count": 23,
   "metadata": {},
   "outputs": [
    {
     "data": {
      "image/png": "[encoded data removed]",
      "text/plain": [
       "<Figure size 720x360 with 1 Axes>"
      ]
     },
     "metadata": {
      "needs_background": "light"
     },
     "output_type": "display_data"
    }
   ],
   "source": [
    "amount_df2 = (\n",
    "    df_loans.groupby('amount')\n",
    "    .agg(loans=pd.NamedAgg(column='loan', aggfunc='count'))\n",
    "    .reset_index()\n",
    ")\n",
    "\n",
    "# binning data by amount\n",
    "cut_labels_4 = ['[0-500]', '(500-1000]','(1000-1500]','(1500-2000]','(2000-3000]','(3000-4000]']\n",
    "cut_bins = [0, 500, 1000, 1500, 2000, 3000, 4000]\n",
    "amount_df2['amount_binned'] = pd.cut(amount_df2['amount'], bins=cut_bins, labels=cut_labels_4)\n",
    "\n",
    "amount_df2 = (amount_df2.groupby('amount_binned')\n",
    "         .agg(loans_sum=pd.NamedAgg(column='loans', aggfunc='sum'))\n",
    "         .reset_index()\n",
    ")\n",
    "\n",
    "\n",
    "# plot diagram\n",
    "plt.figure(figsize=(10,5))\n",
    "ax = sns.barplot(x=\"amount_binned\", y=\"loans_sum\", data=amount_df2, ci=None, zorder=2)\n",
    "plt.title('Loan`s amount distribution')\n",
    "plt.grid(True)\n",
    "plt.show()"
   ]
  },
  {
   "cell_type": "markdown",
   "metadata": {},
   "source": [
    "during preprocessing can cut amount by 4 or 6 bins \\\n",
    "4 -  ['0-1000','1100-2000','2100-3000','3100-4000'] \\\n",
    "6 - ['0-500', '500-1000','1100-1500','1600-2000','2100-3000','3100-4000']"
   ]
  },
  {
   "cell_type": "markdown",
   "metadata": {},
   "source": [
    "### Percantages by amount`s bins"
   ]
  },
  {
   "cell_type": "code",
   "execution_count": 24,
   "metadata": {},
   "outputs": [
    {
     "data": {
      "text/html": [
       "<div>\n",
       "<style scoped>\n",
       "    .dataframe tbody tr th:only-of-type {\n",
       "        vertical-align: middle;\n",
       "    }\n",
       "\n",
       "    .dataframe tbody tr th {\n",
       "        vertical-align: top;\n",
       "    }\n",
       "\n",
       "    .dataframe thead th {\n",
       "        text-align: right;\n",
       "    }\n",
       "</style>\n",
       "<table border=\"1\" class=\"dataframe\">\n",
       "  <thead>\n",
       "    <tr style=\"text-align: right;\">\n",
       "      <th></th>\n",
       "      <th>amount</th>\n",
       "      <th>bad</th>\n",
       "      <th>amount_binned</th>\n",
       "    </tr>\n",
       "  </thead>\n",
       "  <tbody>\n",
       "    <tr>\n",
       "      <th>1</th>\n",
       "      <td>700.0</td>\n",
       "      <td>False</td>\n",
       "      <td>[0-1000]</td>\n",
       "    </tr>\n",
       "    <tr>\n",
       "      <th>2</th>\n",
       "      <td>2000.0</td>\n",
       "      <td>False</td>\n",
       "      <td>(1000-2000]</td>\n",
       "    </tr>\n",
       "    <tr>\n",
       "      <th>3</th>\n",
       "      <td>700.0</td>\n",
       "      <td>False</td>\n",
       "      <td>[0-1000]</td>\n",
       "    </tr>\n",
       "    <tr>\n",
       "      <th>4</th>\n",
       "      <td>2300.0</td>\n",
       "      <td>False</td>\n",
       "      <td>(2000-4000]</td>\n",
       "    </tr>\n",
       "    <tr>\n",
       "      <th>5</th>\n",
       "      <td>3000.0</td>\n",
       "      <td>False</td>\n",
       "      <td>(2000-4000]</td>\n",
       "    </tr>\n",
       "  </tbody>\n",
       "</table>\n",
       "</div>"
      ],
      "text/plain": [
       "   amount    bad amount_binned\n",
       "1   700.0  False      [0-1000]\n",
       "2  2000.0  False   (1000-2000]\n",
       "3   700.0  False      [0-1000]\n",
       "4  2300.0  False   (2000-4000]\n",
       "5  3000.0  False   (2000-4000]"
      ]
     },
     "execution_count": 24,
     "metadata": {},
     "output_type": "execute_result"
    }
   ],
   "source": [
    "binning_by_amount_df = df_loans[['amount', 'bad']].copy()\n",
    "\n",
    "cut_labels_4 = ['[0-1000]','(1000-2000]','(2000-4000]']\n",
    "cut_bins = [0, 1000, 2000, 4000]\n",
    "\n",
    "binning_by_amount_df['amount_binned'] = pd.cut(binning_by_amount_df['amount'], bins=cut_bins, labels=cut_labels_4)\n",
    "binning_by_amount_df.head()"
   ]
  },
  {
   "cell_type": "code",
   "execution_count": 25,
   "metadata": {},
   "outputs": [
    {
     "data": {
      "text/html": [
       "<div>\n",
       "<style scoped>\n",
       "    .dataframe tbody tr th:only-of-type {\n",
       "        vertical-align: middle;\n",
       "    }\n",
       "\n",
       "    .dataframe tbody tr th {\n",
       "        vertical-align: top;\n",
       "    }\n",
       "\n",
       "    .dataframe thead th {\n",
       "        text-align: right;\n",
       "    }\n",
       "</style>\n",
       "<table border=\"1\" class=\"dataframe\">\n",
       "  <thead>\n",
       "    <tr style=\"text-align: right;\">\n",
       "      <th></th>\n",
       "      <th>amount_binned</th>\n",
       "      <th>bad_rate</th>\n",
       "    </tr>\n",
       "  </thead>\n",
       "  <tbody>\n",
       "    <tr>\n",
       "      <th>0</th>\n",
       "      <td>[0-1000]</td>\n",
       "      <td>23.624316</td>\n",
       "    </tr>\n",
       "    <tr>\n",
       "      <th>1</th>\n",
       "      <td>(1000-2000]</td>\n",
       "      <td>26.951288</td>\n",
       "    </tr>\n",
       "    <tr>\n",
       "      <th>2</th>\n",
       "      <td>(2000-4000]</td>\n",
       "      <td>22.812089</td>\n",
       "    </tr>\n",
       "  </tbody>\n",
       "</table>\n",
       "</div>"
      ],
      "text/plain": [
       "  amount_binned   bad_rate\n",
       "0      [0-1000]  23.624316\n",
       "1   (1000-2000]  26.951288\n",
       "2   (2000-4000]  22.812089"
      ]
     },
     "execution_count": 25,
     "metadata": {},
     "output_type": "execute_result"
    }
   ],
   "source": [
    "binning_by_amount_df.drop('amount' , axis = 1, inplace = True)\n",
    "\n",
    "# create two dataframe to calculate percentage\n",
    "d1 = pd.DataFrame.copy(binning_by_amount_df[binning_by_amount_df['bad']].groupby('amount_binned')\n",
    "         .agg(bad_rate=pd.NamedAgg(column='bad', aggfunc='count'))\n",
    "         .reset_index()\n",
    ")\n",
    "\n",
    "d2 = pd.DataFrame.copy(binning_by_amount_df.groupby('amount_binned')\n",
    "         .agg(bad_rate=pd.NamedAgg(column='bad', aggfunc='count'))\n",
    "         .reset_index()\n",
    ")\n",
    "\n",
    "d1['bad_rate'] = 100/d2['bad_rate']*d1['bad_rate']\n",
    "d1"
   ]
  },
  {
   "cell_type": "code",
   "execution_count": 26,
   "metadata": {},
   "outputs": [
    {
     "data": {
      "text/html": [
       "<div>\n",
       "<style scoped>\n",
       "    .dataframe tbody tr th:only-of-type {\n",
       "        vertical-align: middle;\n",
       "    }\n",
       "\n",
       "    .dataframe tbody tr th {\n",
       "        vertical-align: top;\n",
       "    }\n",
       "\n",
       "    .dataframe thead th {\n",
       "        text-align: right;\n",
       "    }\n",
       "</style>\n",
       "<table border=\"1\" class=\"dataframe\">\n",
       "  <thead>\n",
       "    <tr style=\"text-align: right;\">\n",
       "      <th></th>\n",
       "      <th>status</th>\n",
       "      <th>amount_binned</th>\n",
       "    </tr>\n",
       "  </thead>\n",
       "  <tbody>\n",
       "    <tr>\n",
       "      <th>1</th>\n",
       "      <td>CLOSED</td>\n",
       "      <td>500-1000</td>\n",
       "    </tr>\n",
       "    <tr>\n",
       "      <th>2</th>\n",
       "      <td>CLOSED</td>\n",
       "      <td>1600-2000</td>\n",
       "    </tr>\n",
       "    <tr>\n",
       "      <th>3</th>\n",
       "      <td>CLOSED</td>\n",
       "      <td>500-1000</td>\n",
       "    </tr>\n",
       "    <tr>\n",
       "      <th>4</th>\n",
       "      <td>CLOSED</td>\n",
       "      <td>2100-3000</td>\n",
       "    </tr>\n",
       "    <tr>\n",
       "      <th>5</th>\n",
       "      <td>CLOSED</td>\n",
       "      <td>2100-3000</td>\n",
       "    </tr>\n",
       "  </tbody>\n",
       "</table>\n",
       "</div>"
      ],
      "text/plain": [
       "   status amount_binned\n",
       "1  CLOSED      500-1000\n",
       "2  CLOSED     1600-2000\n",
       "3  CLOSED      500-1000\n",
       "4  CLOSED     2100-3000\n",
       "5  CLOSED     2100-3000"
      ]
     },
     "execution_count": 26,
     "metadata": {},
     "output_type": "execute_result"
    }
   ],
   "source": [
    "binning_by_amount_df = pd.DataFrame.copy(df_loans[['amount', 'status']])\n",
    "\n",
    "# binning data by amount\n",
    "cut_labels_4 = ['0-500', '500-1000','1100-1500','1600-2000','2100-3000','3600-4000']\n",
    "cut_bins = [0, 500, 1000, 1500, 2000, 3000, 4000]\n",
    "binning_by_amount_df['amount_binned'] = pd.cut(binning_by_amount_df['amount'], bins=cut_bins, labels=cut_labels_4)\n",
    "\n",
    "binning_by_amount_df.drop('amount' , axis = 1, inplace = True)\n",
    "\n",
    "binning_by_amount_df.head()"
   ]
  },
  {
   "cell_type": "code",
   "execution_count": 27,
   "metadata": {
    "scrolled": true
   },
   "outputs": [
    {
     "data": {
      "text/html": [
       "<div>\n",
       "<style scoped>\n",
       "    .dataframe tbody tr th:only-of-type {\n",
       "        vertical-align: middle;\n",
       "    }\n",
       "\n",
       "    .dataframe tbody tr th {\n",
       "        vertical-align: top;\n",
       "    }\n",
       "\n",
       "    .dataframe thead th {\n",
       "        text-align: right;\n",
       "    }\n",
       "</style>\n",
       "<table border=\"1\" class=\"dataframe\">\n",
       "  <thead>\n",
       "    <tr style=\"text-align: right;\">\n",
       "      <th></th>\n",
       "      <th>amount_binned</th>\n",
       "      <th>closed_persent</th>\n",
       "    </tr>\n",
       "  </thead>\n",
       "  <tbody>\n",
       "    <tr>\n",
       "      <th>0</th>\n",
       "      <td>0-500</td>\n",
       "      <td>74.230769</td>\n",
       "    </tr>\n",
       "    <tr>\n",
       "      <th>1</th>\n",
       "      <td>500-1000</td>\n",
       "      <td>76.419842</td>\n",
       "    </tr>\n",
       "    <tr>\n",
       "      <th>2</th>\n",
       "      <td>1100-1500</td>\n",
       "      <td>73.388203</td>\n",
       "    </tr>\n",
       "    <tr>\n",
       "      <th>3</th>\n",
       "      <td>1600-2000</td>\n",
       "      <td>69.370303</td>\n",
       "    </tr>\n",
       "    <tr>\n",
       "      <th>4</th>\n",
       "      <td>2100-3000</td>\n",
       "      <td>72.577320</td>\n",
       "    </tr>\n",
       "    <tr>\n",
       "      <th>5</th>\n",
       "      <td>3600-4000</td>\n",
       "      <td>74.347826</td>\n",
       "    </tr>\n",
       "  </tbody>\n",
       "</table>\n",
       "</div>"
      ],
      "text/plain": [
       "  amount_binned  closed_persent\n",
       "0         0-500       74.230769\n",
       "1      500-1000       76.419842\n",
       "2     1100-1500       73.388203\n",
       "3     1600-2000       69.370303\n",
       "4     2100-3000       72.577320\n",
       "5     3600-4000       74.347826"
      ]
     },
     "execution_count": 27,
     "metadata": {},
     "output_type": "execute_result"
    }
   ],
   "source": [
    "# Percents by another binning\n",
    "\n",
    "d1 = pd.DataFrame.copy(binning_by_amount_df[binning_by_amount_df['status']=='CLOSED'].groupby('amount_binned')\n",
    "         .agg(closed_persent=pd.NamedAgg(column='status', aggfunc='count'))\n",
    "         .reset_index()\n",
    ")\n",
    "\n",
    "d2 = pd.DataFrame.copy(binning_by_amount_df.groupby('amount_binned')\n",
    "         .agg(closed_persent=pd.NamedAgg(column='status', aggfunc='count'))\n",
    "         .reset_index()\n",
    ")\n",
    "\n",
    "d1['closed_persent'] = 100/d2['closed_persent']*d1['closed_persent']\n",
    "d1"
   ]
  },
  {
   "cell_type": "markdown",
   "metadata": {},
   "source": [
    "#### conclusion\n",
    "with the growth of amount value , the percentage of the probability of closing a loan decreases\\\n",
    "but when people were getting the maximum amount, probability  of closing was increasing \\\n"
   ]
  },
  {
   "cell_type": "markdown",
   "metadata": {},
   "source": [
    "##### during preprocessing set 3 bins of amount value"
   ]
  },
  {
   "cell_type": "code",
   "execution_count": 28,
   "metadata": {},
   "outputs": [
    {
     "data": {
      "text/html": [
       "<div>\n",
       "<style scoped>\n",
       "    .dataframe tbody tr th:only-of-type {\n",
       "        vertical-align: middle;\n",
       "    }\n",
       "\n",
       "    .dataframe tbody tr th {\n",
       "        vertical-align: top;\n",
       "    }\n",
       "\n",
       "    .dataframe thead th {\n",
       "        text-align: right;\n",
       "    }\n",
       "</style>\n",
       "<table border=\"1\" class=\"dataframe\">\n",
       "  <thead>\n",
       "    <tr style=\"text-align: right;\">\n",
       "      <th></th>\n",
       "      <th>amount_100_count</th>\n",
       "    </tr>\n",
       "    <tr>\n",
       "      <th>begin_month</th>\n",
       "      <th></th>\n",
       "    </tr>\n",
       "  </thead>\n",
       "  <tbody>\n",
       "    <tr>\n",
       "      <th>2018-09</th>\n",
       "      <td>3</td>\n",
       "    </tr>\n",
       "    <tr>\n",
       "      <th>2018-10</th>\n",
       "      <td>240</td>\n",
       "    </tr>\n",
       "    <tr>\n",
       "      <th>2018-11</th>\n",
       "      <td>166</td>\n",
       "    </tr>\n",
       "    <tr>\n",
       "      <th>2019-05</th>\n",
       "      <td>1</td>\n",
       "    </tr>\n",
       "  </tbody>\n",
       "</table>\n",
       "</div>"
      ],
      "text/plain": [
       "             amount_100_count\n",
       "begin_month                  \n",
       "2018-09                     3\n",
       "2018-10                   240\n",
       "2018-11                   166\n",
       "2019-05                     1"
      ]
     },
     "metadata": {},
     "output_type": "display_data"
    },
    {
     "data": {
      "text/html": [
       "<div>\n",
       "<style scoped>\n",
       "    .dataframe tbody tr th:only-of-type {\n",
       "        vertical-align: middle;\n",
       "    }\n",
       "\n",
       "    .dataframe tbody tr th {\n",
       "        vertical-align: top;\n",
       "    }\n",
       "\n",
       "    .dataframe thead th {\n",
       "        text-align: right;\n",
       "    }\n",
       "</style>\n",
       "<table border=\"1\" class=\"dataframe\">\n",
       "  <thead>\n",
       "    <tr style=\"text-align: right;\">\n",
       "      <th></th>\n",
       "      <th>amount_500_count</th>\n",
       "    </tr>\n",
       "    <tr>\n",
       "      <th>begin_month</th>\n",
       "      <th></th>\n",
       "    </tr>\n",
       "  </thead>\n",
       "  <tbody>\n",
       "    <tr>\n",
       "      <th>2018-06</th>\n",
       "      <td>3</td>\n",
       "    </tr>\n",
       "    <tr>\n",
       "      <th>2018-07</th>\n",
       "      <td>24</td>\n",
       "    </tr>\n",
       "    <tr>\n",
       "      <th>2018-08</th>\n",
       "      <td>20</td>\n",
       "    </tr>\n",
       "    <tr>\n",
       "      <th>2018-09</th>\n",
       "      <td>10</td>\n",
       "    </tr>\n",
       "    <tr>\n",
       "      <th>2018-10</th>\n",
       "      <td>8</td>\n",
       "    </tr>\n",
       "    <tr>\n",
       "      <th>2018-11</th>\n",
       "      <td>29</td>\n",
       "    </tr>\n",
       "    <tr>\n",
       "      <th>2018-12</th>\n",
       "      <td>22</td>\n",
       "    </tr>\n",
       "    <tr>\n",
       "      <th>2019-01</th>\n",
       "      <td>14</td>\n",
       "    </tr>\n",
       "    <tr>\n",
       "      <th>2019-02</th>\n",
       "      <td>819</td>\n",
       "    </tr>\n",
       "    <tr>\n",
       "      <th>2019-03</th>\n",
       "      <td>267</td>\n",
       "    </tr>\n",
       "    <tr>\n",
       "      <th>2019-04</th>\n",
       "      <td>30</td>\n",
       "    </tr>\n",
       "    <tr>\n",
       "      <th>2019-05</th>\n",
       "      <td>28</td>\n",
       "    </tr>\n",
       "    <tr>\n",
       "      <th>2019-06</th>\n",
       "      <td>24</td>\n",
       "    </tr>\n",
       "    <tr>\n",
       "      <th>2019-07</th>\n",
       "      <td>50</td>\n",
       "    </tr>\n",
       "    <tr>\n",
       "      <th>2019-08</th>\n",
       "      <td>44</td>\n",
       "    </tr>\n",
       "    <tr>\n",
       "      <th>2019-09</th>\n",
       "      <td>25</td>\n",
       "    </tr>\n",
       "    <tr>\n",
       "      <th>2019-10</th>\n",
       "      <td>22</td>\n",
       "    </tr>\n",
       "    <tr>\n",
       "      <th>2019-11</th>\n",
       "      <td>24</td>\n",
       "    </tr>\n",
       "    <tr>\n",
       "      <th>2019-12</th>\n",
       "      <td>28</td>\n",
       "    </tr>\n",
       "  </tbody>\n",
       "</table>\n",
       "</div>"
      ],
      "text/plain": [
       "             amount_500_count\n",
       "begin_month                  \n",
       "2018-06                     3\n",
       "2018-07                    24\n",
       "2018-08                    20\n",
       "2018-09                    10\n",
       "2018-10                     8\n",
       "2018-11                    29\n",
       "2018-12                    22\n",
       "2019-01                    14\n",
       "2019-02                   819\n",
       "2019-03                   267\n",
       "2019-04                    30\n",
       "2019-05                    28\n",
       "2019-06                    24\n",
       "2019-07                    50\n",
       "2019-08                    44\n",
       "2019-09                    25\n",
       "2019-10                    22\n",
       "2019-11                    24\n",
       "2019-12                    28"
      ]
     },
     "metadata": {},
     "output_type": "display_data"
    }
   ],
   "source": [
    "# Drop loans granted under special conditions to strange clients (special test projects)\n",
    "\n",
    "display(df_loans[df_loans['amount'] == 100]\n",
    " .assign(begin_month = lambda r: r['begin_date'].dt.strftime('%Y-%m'))\n",
    " .groupby('begin_month')\n",
    " .aggregate(amount_100_count=pd.NamedAgg('amount', 'count'))\n",
    ")\n",
    "\n",
    "display(df_loans[df_loans['amount'] == 500]\n",
    " .assign(begin_month = lambda r: r['begin_date'].dt.strftime('%Y-%m'))\n",
    " .groupby('begin_month')\n",
    " .aggregate(amount_500_count=pd.NamedAgg('amount', 'count'))\n",
    ")"
   ]
  },
  {
   "cell_type": "markdown",
   "metadata": {},
   "source": [
    "<u>Thoughts</u>\n",
    "    \n",
    "- 100 UAH loans can be more or less easily discovered and dropped;\n",
    "- 500 UAH loans mostly where granted in February 2019 and partialy March 2019 during some test project but there other 500 UAH loans that where taken by customers regardless any projects;\n",
    "- to correctly identify such 500 UAH loans one should merge aplllications and loans data and identify loans where loan amount is lower than application amount."
   ]
  },
  {
   "cell_type": "code",
   "execution_count": 29,
   "metadata": {},
   "outputs": [],
   "source": [
    "df_loans.to_csv('../data/interim/int_loans.csv', index=False)"
   ]
  },
  {
   "cell_type": "code",
   "execution_count": null,
   "metadata": {},
   "outputs": [],
   "source": []
  }
 ],
 "metadata": {
  "kernelspec": {
   "display_name": "Python 3",
   "language": "python",
   "name": "python3"
  },
  "language_info": {
   "codemirror_mode": {
    "name": "ipython",
    "version": 3
   },
   "file_extension": ".py",
   "mimetype": "text/x-python",
   "name": "python",
   "nbconvert_exporter": "python",
   "pygments_lexer": "ipython3",
   "version": "3.8.2"
  }
 },
 "nbformat": 4,
 "nbformat_minor": 4
}
