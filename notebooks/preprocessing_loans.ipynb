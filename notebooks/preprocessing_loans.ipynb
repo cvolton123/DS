{
 "cells": [
  {
   "cell_type": "code",
   "execution_count": 1,
   "metadata": {},
   "outputs": [],
   "source": [
    "import pandas as pd\n",
    "import numpy as np\n",
    "\n",
    "import seaborn\n",
    "import matplotlib.pyplot as plt\n",
    "import seaborn as sns\n",
    "\n",
    "from datetime import datetime\n",
    "\n",
    "from sklearn.preprocessing import LabelEncoder\n",
    "from sklearn.preprocessing import normalize"
   ]
  },
  {
   "cell_type": "code",
   "execution_count": 3,
   "metadata": {
    "scrolled": true
   },
   "outputs": [
    {
     "data": {
      "text/html": [
       "<div>\n",
       "<style scoped>\n",
       "    .dataframe tbody tr th:only-of-type {\n",
       "        vertical-align: middle;\n",
       "    }\n",
       "\n",
       "    .dataframe tbody tr th {\n",
       "        vertical-align: top;\n",
       "    }\n",
       "\n",
       "    .dataframe thead th {\n",
       "        text-align: right;\n",
       "    }\n",
       "</style>\n",
       "<table border=\"1\" class=\"dataframe\">\n",
       "  <thead>\n",
       "    <tr style=\"text-align: right;\">\n",
       "      <th></th>\n",
       "      <th>Unnamed: 0</th>\n",
       "      <th>profile_id</th>\n",
       "      <th>business_key</th>\n",
       "      <th>start_time</th>\n",
       "      <th>end_time</th>\n",
       "      <th>app_status_code</th>\n",
       "      <th>credit_term</th>\n",
       "      <th>credit_amount</th>\n",
       "      <th>know_source</th>\n",
       "      <th>loan_purpose</th>\n",
       "      <th>...</th>\n",
       "      <th>emp_position</th>\n",
       "      <th>income</th>\n",
       "      <th>income_period</th>\n",
       "      <th>income_source</th>\n",
       "      <th>income_next</th>\n",
       "      <th>exp_loans</th>\n",
       "      <th>cp_relation</th>\n",
       "      <th>app_rank</th>\n",
       "      <th>mphone_code</th>\n",
       "      <th>cp_phone_code</th>\n",
       "    </tr>\n",
       "  </thead>\n",
       "  <tbody>\n",
       "    <tr>\n",
       "      <th>0</th>\n",
       "      <td>1</td>\n",
       "      <td>4943</td>\n",
       "      <td>d4a7c58a-8cff-4985-a6f5-87dcfb683326</td>\n",
       "      <td>2018-05-31 17:57:51</td>\n",
       "      <td>2018-06-01 04:47:52</td>\n",
       "      <td>REJECT</td>\n",
       "      <td>26</td>\n",
       "      <td>1700</td>\n",
       "      <td>SEARCH</td>\n",
       "      <td>HEALTH</td>\n",
       "      <td>...</td>\n",
       "      <td>NaN</td>\n",
       "      <td>8000.0</td>\n",
       "      <td>TWO_TPM</td>\n",
       "      <td>HUSBAND_WIFE_WORKS</td>\n",
       "      <td>2018-06-07</td>\n",
       "      <td>0.0</td>\n",
       "      <td>SIBLINGS</td>\n",
       "      <td>1</td>\n",
       "      <td>68</td>\n",
       "      <td>95.0</td>\n",
       "    </tr>\n",
       "    <tr>\n",
       "      <th>1</th>\n",
       "      <td>2</td>\n",
       "      <td>4984</td>\n",
       "      <td>a1de058f-d232-41bf-ac56-b730c8d4735e</td>\n",
       "      <td>2018-06-01 00:58:08</td>\n",
       "      <td>2018-06-01 01:36:23</td>\n",
       "      <td>REJECT</td>\n",
       "      <td>22</td>\n",
       "      <td>800</td>\n",
       "      <td>BANNER</td>\n",
       "      <td>REPAIR</td>\n",
       "      <td>...</td>\n",
       "      <td>Кравець</td>\n",
       "      <td>5800.0</td>\n",
       "      <td>MONTHLY</td>\n",
       "      <td>NaN</td>\n",
       "      <td>2018-06-09</td>\n",
       "      <td>0.0</td>\n",
       "      <td>NaN</td>\n",
       "      <td>1</td>\n",
       "      <td>50</td>\n",
       "      <td>NaN</td>\n",
       "    </tr>\n",
       "    <tr>\n",
       "      <th>2</th>\n",
       "      <td>3</td>\n",
       "      <td>4992</td>\n",
       "      <td>ea0f94f7-a50a-4191-875b-b55bde431f91</td>\n",
       "      <td>2018-06-01 02:39:49</td>\n",
       "      <td>2018-06-01 17:25:33</td>\n",
       "      <td>REJECT</td>\n",
       "      <td>15</td>\n",
       "      <td>1500</td>\n",
       "      <td>SEARCH</td>\n",
       "      <td>OTHER</td>\n",
       "      <td>...</td>\n",
       "      <td>Зварювальник</td>\n",
       "      <td>10000.0</td>\n",
       "      <td>TWO_TPM</td>\n",
       "      <td>NaN</td>\n",
       "      <td>2018-06-10</td>\n",
       "      <td>650.0</td>\n",
       "      <td>NaN</td>\n",
       "      <td>1</td>\n",
       "      <td>93</td>\n",
       "      <td>67.0</td>\n",
       "    </tr>\n",
       "    <tr>\n",
       "      <th>3</th>\n",
       "      <td>4</td>\n",
       "      <td>4995</td>\n",
       "      <td>22dd6c3a-4cf0-429e-93d6-dfbcd8d2654e</td>\n",
       "      <td>2018-06-01 03:01:27</td>\n",
       "      <td>2018-06-01 03:12:57</td>\n",
       "      <td>REJECT</td>\n",
       "      <td>7</td>\n",
       "      <td>700</td>\n",
       "      <td>FRIENDS</td>\n",
       "      <td>HEALTH</td>\n",
       "      <td>...</td>\n",
       "      <td>Керівник</td>\n",
       "      <td>18000.0</td>\n",
       "      <td>MONTHLY</td>\n",
       "      <td>NaN</td>\n",
       "      <td>2018-06-06</td>\n",
       "      <td>1500.0</td>\n",
       "      <td>RELATIVES</td>\n",
       "      <td>1</td>\n",
       "      <td>50</td>\n",
       "      <td>96.0</td>\n",
       "    </tr>\n",
       "    <tr>\n",
       "      <th>4</th>\n",
       "      <td>5</td>\n",
       "      <td>4724</td>\n",
       "      <td>0e05eff2-997d-4b6a-950d-cc46a2982599</td>\n",
       "      <td>2018-06-01 06:16:55</td>\n",
       "      <td>2018-06-01 06:30:18</td>\n",
       "      <td>REJECT</td>\n",
       "      <td>28</td>\n",
       "      <td>2000</td>\n",
       "      <td>SEARCH</td>\n",
       "      <td>SMALLP</td>\n",
       "      <td>...</td>\n",
       "      <td>Водій</td>\n",
       "      <td>5000.0</td>\n",
       "      <td>TWO_TPM</td>\n",
       "      <td>NaN</td>\n",
       "      <td>2018-06-15</td>\n",
       "      <td>0.0</td>\n",
       "      <td>RELATIVES</td>\n",
       "      <td>1</td>\n",
       "      <td>50</td>\n",
       "      <td>98.0</td>\n",
       "    </tr>\n",
       "  </tbody>\n",
       "</table>\n",
       "<p>5 rows × 30 columns</p>\n",
       "</div>"
      ],
      "text/plain": [
       "   Unnamed: 0  profile_id                          business_key  \\\n",
       "0           1        4943  d4a7c58a-8cff-4985-a6f5-87dcfb683326   \n",
       "1           2        4984  a1de058f-d232-41bf-ac56-b730c8d4735e   \n",
       "2           3        4992  ea0f94f7-a50a-4191-875b-b55bde431f91   \n",
       "3           4        4995  22dd6c3a-4cf0-429e-93d6-dfbcd8d2654e   \n",
       "4           5        4724  0e05eff2-997d-4b6a-950d-cc46a2982599   \n",
       "\n",
       "            start_time             end_time app_status_code  credit_term  \\\n",
       "0  2018-05-31 17:57:51  2018-06-01 04:47:52          REJECT           26   \n",
       "1  2018-06-01 00:58:08  2018-06-01 01:36:23          REJECT           22   \n",
       "2  2018-06-01 02:39:49  2018-06-01 17:25:33          REJECT           15   \n",
       "3  2018-06-01 03:01:27  2018-06-01 03:12:57          REJECT            7   \n",
       "4  2018-06-01 06:16:55  2018-06-01 06:30:18          REJECT           28   \n",
       "\n",
       "   credit_amount know_source loan_purpose  ...  emp_position   income  \\\n",
       "0           1700      SEARCH       HEALTH  ...           NaN   8000.0   \n",
       "1            800      BANNER       REPAIR  ...       Кравець   5800.0   \n",
       "2           1500      SEARCH        OTHER  ...  Зварювальник  10000.0   \n",
       "3            700     FRIENDS       HEALTH  ...      Керівник  18000.0   \n",
       "4           2000      SEARCH       SMALLP  ...         Водій   5000.0   \n",
       "\n",
       "  income_period       income_source income_next exp_loans cp_relation  \\\n",
       "0       TWO_TPM  HUSBAND_WIFE_WORKS  2018-06-07       0.0    SIBLINGS   \n",
       "1       MONTHLY                 NaN  2018-06-09       0.0         NaN   \n",
       "2       TWO_TPM                 NaN  2018-06-10     650.0         NaN   \n",
       "3       MONTHLY                 NaN  2018-06-06    1500.0   RELATIVES   \n",
       "4       TWO_TPM                 NaN  2018-06-15       0.0   RELATIVES   \n",
       "\n",
       "   app_rank mphone_code cp_phone_code  \n",
       "0         1          68          95.0  \n",
       "1         1          50           NaN  \n",
       "2         1          93          67.0  \n",
       "3         1          50          96.0  \n",
       "4         1          50          98.0  \n",
       "\n",
       "[5 rows x 30 columns]"
      ]
     },
     "execution_count": 3,
     "metadata": {},
     "output_type": "execute_result"
    }
   ],
   "source": [
    "# load data\n",
    "\n",
    "df_app = pd.read_csv('../data/raw/dr_applications.csv')\n",
    "df_loans = pd.read_csv('../data/raw/dr_loans.csv')\n",
    "\n",
    "df_app.head(5)"
   ]
  },
  {
   "cell_type": "markdown",
   "metadata": {},
   "source": [
    "'Unnamed: 0'- номер записи в таблице\\\n",
    "'profile_id'- уникальный id профиля клиента в системе\\\n",
    "'business_key'- id процесса подачи заявки на получение кредита;\\\n",
    "'start_time'- начало заполнения заявки\\\n",
    "'end_time'- окончание процесса заполнения заявки\\\n",
    "'app_status_code'- итоговый статус кредитной заявки: CCANCEL – заявка согласована но клиент отказался от получения кредита, LOAN – заявка согласована и кредит выдан, REJECT – по заявке предоставлен отказ;\\\n",
    "'credit_term'- запрошенный клиентом срок кредита\\\n",
    "'credit_amount'-запрошенная клиентом сумма кредита (в разные периода действовало разное ограничение на максимальную сумму кредита);\\\n",
    "'know_source'- откуда клиент узнал о кредите: BANNER – баннер в Интернет, BOARD – бигборд на улице, FORUM – форум в Интернет, FRIENDS, OTHER, PRESS - пресса, SEARCH – поиск в Интернет, SN – социальные сети; \\\n",
    "'loan_purpose'- цель кредита: BIGP – большая покупка, DEBT – погашение других долгов, SMALLP – мелкая покупка, остальное должно быть понятно из названия категорий;\\\n",
    "'passport_type'-\\\n",
    "'social_status'-социальный статус: MATERNITY – декретный отпуск, NONE – без социального статуса, PENSIONER – пенсионер, SOCIAL_BENEFITS – получает социальные выплаты, STUDENT – студент;\\\n",
    "'education'-education – уровень образования :незаконченное среднее - USCH, среднее - SCH, среднее-специальное - SSCH, незаконченное высшее - UHIGH, высшее - HIGН, учёная степень DEGREE;\\\n",
    "'faculty'- факультет\\\n",
    "'birthday'- дата рождения;\\\n",
    "'gender'- пол;\\\n",
    "'family_status'- семейный статус\\\n",
    "'children16'- количество детей в возрасте до 18 лет;\\\n",
    "'liv_equal'- адрес регистрации и проживания совпадают;\\\n",
    "'emp_type'- вид занятости\\\n",
    "'emp_position'- должность;\\\n",
    "'income'- сумма дохода;\\\n",
    "'income_period'- период получения дохода\\\n",
    "'income_source'- источник получения дохода\\\n",
    "'income_next'- дата следующего дохода;\\\n",
    "'exp_loans'- платежи по действующим кредитам;\\\n",
    "'cp_relation'- тип связи с контактным лицом\\\n",
    "'app_rank'-\\\n",
    "'mphone_code'-\\\n",
    "'cp_phone_code'-\\"
   ]
  },
  {
   "cell_type": "code",
   "execution_count": 147,
   "metadata": {},
   "outputs": [
    {
     "data": {
      "text/plain": [
       "profile_id\n",
       "753344     24\n",
       "232        20\n",
       "191250     19\n",
       "369        15\n",
       "210648     14\n",
       "           ..\n",
       "388698      1\n",
       "388711      1\n",
       "388801      1\n",
       "388969      1\n",
       "1151796     1\n",
       "Name: profile_id, Length: 8743, dtype: int64"
      ]
     },
     "execution_count": 147,
     "metadata": {},
     "output_type": "execute_result"
    }
   ],
   "source": [
    "df_loans.groupby('profile_id')['profile_id'].aggregate('count').sort_values(ascending=False)"
   ]
  },
  {
   "cell_type": "code",
   "execution_count": 151,
   "metadata": {},
   "outputs": [
    {
     "data": {
      "text/html": [
       "<div>\n",
       "<style scoped>\n",
       "    .dataframe tbody tr th:only-of-type {\n",
       "        vertical-align: middle;\n",
       "    }\n",
       "\n",
       "    .dataframe tbody tr th {\n",
       "        vertical-align: top;\n",
       "    }\n",
       "\n",
       "    .dataframe thead th {\n",
       "        text-align: right;\n",
       "    }\n",
       "</style>\n",
       "<table border=\"1\" class=\"dataframe\">\n",
       "  <thead>\n",
       "    <tr style=\"text-align: right;\">\n",
       "      <th></th>\n",
       "      <th>profile_id</th>\n",
       "      <th>app_id</th>\n",
       "      <th>loan</th>\n",
       "      <th>begin_date</th>\n",
       "      <th>end_date</th>\n",
       "      <th>amount</th>\n",
       "      <th>product</th>\n",
       "      <th>status</th>\n",
       "      <th>lodging_cnt</th>\n",
       "      <th>repayment_ratio</th>\n",
       "    </tr>\n",
       "  </thead>\n",
       "  <tbody>\n",
       "    <tr>\n",
       "      <th>11204</th>\n",
       "      <td>210648</td>\n",
       "      <td>150345</td>\n",
       "      <td>9055</td>\n",
       "      <td>2018-12-18</td>\n",
       "      <td>2019-01-11</td>\n",
       "      <td>1700.0</td>\n",
       "      <td>START</td>\n",
       "      <td>CLOSED</td>\n",
       "      <td>0</td>\n",
       "      <td>1.090</td>\n",
       "    </tr>\n",
       "    <tr>\n",
       "      <th>5099</th>\n",
       "      <td>210648</td>\n",
       "      <td>248376</td>\n",
       "      <td>11883</td>\n",
       "      <td>2019-02-15</td>\n",
       "      <td>2019-03-15</td>\n",
       "      <td>1800.0</td>\n",
       "      <td>START_11</td>\n",
       "      <td>CLOSED</td>\n",
       "      <td>0</td>\n",
       "      <td>1.486</td>\n",
       "    </tr>\n",
       "    <tr>\n",
       "      <th>3949</th>\n",
       "      <td>210648</td>\n",
       "      <td>351110</td>\n",
       "      <td>16572</td>\n",
       "      <td>2019-03-17</td>\n",
       "      <td>2019-04-14</td>\n",
       "      <td>2400.0</td>\n",
       "      <td>START_11</td>\n",
       "      <td>CLOSED</td>\n",
       "      <td>0</td>\n",
       "      <td>1.468</td>\n",
       "    </tr>\n",
       "    <tr>\n",
       "      <th>6733</th>\n",
       "      <td>210648</td>\n",
       "      <td>406619</td>\n",
       "      <td>18185</td>\n",
       "      <td>2019-04-17</td>\n",
       "      <td>2019-05-14</td>\n",
       "      <td>2500.0</td>\n",
       "      <td>START_11</td>\n",
       "      <td>CLOSED</td>\n",
       "      <td>0</td>\n",
       "      <td>1.486</td>\n",
       "    </tr>\n",
       "    <tr>\n",
       "      <th>4712</th>\n",
       "      <td>210648</td>\n",
       "      <td>474896</td>\n",
       "      <td>19830</td>\n",
       "      <td>2019-05-22</td>\n",
       "      <td>2019-06-16</td>\n",
       "      <td>2400.0</td>\n",
       "      <td>START_11</td>\n",
       "      <td>CLOSED</td>\n",
       "      <td>0</td>\n",
       "      <td>1.018</td>\n",
       "    </tr>\n",
       "    <tr>\n",
       "      <th>11317</th>\n",
       "      <td>210648</td>\n",
       "      <td>484011</td>\n",
       "      <td>20117</td>\n",
       "      <td>2019-05-27</td>\n",
       "      <td>2019-06-16</td>\n",
       "      <td>1100.0</td>\n",
       "      <td>START_11</td>\n",
       "      <td>CLOSED</td>\n",
       "      <td>0</td>\n",
       "      <td>1.306</td>\n",
       "    </tr>\n",
       "    <tr>\n",
       "      <th>10469</th>\n",
       "      <td>210648</td>\n",
       "      <td>549857</td>\n",
       "      <td>22339</td>\n",
       "      <td>2019-07-12</td>\n",
       "      <td>2019-08-15</td>\n",
       "      <td>700.0</td>\n",
       "      <td>START_11</td>\n",
       "      <td>CLOSED</td>\n",
       "      <td>1</td>\n",
       "      <td>1.594</td>\n",
       "    </tr>\n",
       "    <tr>\n",
       "      <th>5571</th>\n",
       "      <td>210648</td>\n",
       "      <td>609967</td>\n",
       "      <td>24142</td>\n",
       "      <td>2019-08-17</td>\n",
       "      <td>2019-09-15</td>\n",
       "      <td>1000.0</td>\n",
       "      <td>START_11</td>\n",
       "      <td>CLOSED</td>\n",
       "      <td>1</td>\n",
       "      <td>1.486</td>\n",
       "    </tr>\n",
       "    <tr>\n",
       "      <th>4873</th>\n",
       "      <td>210648</td>\n",
       "      <td>752764</td>\n",
       "      <td>30844</td>\n",
       "      <td>2019-11-22</td>\n",
       "      <td>2019-12-14</td>\n",
       "      <td>500.0</td>\n",
       "      <td>START_11</td>\n",
       "      <td>CLOSED</td>\n",
       "      <td>0</td>\n",
       "      <td>1.090</td>\n",
       "    </tr>\n",
       "    <tr>\n",
       "      <th>7518</th>\n",
       "      <td>210648</td>\n",
       "      <td>765812</td>\n",
       "      <td>31302</td>\n",
       "      <td>2019-11-29</td>\n",
       "      <td>2019-12-16</td>\n",
       "      <td>800.0</td>\n",
       "      <td>START_11</td>\n",
       "      <td>CLOSED</td>\n",
       "      <td>0</td>\n",
       "      <td>1.072</td>\n",
       "    </tr>\n",
       "    <tr>\n",
       "      <th>1264</th>\n",
       "      <td>210648</td>\n",
       "      <td>785666</td>\n",
       "      <td>32253</td>\n",
       "      <td>2019-12-10</td>\n",
       "      <td>2019-12-18</td>\n",
       "      <td>500.0</td>\n",
       "      <td>START_11</td>\n",
       "      <td>CLOSED</td>\n",
       "      <td>0</td>\n",
       "      <td>1.036</td>\n",
       "    </tr>\n",
       "    <tr>\n",
       "      <th>11923</th>\n",
       "      <td>210648</td>\n",
       "      <td>797349</td>\n",
       "      <td>32847</td>\n",
       "      <td>2019-12-17</td>\n",
       "      <td>2019-12-27</td>\n",
       "      <td>500.0</td>\n",
       "      <td>START_11</td>\n",
       "      <td>CLOSED</td>\n",
       "      <td>0</td>\n",
       "      <td>1.054</td>\n",
       "    </tr>\n",
       "    <tr>\n",
       "      <th>12264</th>\n",
       "      <td>210648</td>\n",
       "      <td>817564</td>\n",
       "      <td>33497</td>\n",
       "      <td>2019-12-29</td>\n",
       "      <td>2020-01-15</td>\n",
       "      <td>900.0</td>\n",
       "      <td>START_11</td>\n",
       "      <td>CLOSED</td>\n",
       "      <td>0</td>\n",
       "      <td>1.324</td>\n",
       "    </tr>\n",
       "    <tr>\n",
       "      <th>5799</th>\n",
       "      <td>210648</td>\n",
       "      <td>855791</td>\n",
       "      <td>34434</td>\n",
       "      <td>2020-01-20</td>\n",
       "      <td>2020-02-17</td>\n",
       "      <td>1300.0</td>\n",
       "      <td>START_11</td>\n",
       "      <td>CLOSED</td>\n",
       "      <td>0</td>\n",
       "      <td>1.432</td>\n",
       "    </tr>\n",
       "  </tbody>\n",
       "</table>\n",
       "</div>"
      ],
      "text/plain": [
       "       profile_id  app_id   loan  begin_date    end_date  amount   product  \\\n",
       "11204      210648  150345   9055  2018-12-18  2019-01-11  1700.0     START   \n",
       "5099       210648  248376  11883  2019-02-15  2019-03-15  1800.0  START_11   \n",
       "3949       210648  351110  16572  2019-03-17  2019-04-14  2400.0  START_11   \n",
       "6733       210648  406619  18185  2019-04-17  2019-05-14  2500.0  START_11   \n",
       "4712       210648  474896  19830  2019-05-22  2019-06-16  2400.0  START_11   \n",
       "11317      210648  484011  20117  2019-05-27  2019-06-16  1100.0  START_11   \n",
       "10469      210648  549857  22339  2019-07-12  2019-08-15   700.0  START_11   \n",
       "5571       210648  609967  24142  2019-08-17  2019-09-15  1000.0  START_11   \n",
       "4873       210648  752764  30844  2019-11-22  2019-12-14   500.0  START_11   \n",
       "7518       210648  765812  31302  2019-11-29  2019-12-16   800.0  START_11   \n",
       "1264       210648  785666  32253  2019-12-10  2019-12-18   500.0  START_11   \n",
       "11923      210648  797349  32847  2019-12-17  2019-12-27   500.0  START_11   \n",
       "12264      210648  817564  33497  2019-12-29  2020-01-15   900.0  START_11   \n",
       "5799       210648  855791  34434  2020-01-20  2020-02-17  1300.0  START_11   \n",
       "\n",
       "       status  lodging_cnt  repayment_ratio  \n",
       "11204  CLOSED            0            1.090  \n",
       "5099   CLOSED            0            1.486  \n",
       "3949   CLOSED            0            1.468  \n",
       "6733   CLOSED            0            1.486  \n",
       "4712   CLOSED            0            1.018  \n",
       "11317  CLOSED            0            1.306  \n",
       "10469  CLOSED            1            1.594  \n",
       "5571   CLOSED            1            1.486  \n",
       "4873   CLOSED            0            1.090  \n",
       "7518   CLOSED            0            1.072  \n",
       "1264   CLOSED            0            1.036  \n",
       "11923  CLOSED            0            1.054  \n",
       "12264  CLOSED            0            1.324  \n",
       "5799   CLOSED            0            1.432  "
      ]
     },
     "execution_count": 151,
     "metadata": {},
     "output_type": "execute_result"
    }
   ],
   "source": [
    "df_loans[df_loans['profile_id'] == 210648].sort_values('begin_date')"
   ]
  },
  {
   "cell_type": "code",
   "execution_count": 4,
   "metadata": {},
   "outputs": [
    {
     "data": {
      "text/plain": [
       "Unnamed: 0         153795\n",
       "profile_id         153795\n",
       "business_key       153795\n",
       "start_time         153795\n",
       "end_time           153795\n",
       "app_status_code    153795\n",
       "credit_term        153795\n",
       "credit_amount      153795\n",
       "know_source        153795\n",
       "loan_purpose       153795\n",
       "passport_type      153795\n",
       "social_status      153795\n",
       "education          153795\n",
       "faculty            128204\n",
       "birthday           153795\n",
       "gender             153795\n",
       "family_status      153795\n",
       "children16         153795\n",
       "liv_equal          153795\n",
       "emp_type           153795\n",
       "emp_position       135069\n",
       "income             153795\n",
       "income_period      153574\n",
       "income_source       16308\n",
       "income_next        153570\n",
       "exp_loans          153399\n",
       "cp_relation        123209\n",
       "app_rank           153795\n",
       "mphone_code        153795\n",
       "cp_phone_code      125525\n",
       "dtype: int64"
      ]
     },
     "execution_count": 4,
     "metadata": {},
     "output_type": "execute_result"
    }
   ],
   "source": [
    "df_app.count()"
   ]
  },
  {
   "cell_type": "code",
   "execution_count": 5,
   "metadata": {},
   "outputs": [
    {
     "data": {
      "text/plain": [
       "Index(['Unnamed: 0', 'profile_id', 'business_key', 'start_time', 'end_time',\n",
       "       'app_status_code', 'credit_term', 'credit_amount', 'know_source',\n",
       "       'loan_purpose', 'passport_type', 'social_status', 'education',\n",
       "       'faculty', 'birthday', 'gender', 'family_status', 'children16',\n",
       "       'liv_equal', 'emp_type', 'emp_position', 'income', 'income_period',\n",
       "       'income_source', 'income_next', 'exp_loans', 'cp_relation', 'app_rank',\n",
       "       'mphone_code', 'cp_phone_code'],\n",
       "      dtype='object')"
      ]
     },
     "execution_count": 5,
     "metadata": {},
     "output_type": "execute_result"
    }
   ],
   "source": [
    "df_app.columns"
   ]
  },
  {
   "cell_type": "code",
   "execution_count": 6,
   "metadata": {},
   "outputs": [
    {
     "data": {
      "image/png": "[encoded data removed]",
      "text/plain": [
       "<Figure size 504x432 with 1 Axes>"
      ]
     },
     "metadata": {
      "needs_background": "light"
     },
     "output_type": "display_data"
    }
   ],
   "source": [
    "# plot heatmap with missing values\n",
    "plt.figure(figsize=(7,6))\n",
    "sns.heatmap(df_app.isnull().T, cbar=False)\n",
    "plt.show()"
   ]
  },
  {
   "cell_type": "code",
   "execution_count": 164,
   "metadata": {},
   "outputs": [],
   "source": [
    "df_app['start_time'] = pd.to_datetime(df_app['start_time'])"
   ]
  },
  {
   "cell_type": "code",
   "execution_count": 174,
   "metadata": {},
   "outputs": [
    {
     "data": {
      "text/plain": [
       "OTHER                 5138\n",
       "PARENTS_HELP          3243\n",
       "SOCIAL_ASSISTANCE     2451\n",
       "HUSBAND_WIFE_WORKS    1883\n",
       "PENSION               1771\n",
       "SCHOLARSHIP           1682\n",
       "Name: income_source, dtype: int64"
      ]
     },
     "execution_count": 174,
     "metadata": {},
     "output_type": "execute_result"
    }
   ],
   "source": [
    "df_app[df_app['emp_type'] == 'UNEMPLOYED']['income_source'].value_counts(dropna=False)"
   ]
  },
  {
   "cell_type": "code",
   "execution_count": 177,
   "metadata": {},
   "outputs": [
    {
     "data": {
      "text/plain": [
       "UNOFFICIAL           108\n",
       "OFFICIAL              21\n",
       "EMPLOYMENT_CENTER      7\n",
       "OWNER                  4\n",
       "Name: emp_type, dtype: int64"
      ]
     },
     "execution_count": 177,
     "metadata": {},
     "output_type": "execute_result"
    }
   ],
   "source": [
    "df_app[(df_app['emp_type'] != 'UNEMPLOYED') & (~ df_app['income_source'].isna())]['emp_type'].value_counts(dropna=False)"
   ]
  },
  {
   "cell_type": "code",
   "execution_count": 183,
   "metadata": {},
   "outputs": [
    {
     "data": {
      "text/plain": [
       "050    11471\n",
       "063    16540\n",
       "066    17012\n",
       "067     9147\n",
       "068    14340\n",
       "073     4328\n",
       "091        2\n",
       "093    10367\n",
       "094       34\n",
       "095    13904\n",
       "096    14907\n",
       "097    14691\n",
       "098    13491\n",
       "099    13561\n",
       "Name: mphone_code, dtype: int64"
      ]
     },
     "execution_count": 183,
     "metadata": {},
     "output_type": "execute_result"
    }
   ],
   "source": [
    "df_app['mphone_code'].apply(lambda x: '0'+str(x)).value_counts().sort_index()"
   ]
  },
  {
   "cell_type": "markdown",
   "metadata": {},
   "source": [
    "## Filling NaN values"
   ]
  },
  {
   "cell_type": "code",
   "execution_count": 7,
   "metadata": {},
   "outputs": [],
   "source": [
    "# we take only the latest records with accepted loans by 'profile_id'\n",
    "\n",
    "df_loans_cleaned = pd.DataFrame.copy(df_loans.drop_duplicates(subset=['profile_id'], keep='last'))\n",
    "df_app_cleaned = pd.DataFrame.copy(df_app[df_app['app_status_code']=='LOAN'].drop_duplicates(subset=['profile_id'], keep='last'))"
   ]
  },
  {
   "cell_type": "code",
   "execution_count": 184,
   "metadata": {},
   "outputs": [
    {
     "data": {
      "text/plain": [
       "(13932, 10)"
      ]
     },
     "execution_count": 184,
     "metadata": {},
     "output_type": "execute_result"
    }
   ],
   "source": [
    "df_app[]"
   ]
  },
  {
   "cell_type": "code",
   "execution_count": 187,
   "metadata": {},
   "outputs": [
    {
     "data": {
      "text/plain": [
       "(8743, 10)"
      ]
     },
     "execution_count": 187,
     "metadata": {},
     "output_type": "execute_result"
    }
   ],
   "source": [
    "df_loans_cleaned.shape"
   ]
  },
  {
   "cell_type": "code",
   "execution_count": 8,
   "metadata": {},
   "outputs": [
    {
     "data": {
      "text/html": [
       "<div>\n",
       "<style scoped>\n",
       "    .dataframe tbody tr th:only-of-type {\n",
       "        vertical-align: middle;\n",
       "    }\n",
       "\n",
       "    .dataframe tbody tr th {\n",
       "        vertical-align: top;\n",
       "    }\n",
       "\n",
       "    .dataframe thead th {\n",
       "        text-align: right;\n",
       "    }\n",
       "</style>\n",
       "<table border=\"1\" class=\"dataframe\">\n",
       "  <thead>\n",
       "    <tr style=\"text-align: right;\">\n",
       "      <th></th>\n",
       "      <th>profile_id</th>\n",
       "      <th>app_id</th>\n",
       "      <th>loan</th>\n",
       "      <th>begin_date</th>\n",
       "      <th>end_date</th>\n",
       "      <th>amount</th>\n",
       "      <th>product</th>\n",
       "      <th>status</th>\n",
       "      <th>lodging_cnt</th>\n",
       "      <th>repayment_ratio</th>\n",
       "    </tr>\n",
       "  </thead>\n",
       "  <tbody>\n",
       "    <tr>\n",
       "      <th>0</th>\n",
       "      <td>158618</td>\n",
       "      <td>848153</td>\n",
       "      <td>34275</td>\n",
       "      <td>2020-01-16</td>\n",
       "      <td>2020-02-25</td>\n",
       "      <td>3500.0</td>\n",
       "      <td>START_11</td>\n",
       "      <td>CLOSED</td>\n",
       "      <td>1</td>\n",
       "      <td>1.48600</td>\n",
       "    </tr>\n",
       "    <tr>\n",
       "      <th>1</th>\n",
       "      <td>709513</td>\n",
       "      <td>509688</td>\n",
       "      <td>21025</td>\n",
       "      <td>2019-06-14</td>\n",
       "      <td>2019-06-28</td>\n",
       "      <td>700.0</td>\n",
       "      <td>START_11</td>\n",
       "      <td>CLOSED</td>\n",
       "      <td>0</td>\n",
       "      <td>1.00000</td>\n",
       "    </tr>\n",
       "    <tr>\n",
       "      <th>2</th>\n",
       "      <td>690248</td>\n",
       "      <td>518539</td>\n",
       "      <td>21232</td>\n",
       "      <td>2019-06-19</td>\n",
       "      <td>2019-06-30</td>\n",
       "      <td>2000.0</td>\n",
       "      <td>START_11</td>\n",
       "      <td>CLOSED</td>\n",
       "      <td>0</td>\n",
       "      <td>1.05400</td>\n",
       "    </tr>\n",
       "    <tr>\n",
       "      <th>3</th>\n",
       "      <td>753344</td>\n",
       "      <td>755195</td>\n",
       "      <td>30938</td>\n",
       "      <td>2019-11-23</td>\n",
       "      <td>2019-12-07</td>\n",
       "      <td>700.0</td>\n",
       "      <td>START_11</td>\n",
       "      <td>CLOSED</td>\n",
       "      <td>0</td>\n",
       "      <td>1.03600</td>\n",
       "    </tr>\n",
       "    <tr>\n",
       "      <th>4</th>\n",
       "      <td>416384</td>\n",
       "      <td>393817</td>\n",
       "      <td>17844</td>\n",
       "      <td>2019-04-09</td>\n",
       "      <td>2019-05-04</td>\n",
       "      <td>2300.0</td>\n",
       "      <td>START_11</td>\n",
       "      <td>CLOSED</td>\n",
       "      <td>1</td>\n",
       "      <td>1.18000</td>\n",
       "    </tr>\n",
       "    <tr>\n",
       "      <th>...</th>\n",
       "      <td>...</td>\n",
       "      <td>...</td>\n",
       "      <td>...</td>\n",
       "      <td>...</td>\n",
       "      <td>...</td>\n",
       "      <td>...</td>\n",
       "      <td>...</td>\n",
       "      <td>...</td>\n",
       "      <td>...</td>\n",
       "      <td>...</td>\n",
       "    </tr>\n",
       "    <tr>\n",
       "      <th>13927</th>\n",
       "      <td>274636</td>\n",
       "      <td>193658</td>\n",
       "      <td>10093</td>\n",
       "      <td>2019-01-15</td>\n",
       "      <td>2019-02-09</td>\n",
       "      <td>2000.0</td>\n",
       "      <td>START_11</td>\n",
       "      <td>CLOSED</td>\n",
       "      <td>0</td>\n",
       "      <td>1.18000</td>\n",
       "    </tr>\n",
       "    <tr>\n",
       "      <th>13928</th>\n",
       "      <td>967361</td>\n",
       "      <td>722380</td>\n",
       "      <td>29457</td>\n",
       "      <td>2019-11-03</td>\n",
       "      <td>2019-12-16</td>\n",
       "      <td>2200.0</td>\n",
       "      <td>START_11</td>\n",
       "      <td>CLOSED</td>\n",
       "      <td>1</td>\n",
       "      <td>1.75600</td>\n",
       "    </tr>\n",
       "    <tr>\n",
       "      <th>13929</th>\n",
       "      <td>748680</td>\n",
       "      <td>543092</td>\n",
       "      <td>22058</td>\n",
       "      <td>2019-07-06</td>\n",
       "      <td>2019-07-26</td>\n",
       "      <td>3000.0</td>\n",
       "      <td>START_11</td>\n",
       "      <td>OVERDUE</td>\n",
       "      <td>0</td>\n",
       "      <td>1.09741</td>\n",
       "    </tr>\n",
       "    <tr>\n",
       "      <th>13930</th>\n",
       "      <td>849678</td>\n",
       "      <td>691272</td>\n",
       "      <td>28089</td>\n",
       "      <td>2019-10-16</td>\n",
       "      <td>2019-11-13</td>\n",
       "      <td>4000.0</td>\n",
       "      <td>START_11</td>\n",
       "      <td>CLOSED</td>\n",
       "      <td>0</td>\n",
       "      <td>1.20160</td>\n",
       "    </tr>\n",
       "    <tr>\n",
       "      <th>13931</th>\n",
       "      <td>838703</td>\n",
       "      <td>615985</td>\n",
       "      <td>24481</td>\n",
       "      <td>2019-08-21</td>\n",
       "      <td>2019-11-18</td>\n",
       "      <td>1000.0</td>\n",
       "      <td>START_11</td>\n",
       "      <td>OVERDUE</td>\n",
       "      <td>2</td>\n",
       "      <td>1.10851</td>\n",
       "    </tr>\n",
       "  </tbody>\n",
       "</table>\n",
       "<p>13932 rows × 10 columns</p>\n",
       "</div>"
      ],
      "text/plain": [
       "       profile_id  app_id   loan  begin_date    end_date  amount   product  \\\n",
       "0          158618  848153  34275  2020-01-16  2020-02-25  3500.0  START_11   \n",
       "1          709513  509688  21025  2019-06-14  2019-06-28   700.0  START_11   \n",
       "2          690248  518539  21232  2019-06-19  2019-06-30  2000.0  START_11   \n",
       "3          753344  755195  30938  2019-11-23  2019-12-07   700.0  START_11   \n",
       "4          416384  393817  17844  2019-04-09  2019-05-04  2300.0  START_11   \n",
       "...           ...     ...    ...         ...         ...     ...       ...   \n",
       "13927      274636  193658  10093  2019-01-15  2019-02-09  2000.0  START_11   \n",
       "13928      967361  722380  29457  2019-11-03  2019-12-16  2200.0  START_11   \n",
       "13929      748680  543092  22058  2019-07-06  2019-07-26  3000.0  START_11   \n",
       "13930      849678  691272  28089  2019-10-16  2019-11-13  4000.0  START_11   \n",
       "13931      838703  615985  24481  2019-08-21  2019-11-18  1000.0  START_11   \n",
       "\n",
       "        status  lodging_cnt  repayment_ratio  \n",
       "0       CLOSED            1          1.48600  \n",
       "1       CLOSED            0          1.00000  \n",
       "2       CLOSED            0          1.05400  \n",
       "3       CLOSED            0          1.03600  \n",
       "4       CLOSED            1          1.18000  \n",
       "...        ...          ...              ...  \n",
       "13927   CLOSED            0          1.18000  \n",
       "13928   CLOSED            1          1.75600  \n",
       "13929  OVERDUE            0          1.09741  \n",
       "13930   CLOSED            0          1.20160  \n",
       "13931  OVERDUE            2          1.10851  \n",
       "\n",
       "[13932 rows x 10 columns]"
      ]
     },
     "execution_count": 8,
     "metadata": {},
     "output_type": "execute_result"
    }
   ],
   "source": [
    "df_loans"
   ]
  },
  {
   "cell_type": "code",
   "execution_count": 9,
   "metadata": {},
   "outputs": [
    {
     "data": {
      "text/html": [
       "<div>\n",
       "<style scoped>\n",
       "    .dataframe tbody tr th:only-of-type {\n",
       "        vertical-align: middle;\n",
       "    }\n",
       "\n",
       "    .dataframe tbody tr th {\n",
       "        vertical-align: top;\n",
       "    }\n",
       "\n",
       "    .dataframe thead th {\n",
       "        text-align: right;\n",
       "    }\n",
       "</style>\n",
       "<table border=\"1\" class=\"dataframe\">\n",
       "  <thead>\n",
       "    <tr style=\"text-align: right;\">\n",
       "      <th></th>\n",
       "      <th>profile_id</th>\n",
       "      <th>app_id</th>\n",
       "      <th>loan</th>\n",
       "      <th>begin_date</th>\n",
       "      <th>end_date</th>\n",
       "      <th>amount</th>\n",
       "      <th>product</th>\n",
       "      <th>status</th>\n",
       "      <th>lodging_cnt</th>\n",
       "      <th>repayment_ratio</th>\n",
       "    </tr>\n",
       "  </thead>\n",
       "  <tbody>\n",
       "    <tr>\n",
       "      <th>7</th>\n",
       "      <td>701636</td>\n",
       "      <td>544451</td>\n",
       "      <td>22123</td>\n",
       "      <td>2019-07-07</td>\n",
       "      <td>2019-08-04</td>\n",
       "      <td>1400.0</td>\n",
       "      <td>START_11</td>\n",
       "      <td>CLOSED</td>\n",
       "      <td>0</td>\n",
       "      <td>1.68830</td>\n",
       "    </tr>\n",
       "    <tr>\n",
       "      <th>8</th>\n",
       "      <td>525268</td>\n",
       "      <td>392909</td>\n",
       "      <td>17817</td>\n",
       "      <td>2019-04-09</td>\n",
       "      <td>2019-04-23</td>\n",
       "      <td>2000.0</td>\n",
       "      <td>START_11</td>\n",
       "      <td>OVERDUE</td>\n",
       "      <td>0</td>\n",
       "      <td>0.00000</td>\n",
       "    </tr>\n",
       "    <tr>\n",
       "      <th>12</th>\n",
       "      <td>371649</td>\n",
       "      <td>365329</td>\n",
       "      <td>17057</td>\n",
       "      <td>2019-03-25</td>\n",
       "      <td>2019-05-22</td>\n",
       "      <td>3000.0</td>\n",
       "      <td>START_11</td>\n",
       "      <td>OVERDUE</td>\n",
       "      <td>1</td>\n",
       "      <td>0.63308</td>\n",
       "    </tr>\n",
       "    <tr>\n",
       "      <th>13</th>\n",
       "      <td>851470</td>\n",
       "      <td>625847</td>\n",
       "      <td>25108</td>\n",
       "      <td>2019-08-27</td>\n",
       "      <td>2019-09-28</td>\n",
       "      <td>3000.0</td>\n",
       "      <td>START_11</td>\n",
       "      <td>OVERDUE</td>\n",
       "      <td>1</td>\n",
       "      <td>0.22208</td>\n",
       "    </tr>\n",
       "    <tr>\n",
       "      <th>14</th>\n",
       "      <td>157515</td>\n",
       "      <td>248201</td>\n",
       "      <td>11842</td>\n",
       "      <td>2019-02-15</td>\n",
       "      <td>2019-04-20</td>\n",
       "      <td>2000.0</td>\n",
       "      <td>START_11</td>\n",
       "      <td>OVERDUE</td>\n",
       "      <td>1</td>\n",
       "      <td>0.68830</td>\n",
       "    </tr>\n",
       "    <tr>\n",
       "      <th>...</th>\n",
       "      <td>...</td>\n",
       "      <td>...</td>\n",
       "      <td>...</td>\n",
       "      <td>...</td>\n",
       "      <td>...</td>\n",
       "      <td>...</td>\n",
       "      <td>...</td>\n",
       "      <td>...</td>\n",
       "      <td>...</td>\n",
       "      <td>...</td>\n",
       "    </tr>\n",
       "    <tr>\n",
       "      <th>13927</th>\n",
       "      <td>274636</td>\n",
       "      <td>193658</td>\n",
       "      <td>10093</td>\n",
       "      <td>2019-01-15</td>\n",
       "      <td>2019-02-09</td>\n",
       "      <td>2000.0</td>\n",
       "      <td>START_11</td>\n",
       "      <td>CLOSED</td>\n",
       "      <td>0</td>\n",
       "      <td>1.18000</td>\n",
       "    </tr>\n",
       "    <tr>\n",
       "      <th>13928</th>\n",
       "      <td>967361</td>\n",
       "      <td>722380</td>\n",
       "      <td>29457</td>\n",
       "      <td>2019-11-03</td>\n",
       "      <td>2019-12-16</td>\n",
       "      <td>2200.0</td>\n",
       "      <td>START_11</td>\n",
       "      <td>CLOSED</td>\n",
       "      <td>1</td>\n",
       "      <td>1.75600</td>\n",
       "    </tr>\n",
       "    <tr>\n",
       "      <th>13929</th>\n",
       "      <td>748680</td>\n",
       "      <td>543092</td>\n",
       "      <td>22058</td>\n",
       "      <td>2019-07-06</td>\n",
       "      <td>2019-07-26</td>\n",
       "      <td>3000.0</td>\n",
       "      <td>START_11</td>\n",
       "      <td>OVERDUE</td>\n",
       "      <td>0</td>\n",
       "      <td>1.09741</td>\n",
       "    </tr>\n",
       "    <tr>\n",
       "      <th>13930</th>\n",
       "      <td>849678</td>\n",
       "      <td>691272</td>\n",
       "      <td>28089</td>\n",
       "      <td>2019-10-16</td>\n",
       "      <td>2019-11-13</td>\n",
       "      <td>4000.0</td>\n",
       "      <td>START_11</td>\n",
       "      <td>CLOSED</td>\n",
       "      <td>0</td>\n",
       "      <td>1.20160</td>\n",
       "    </tr>\n",
       "    <tr>\n",
       "      <th>13931</th>\n",
       "      <td>838703</td>\n",
       "      <td>615985</td>\n",
       "      <td>24481</td>\n",
       "      <td>2019-08-21</td>\n",
       "      <td>2019-11-18</td>\n",
       "      <td>1000.0</td>\n",
       "      <td>START_11</td>\n",
       "      <td>OVERDUE</td>\n",
       "      <td>2</td>\n",
       "      <td>1.10851</td>\n",
       "    </tr>\n",
       "  </tbody>\n",
       "</table>\n",
       "<p>8743 rows × 10 columns</p>\n",
       "</div>"
      ],
      "text/plain": [
       "       profile_id  app_id   loan  begin_date    end_date  amount   product  \\\n",
       "7          701636  544451  22123  2019-07-07  2019-08-04  1400.0  START_11   \n",
       "8          525268  392909  17817  2019-04-09  2019-04-23  2000.0  START_11   \n",
       "12         371649  365329  17057  2019-03-25  2019-05-22  3000.0  START_11   \n",
       "13         851470  625847  25108  2019-08-27  2019-09-28  3000.0  START_11   \n",
       "14         157515  248201  11842  2019-02-15  2019-04-20  2000.0  START_11   \n",
       "...           ...     ...    ...         ...         ...     ...       ...   \n",
       "13927      274636  193658  10093  2019-01-15  2019-02-09  2000.0  START_11   \n",
       "13928      967361  722380  29457  2019-11-03  2019-12-16  2200.0  START_11   \n",
       "13929      748680  543092  22058  2019-07-06  2019-07-26  3000.0  START_11   \n",
       "13930      849678  691272  28089  2019-10-16  2019-11-13  4000.0  START_11   \n",
       "13931      838703  615985  24481  2019-08-21  2019-11-18  1000.0  START_11   \n",
       "\n",
       "        status  lodging_cnt  repayment_ratio  \n",
       "7       CLOSED            0          1.68830  \n",
       "8      OVERDUE            0          0.00000  \n",
       "12     OVERDUE            1          0.63308  \n",
       "13     OVERDUE            1          0.22208  \n",
       "14     OVERDUE            1          0.68830  \n",
       "...        ...          ...              ...  \n",
       "13927   CLOSED            0          1.18000  \n",
       "13928   CLOSED            1          1.75600  \n",
       "13929  OVERDUE            0          1.09741  \n",
       "13930   CLOSED            0          1.20160  \n",
       "13931  OVERDUE            2          1.10851  \n",
       "\n",
       "[8743 rows x 10 columns]"
      ]
     },
     "execution_count": 9,
     "metadata": {},
     "output_type": "execute_result"
    }
   ],
   "source": [
    "df_loans_cleaned"
   ]
  },
  {
   "cell_type": "code",
   "execution_count": 10,
   "metadata": {},
   "outputs": [
    {
     "data": {
      "text/html": [
       "<div>\n",
       "<style scoped>\n",
       "    .dataframe tbody tr th:only-of-type {\n",
       "        vertical-align: middle;\n",
       "    }\n",
       "\n",
       "    .dataframe tbody tr th {\n",
       "        vertical-align: top;\n",
       "    }\n",
       "\n",
       "    .dataframe thead th {\n",
       "        text-align: right;\n",
       "    }\n",
       "</style>\n",
       "<table border=\"1\" class=\"dataframe\">\n",
       "  <thead>\n",
       "    <tr style=\"text-align: right;\">\n",
       "      <th></th>\n",
       "      <th>profile_id</th>\n",
       "      <th>status</th>\n",
       "      <th>product</th>\n",
       "      <th>Unnamed: 0</th>\n",
       "      <th>business_key</th>\n",
       "      <th>start_time</th>\n",
       "      <th>end_time</th>\n",
       "      <th>app_status_code</th>\n",
       "      <th>credit_term</th>\n",
       "      <th>credit_amount</th>\n",
       "      <th>...</th>\n",
       "      <th>emp_position</th>\n",
       "      <th>income</th>\n",
       "      <th>income_period</th>\n",
       "      <th>income_source</th>\n",
       "      <th>income_next</th>\n",
       "      <th>exp_loans</th>\n",
       "      <th>cp_relation</th>\n",
       "      <th>app_rank</th>\n",
       "      <th>mphone_code</th>\n",
       "      <th>cp_phone_code</th>\n",
       "    </tr>\n",
       "  </thead>\n",
       "  <tbody>\n",
       "    <tr>\n",
       "      <th>0</th>\n",
       "      <td>701636</td>\n",
       "      <td>CLOSED</td>\n",
       "      <td>START_11</td>\n",
       "      <td>80356</td>\n",
       "      <td>ee723eca-b68f-4ebf-aa03-2cda225b06ca</td>\n",
       "      <td>2019-07-07 20:34:15</td>\n",
       "      <td>2019-07-07 21:03:02</td>\n",
       "      <td>LOAN</td>\n",
       "      <td>28</td>\n",
       "      <td>1400</td>\n",
       "      <td>...</td>\n",
       "      <td>Інженер мікробіолог</td>\n",
       "      <td>950.0</td>\n",
       "      <td>TWO_TPM</td>\n",
       "      <td>NaN</td>\n",
       "      <td>2019-07-28</td>\n",
       "      <td>500.0</td>\n",
       "      <td>SIBLINGS</td>\n",
       "      <td>1</td>\n",
       "      <td>97</td>\n",
       "      <td>98.0</td>\n",
       "    </tr>\n",
       "    <tr>\n",
       "      <th>1</th>\n",
       "      <td>525268</td>\n",
       "      <td>OVERDUE</td>\n",
       "      <td>START_11</td>\n",
       "      <td>54691</td>\n",
       "      <td>1b2dc61d-311b-40c8-a23d-e99fa0cab17e</td>\n",
       "      <td>2019-04-09 02:39:50</td>\n",
       "      <td>2019-04-09 03:24:27</td>\n",
       "      <td>LOAN</td>\n",
       "      <td>27</td>\n",
       "      <td>2000</td>\n",
       "      <td>...</td>\n",
       "      <td>Оператор лінії</td>\n",
       "      <td>13000.0</td>\n",
       "      <td>TWO_TPM</td>\n",
       "      <td>NaN</td>\n",
       "      <td>2019-04-15</td>\n",
       "      <td>1000.0</td>\n",
       "      <td>COLLEAGUES</td>\n",
       "      <td>1</td>\n",
       "      <td>97</td>\n",
       "      <td>68.0</td>\n",
       "    </tr>\n",
       "    <tr>\n",
       "      <th>2</th>\n",
       "      <td>371649</td>\n",
       "      <td>OVERDUE</td>\n",
       "      <td>START_11</td>\n",
       "      <td>50570</td>\n",
       "      <td>22b9208c-5e72-4861-b10e-84f77177ad11</td>\n",
       "      <td>2019-03-25 10:38:22</td>\n",
       "      <td>2019-03-25 11:04:59</td>\n",
       "      <td>LOAN</td>\n",
       "      <td>28</td>\n",
       "      <td>4000</td>\n",
       "      <td>...</td>\n",
       "      <td>NaN</td>\n",
       "      <td>12000.0</td>\n",
       "      <td>WEEKLY</td>\n",
       "      <td>PARENTS_HELP</td>\n",
       "      <td>2019-03-30</td>\n",
       "      <td>4000.0</td>\n",
       "      <td>SIBLINGS</td>\n",
       "      <td>1</td>\n",
       "      <td>98</td>\n",
       "      <td>97.0</td>\n",
       "    </tr>\n",
       "    <tr>\n",
       "      <th>3</th>\n",
       "      <td>851470</td>\n",
       "      <td>OVERDUE</td>\n",
       "      <td>START_11</td>\n",
       "      <td>101553</td>\n",
       "      <td>0d0327f1-dfbd-47da-95f5-8870566f667c</td>\n",
       "      <td>2019-08-27 09:36:49</td>\n",
       "      <td>2019-08-27 10:32:14</td>\n",
       "      <td>LOAN</td>\n",
       "      <td>28</td>\n",
       "      <td>4000</td>\n",
       "      <td>...</td>\n",
       "      <td>NaN</td>\n",
       "      <td>7000.0</td>\n",
       "      <td>MONTHLY</td>\n",
       "      <td>PENSION</td>\n",
       "      <td>2019-09-25</td>\n",
       "      <td>500.0</td>\n",
       "      <td>SIBLINGS</td>\n",
       "      <td>1</td>\n",
       "      <td>99</td>\n",
       "      <td>50.0</td>\n",
       "    </tr>\n",
       "    <tr>\n",
       "      <th>4</th>\n",
       "      <td>157515</td>\n",
       "      <td>OVERDUE</td>\n",
       "      <td>START_11</td>\n",
       "      <td>32614</td>\n",
       "      <td>3e03067a-4bcf-41c9-bdfa-6eb489d9e5a3</td>\n",
       "      <td>2019-02-13 00:55:57</td>\n",
       "      <td>2019-02-15 14:22:09</td>\n",
       "      <td>LOAN</td>\n",
       "      <td>28</td>\n",
       "      <td>2000</td>\n",
       "      <td>...</td>\n",
       "      <td>NaN</td>\n",
       "      <td>7500.0</td>\n",
       "      <td>MONTHLY</td>\n",
       "      <td>SOCIAL_ASSISTANCE</td>\n",
       "      <td>2019-03-08</td>\n",
       "      <td>2000.0</td>\n",
       "      <td>SPOUSE</td>\n",
       "      <td>1</td>\n",
       "      <td>63</td>\n",
       "      <td>63.0</td>\n",
       "    </tr>\n",
       "  </tbody>\n",
       "</table>\n",
       "<p>5 rows × 32 columns</p>\n",
       "</div>"
      ],
      "text/plain": [
       "   profile_id   status   product  Unnamed: 0  \\\n",
       "0      701636   CLOSED  START_11       80356   \n",
       "1      525268  OVERDUE  START_11       54691   \n",
       "2      371649  OVERDUE  START_11       50570   \n",
       "3      851470  OVERDUE  START_11      101553   \n",
       "4      157515  OVERDUE  START_11       32614   \n",
       "\n",
       "                           business_key           start_time  \\\n",
       "0  ee723eca-b68f-4ebf-aa03-2cda225b06ca  2019-07-07 20:34:15   \n",
       "1  1b2dc61d-311b-40c8-a23d-e99fa0cab17e  2019-04-09 02:39:50   \n",
       "2  22b9208c-5e72-4861-b10e-84f77177ad11  2019-03-25 10:38:22   \n",
       "3  0d0327f1-dfbd-47da-95f5-8870566f667c  2019-08-27 09:36:49   \n",
       "4  3e03067a-4bcf-41c9-bdfa-6eb489d9e5a3  2019-02-13 00:55:57   \n",
       "\n",
       "              end_time app_status_code  credit_term  credit_amount  ...  \\\n",
       "0  2019-07-07 21:03:02            LOAN           28           1400  ...   \n",
       "1  2019-04-09 03:24:27            LOAN           27           2000  ...   \n",
       "2  2019-03-25 11:04:59            LOAN           28           4000  ...   \n",
       "3  2019-08-27 10:32:14            LOAN           28           4000  ...   \n",
       "4  2019-02-15 14:22:09            LOAN           28           2000  ...   \n",
       "\n",
       "          emp_position   income income_period      income_source income_next  \\\n",
       "0  Інженер мікробіолог    950.0       TWO_TPM                NaN  2019-07-28   \n",
       "1       Оператор лінії  13000.0       TWO_TPM                NaN  2019-04-15   \n",
       "2                  NaN  12000.0        WEEKLY       PARENTS_HELP  2019-03-30   \n",
       "3                  NaN   7000.0       MONTHLY            PENSION  2019-09-25   \n",
       "4                  NaN   7500.0       MONTHLY  SOCIAL_ASSISTANCE  2019-03-08   \n",
       "\n",
       "  exp_loans cp_relation app_rank mphone_code  cp_phone_code  \n",
       "0     500.0    SIBLINGS        1          97           98.0  \n",
       "1    1000.0  COLLEAGUES        1          97           68.0  \n",
       "2    4000.0    SIBLINGS        1          98           97.0  \n",
       "3     500.0    SIBLINGS        1          99           50.0  \n",
       "4    2000.0      SPOUSE        1          63           63.0  \n",
       "\n",
       "[5 rows x 32 columns]"
      ]
     },
     "execution_count": 10,
     "metadata": {},
     "output_type": "execute_result"
    }
   ],
   "source": [
    "# create new merged DF\n",
    "df_result = pd.merge(df_loans_cleaned[['profile_id','status','product']], df_app_cleaned, on ='profile_id')\n",
    "df_result.head()"
   ]
  },
  {
   "cell_type": "code",
   "execution_count": 11,
   "metadata": {},
   "outputs": [],
   "source": [
    "# Function to get persantage of closed loans by selected column\n",
    "def get_percents(data_frame, column):\n",
    "    d1 = pd.DataFrame.copy(data_frame[data_frame['status']=='CLOSED'].groupby(column)\n",
    "             .agg(closed_persent=pd.NamedAgg(column='status', aggfunc='count'))\n",
    "             .reset_index()\n",
    "    )\n",
    "\n",
    "    d2 = pd.DataFrame.copy(data_frame.groupby(column)\n",
    "             .agg(closed_persent=pd.NamedAgg(column='status', aggfunc='count'))\n",
    "             .reset_index()\n",
    "    )\n",
    "\n",
    "    d1['closed_persent'] = 100/d2['closed_persent']*d1['closed_persent']\n",
    "    print(d1.sort_values(by='closed_persent', ascending= False))"
   ]
  },
  {
   "cell_type": "code",
   "execution_count": 12,
   "metadata": {},
   "outputs": [
    {
     "name": "stdout",
     "output_type": "stream",
     "text": [
      "  income_period  closed_persent\n",
      "1       MONTHLY       58.527986\n",
      "2       TWO_TPM       58.393605\n",
      "3        WEEKLY       56.870229\n",
      "4          WORK       51.219512\n",
      "0         DAILY       50.934579\n"
     ]
    }
   ],
   "source": [
    "# check grouped df by column 'income_period'\n",
    "get_percents(df_result, 'income_period')"
   ]
  },
  {
   "cell_type": "markdown",
   "metadata": {},
   "source": [
    "income period has an impact on the percentage of payments on loans, therefore attach the value to the missing data is 'WORK'"
   ]
  },
  {
   "cell_type": "code",
   "execution_count": 13,
   "metadata": {
    "scrolled": true
   },
   "outputs": [
    {
     "name": "stdout",
     "output_type": "stream",
     "text": [
      "  income_period  closed_persent\n",
      "1       MONTHLY       58.527986\n",
      "2       TWO_TPM       58.393605\n",
      "3        WEEKLY       56.870229\n",
      "4          WORK       51.219512\n",
      "0         DAILY       50.934579\n"
     ]
    }
   ],
   "source": [
    "get_percents(df_result, 'income_period')"
   ]
  },
  {
   "cell_type": "code",
   "execution_count": 14,
   "metadata": {
    "scrolled": true
   },
   "outputs": [
    {
     "data": {
      "text/html": [
       "<div>\n",
       "<style scoped>\n",
       "    .dataframe tbody tr th:only-of-type {\n",
       "        vertical-align: middle;\n",
       "    }\n",
       "\n",
       "    .dataframe tbody tr th {\n",
       "        vertical-align: top;\n",
       "    }\n",
       "\n",
       "    .dataframe thead th {\n",
       "        text-align: right;\n",
       "    }\n",
       "</style>\n",
       "<table border=\"1\" class=\"dataframe\">\n",
       "  <thead>\n",
       "    <tr style=\"text-align: right;\">\n",
       "      <th></th>\n",
       "      <th>profile_id</th>\n",
       "      <th>status</th>\n",
       "      <th>product</th>\n",
       "      <th>Unnamed: 0</th>\n",
       "      <th>business_key</th>\n",
       "      <th>start_time</th>\n",
       "      <th>end_time</th>\n",
       "      <th>app_status_code</th>\n",
       "      <th>credit_term</th>\n",
       "      <th>credit_amount</th>\n",
       "      <th>...</th>\n",
       "      <th>emp_position</th>\n",
       "      <th>income</th>\n",
       "      <th>income_period</th>\n",
       "      <th>income_source</th>\n",
       "      <th>income_next</th>\n",
       "      <th>exp_loans</th>\n",
       "      <th>cp_relation</th>\n",
       "      <th>app_rank</th>\n",
       "      <th>mphone_code</th>\n",
       "      <th>cp_phone_code</th>\n",
       "    </tr>\n",
       "  </thead>\n",
       "  <tbody>\n",
       "    <tr>\n",
       "      <th>0</th>\n",
       "      <td>701636</td>\n",
       "      <td>CLOSED</td>\n",
       "      <td>START_11</td>\n",
       "      <td>80356</td>\n",
       "      <td>ee723eca-b68f-4ebf-aa03-2cda225b06ca</td>\n",
       "      <td>2019-07-07 20:34:15</td>\n",
       "      <td>2019-07-07 21:03:02</td>\n",
       "      <td>LOAN</td>\n",
       "      <td>28</td>\n",
       "      <td>1400</td>\n",
       "      <td>...</td>\n",
       "      <td>Інженер мікробіолог</td>\n",
       "      <td>950.0</td>\n",
       "      <td>TWO_TPM</td>\n",
       "      <td>NaN</td>\n",
       "      <td>2019-07-28</td>\n",
       "      <td>500.0</td>\n",
       "      <td>SIBLINGS</td>\n",
       "      <td>1</td>\n",
       "      <td>97</td>\n",
       "      <td>98.0</td>\n",
       "    </tr>\n",
       "    <tr>\n",
       "      <th>1</th>\n",
       "      <td>525268</td>\n",
       "      <td>OVERDUE</td>\n",
       "      <td>START_11</td>\n",
       "      <td>54691</td>\n",
       "      <td>1b2dc61d-311b-40c8-a23d-e99fa0cab17e</td>\n",
       "      <td>2019-04-09 02:39:50</td>\n",
       "      <td>2019-04-09 03:24:27</td>\n",
       "      <td>LOAN</td>\n",
       "      <td>27</td>\n",
       "      <td>2000</td>\n",
       "      <td>...</td>\n",
       "      <td>Оператор лінії</td>\n",
       "      <td>13000.0</td>\n",
       "      <td>TWO_TPM</td>\n",
       "      <td>NaN</td>\n",
       "      <td>2019-04-15</td>\n",
       "      <td>1000.0</td>\n",
       "      <td>COLLEAGUES</td>\n",
       "      <td>1</td>\n",
       "      <td>97</td>\n",
       "      <td>68.0</td>\n",
       "    </tr>\n",
       "    <tr>\n",
       "      <th>2</th>\n",
       "      <td>371649</td>\n",
       "      <td>OVERDUE</td>\n",
       "      <td>START_11</td>\n",
       "      <td>50570</td>\n",
       "      <td>22b9208c-5e72-4861-b10e-84f77177ad11</td>\n",
       "      <td>2019-03-25 10:38:22</td>\n",
       "      <td>2019-03-25 11:04:59</td>\n",
       "      <td>LOAN</td>\n",
       "      <td>28</td>\n",
       "      <td>4000</td>\n",
       "      <td>...</td>\n",
       "      <td>other</td>\n",
       "      <td>12000.0</td>\n",
       "      <td>WEEKLY</td>\n",
       "      <td>PARENTS_HELP</td>\n",
       "      <td>2019-03-30</td>\n",
       "      <td>4000.0</td>\n",
       "      <td>SIBLINGS</td>\n",
       "      <td>1</td>\n",
       "      <td>98</td>\n",
       "      <td>97.0</td>\n",
       "    </tr>\n",
       "    <tr>\n",
       "      <th>3</th>\n",
       "      <td>851470</td>\n",
       "      <td>OVERDUE</td>\n",
       "      <td>START_11</td>\n",
       "      <td>101553</td>\n",
       "      <td>0d0327f1-dfbd-47da-95f5-8870566f667c</td>\n",
       "      <td>2019-08-27 09:36:49</td>\n",
       "      <td>2019-08-27 10:32:14</td>\n",
       "      <td>LOAN</td>\n",
       "      <td>28</td>\n",
       "      <td>4000</td>\n",
       "      <td>...</td>\n",
       "      <td>other</td>\n",
       "      <td>7000.0</td>\n",
       "      <td>MONTHLY</td>\n",
       "      <td>PENSION</td>\n",
       "      <td>2019-09-25</td>\n",
       "      <td>500.0</td>\n",
       "      <td>SIBLINGS</td>\n",
       "      <td>1</td>\n",
       "      <td>99</td>\n",
       "      <td>50.0</td>\n",
       "    </tr>\n",
       "    <tr>\n",
       "      <th>4</th>\n",
       "      <td>157515</td>\n",
       "      <td>OVERDUE</td>\n",
       "      <td>START_11</td>\n",
       "      <td>32614</td>\n",
       "      <td>3e03067a-4bcf-41c9-bdfa-6eb489d9e5a3</td>\n",
       "      <td>2019-02-13 00:55:57</td>\n",
       "      <td>2019-02-15 14:22:09</td>\n",
       "      <td>LOAN</td>\n",
       "      <td>28</td>\n",
       "      <td>2000</td>\n",
       "      <td>...</td>\n",
       "      <td>other</td>\n",
       "      <td>7500.0</td>\n",
       "      <td>MONTHLY</td>\n",
       "      <td>SOCIAL_ASSISTANCE</td>\n",
       "      <td>2019-03-08</td>\n",
       "      <td>2000.0</td>\n",
       "      <td>SPOUSE</td>\n",
       "      <td>1</td>\n",
       "      <td>63</td>\n",
       "      <td>63.0</td>\n",
       "    </tr>\n",
       "  </tbody>\n",
       "</table>\n",
       "<p>5 rows × 32 columns</p>\n",
       "</div>"
      ],
      "text/plain": [
       "   profile_id   status   product  Unnamed: 0  \\\n",
       "0      701636   CLOSED  START_11       80356   \n",
       "1      525268  OVERDUE  START_11       54691   \n",
       "2      371649  OVERDUE  START_11       50570   \n",
       "3      851470  OVERDUE  START_11      101553   \n",
       "4      157515  OVERDUE  START_11       32614   \n",
       "\n",
       "                           business_key           start_time  \\\n",
       "0  ee723eca-b68f-4ebf-aa03-2cda225b06ca  2019-07-07 20:34:15   \n",
       "1  1b2dc61d-311b-40c8-a23d-e99fa0cab17e  2019-04-09 02:39:50   \n",
       "2  22b9208c-5e72-4861-b10e-84f77177ad11  2019-03-25 10:38:22   \n",
       "3  0d0327f1-dfbd-47da-95f5-8870566f667c  2019-08-27 09:36:49   \n",
       "4  3e03067a-4bcf-41c9-bdfa-6eb489d9e5a3  2019-02-13 00:55:57   \n",
       "\n",
       "              end_time app_status_code  credit_term  credit_amount  ...  \\\n",
       "0  2019-07-07 21:03:02            LOAN           28           1400  ...   \n",
       "1  2019-04-09 03:24:27            LOAN           27           2000  ...   \n",
       "2  2019-03-25 11:04:59            LOAN           28           4000  ...   \n",
       "3  2019-08-27 10:32:14            LOAN           28           4000  ...   \n",
       "4  2019-02-15 14:22:09            LOAN           28           2000  ...   \n",
       "\n",
       "          emp_position   income income_period      income_source income_next  \\\n",
       "0  Інженер мікробіолог    950.0       TWO_TPM                NaN  2019-07-28   \n",
       "1       Оператор лінії  13000.0       TWO_TPM                NaN  2019-04-15   \n",
       "2                other  12000.0        WEEKLY       PARENTS_HELP  2019-03-30   \n",
       "3                other   7000.0       MONTHLY            PENSION  2019-09-25   \n",
       "4                other   7500.0       MONTHLY  SOCIAL_ASSISTANCE  2019-03-08   \n",
       "\n",
       "  exp_loans cp_relation app_rank mphone_code  cp_phone_code  \n",
       "0     500.0    SIBLINGS        1          97           98.0  \n",
       "1    1000.0  COLLEAGUES        1          97           68.0  \n",
       "2    4000.0    SIBLINGS        1          98           97.0  \n",
       "3     500.0    SIBLINGS        1          99           50.0  \n",
       "4    2000.0      SPOUSE        1          63           63.0  \n",
       "\n",
       "[5 rows x 32 columns]"
      ]
     },
     "execution_count": 14,
     "metadata": {},
     "output_type": "execute_result"
    }
   ],
   "source": [
    "# fill NaN values in column 'emp_position'\n",
    "a = pd.DataFrame.copy(df_result)\n",
    "a['emp_position'].fillna('other', inplace = True)\n",
    "a.head()"
   ]
  },
  {
   "cell_type": "code",
   "execution_count": 15,
   "metadata": {},
   "outputs": [
    {
     "name": "stdout",
     "output_type": "stream",
     "text": [
      "  emp_position  closed_persent\n",
      "0        other       57.598784\n"
     ]
    }
   ],
   "source": [
    "# calculate persentage of closed loans by records with NaN values in 'emp_position'\n",
    "a = pd.DataFrame.copy(df_result)\n",
    "a['emp_position'].fillna('other', inplace = True)\n",
    "get_percents(a[a['emp_position']=='other'], 'emp_position')"
   ]
  },
  {
   "cell_type": "markdown",
   "metadata": {},
   "source": [
    "##### cp_relation"
   ]
  },
  {
   "cell_type": "code",
   "execution_count": 16,
   "metadata": {},
   "outputs": [
    {
     "name": "stdout",
     "output_type": "stream",
     "text": [
      "  cp_relation  closed_persent\n",
      "2     FRIENDS       60.024450\n",
      "3   NEIGHBORS       59.803922\n",
      "6    SIBLINGS       58.083067\n",
      "1  COLLEAGUES       57.931034\n",
      "5   RELATIVES       56.983240\n",
      "0    CHILDREN       54.347826\n",
      "4     PARENTS       51.593323\n",
      "7      SPOUSE       50.635209\n"
     ]
    }
   ],
   "source": [
    "# check group df by column 'cp_relation' for filling NaN\n",
    "get_percents(df_result, 'cp_relation')"
   ]
  },
  {
   "cell_type": "code",
   "execution_count": 17,
   "metadata": {},
   "outputs": [
    {
     "name": "stdout",
     "output_type": "stream",
     "text": [
      "  cp_relation  closed_persent\n",
      "0       other       64.868421\n"
     ]
    }
   ],
   "source": [
    "df_cp_relation = pd.DataFrame.copy(df_result)\n",
    "df_cp_relation['cp_relation'].fillna('other', inplace = True)\n",
    "get_percents(df_cp_relation[df_cp_relation['cp_relation']=='other'], 'cp_relation')"
   ]
  },
  {
   "cell_type": "markdown",
   "metadata": {},
   "source": [
    "When the field is not indicated, the loan repayment percentage is higher. This may mean that the person himself found this site. Set missing value by 'MYSELF'"
   ]
  },
  {
   "cell_type": "markdown",
   "metadata": {},
   "source": [
    "##### cp_phone_code"
   ]
  },
  {
   "cell_type": "code",
   "execution_count": 18,
   "metadata": {},
   "outputs": [
    {
     "name": "stdout",
     "output_type": "stream",
     "text": [
      "   mphone_code  closed_persent\n",
      "0           63       58.909853\n",
      "   mphone_code  closed_persent\n",
      "0           66       57.391304\n",
      "   mphone_code  closed_persent\n",
      "0           97       61.520999\n",
      "   mphone_code  closed_persent\n",
      "0           98       56.094527\n",
      "   mphone_code  closed_persent\n",
      "0           68       56.137184\n",
      "   mphone_code  closed_persent\n",
      "0           96       59.872611\n",
      "   mphone_code  closed_persent\n",
      "0           99        55.28914\n",
      "   mphone_code  closed_persent\n",
      "0           50       54.558611\n",
      "   mphone_code  closed_persent\n",
      "0           95       53.706112\n",
      "   mphone_code  closed_persent\n",
      "0           93       63.649025\n",
      "   mphone_code  closed_persent\n",
      "0           67       61.904762\n"
     ]
    }
   ],
   "source": [
    "# list with the most polular elements in column\n",
    "ls = [63, 66,97.0,98.0, 68.0,96.0 ,99.0 ,50.0 ,95.0 ,93.0  ,67.0  ]\n",
    "\n",
    "for i in range(0,len(ls)):\n",
    "    get_percents(df_result[df_result['mphone_code']==ls[i]], 'mphone_code')\n",
    "    "
   ]
  },
  {
   "cell_type": "code",
   "execution_count": null,
   "metadata": {},
   "outputs": [],
   "source": []
  },
  {
   "cell_type": "markdown",
   "metadata": {},
   "source": [
    "##### emp_position and income_source"
   ]
  },
  {
   "cell_type": "code",
   "execution_count": 19,
   "metadata": {},
   "outputs": [
    {
     "name": "stdout",
     "output_type": "stream",
     "text": [
      "  emp_position  closed_persent\n",
      "0        other       57.598784\n"
     ]
    }
   ],
   "source": [
    "# filling NaN values in column 'emp_position'\n",
    "df_income = pd.DataFrame.copy(df_result)\n",
    "a['emp_position'].fillna('other', inplace = True)\n",
    "get_percents(a[a['emp_position']=='other'], 'emp_position')"
   ]
  },
  {
   "cell_type": "code",
   "execution_count": 20,
   "metadata": {},
   "outputs": [
    {
     "data": {
      "text/html": [
       "<div>\n",
       "<style scoped>\n",
       "    .dataframe tbody tr th:only-of-type {\n",
       "        vertical-align: middle;\n",
       "    }\n",
       "\n",
       "    .dataframe tbody tr th {\n",
       "        vertical-align: top;\n",
       "    }\n",
       "\n",
       "    .dataframe thead th {\n",
       "        text-align: right;\n",
       "    }\n",
       "</style>\n",
       "<table border=\"1\" class=\"dataframe\">\n",
       "  <thead>\n",
       "    <tr style=\"text-align: right;\">\n",
       "      <th></th>\n",
       "      <th>profile_id</th>\n",
       "      <th>status</th>\n",
       "      <th>product</th>\n",
       "      <th>Unnamed: 0</th>\n",
       "      <th>business_key</th>\n",
       "      <th>start_time</th>\n",
       "      <th>end_time</th>\n",
       "      <th>app_status_code</th>\n",
       "      <th>credit_term</th>\n",
       "      <th>credit_amount</th>\n",
       "      <th>...</th>\n",
       "      <th>emp_position</th>\n",
       "      <th>income</th>\n",
       "      <th>income_period</th>\n",
       "      <th>income_source</th>\n",
       "      <th>income_next</th>\n",
       "      <th>exp_loans</th>\n",
       "      <th>cp_relation</th>\n",
       "      <th>app_rank</th>\n",
       "      <th>mphone_code</th>\n",
       "      <th>cp_phone_code</th>\n",
       "    </tr>\n",
       "  </thead>\n",
       "  <tbody>\n",
       "    <tr>\n",
       "      <th>2</th>\n",
       "      <td>371649</td>\n",
       "      <td>OVERDUE</td>\n",
       "      <td>START_11</td>\n",
       "      <td>50570</td>\n",
       "      <td>22b9208c-5e72-4861-b10e-84f77177ad11</td>\n",
       "      <td>2019-03-25 10:38:22</td>\n",
       "      <td>2019-03-25 11:04:59</td>\n",
       "      <td>LOAN</td>\n",
       "      <td>28</td>\n",
       "      <td>4000</td>\n",
       "      <td>...</td>\n",
       "      <td>NaN</td>\n",
       "      <td>12000.0</td>\n",
       "      <td>WEEKLY</td>\n",
       "      <td>PARENTS_HELP</td>\n",
       "      <td>2019-03-30</td>\n",
       "      <td>4000.0</td>\n",
       "      <td>SIBLINGS</td>\n",
       "      <td>1</td>\n",
       "      <td>98</td>\n",
       "      <td>97.0</td>\n",
       "    </tr>\n",
       "    <tr>\n",
       "      <th>3</th>\n",
       "      <td>851470</td>\n",
       "      <td>OVERDUE</td>\n",
       "      <td>START_11</td>\n",
       "      <td>101553</td>\n",
       "      <td>0d0327f1-dfbd-47da-95f5-8870566f667c</td>\n",
       "      <td>2019-08-27 09:36:49</td>\n",
       "      <td>2019-08-27 10:32:14</td>\n",
       "      <td>LOAN</td>\n",
       "      <td>28</td>\n",
       "      <td>4000</td>\n",
       "      <td>...</td>\n",
       "      <td>NaN</td>\n",
       "      <td>7000.0</td>\n",
       "      <td>MONTHLY</td>\n",
       "      <td>PENSION</td>\n",
       "      <td>2019-09-25</td>\n",
       "      <td>500.0</td>\n",
       "      <td>SIBLINGS</td>\n",
       "      <td>1</td>\n",
       "      <td>99</td>\n",
       "      <td>50.0</td>\n",
       "    </tr>\n",
       "    <tr>\n",
       "      <th>4</th>\n",
       "      <td>157515</td>\n",
       "      <td>OVERDUE</td>\n",
       "      <td>START_11</td>\n",
       "      <td>32614</td>\n",
       "      <td>3e03067a-4bcf-41c9-bdfa-6eb489d9e5a3</td>\n",
       "      <td>2019-02-13 00:55:57</td>\n",
       "      <td>2019-02-15 14:22:09</td>\n",
       "      <td>LOAN</td>\n",
       "      <td>28</td>\n",
       "      <td>2000</td>\n",
       "      <td>...</td>\n",
       "      <td>NaN</td>\n",
       "      <td>7500.0</td>\n",
       "      <td>MONTHLY</td>\n",
       "      <td>SOCIAL_ASSISTANCE</td>\n",
       "      <td>2019-03-08</td>\n",
       "      <td>2000.0</td>\n",
       "      <td>SPOUSE</td>\n",
       "      <td>1</td>\n",
       "      <td>63</td>\n",
       "      <td>63.0</td>\n",
       "    </tr>\n",
       "    <tr>\n",
       "      <th>10</th>\n",
       "      <td>6690</td>\n",
       "      <td>CLOSED</td>\n",
       "      <td>START</td>\n",
       "      <td>213</td>\n",
       "      <td>2d8885d4-3e99-4014-a8b0-f45bfe33b22e</td>\n",
       "      <td>2018-06-11 15:37:15</td>\n",
       "      <td>2018-06-11 16:17:21</td>\n",
       "      <td>LOAN</td>\n",
       "      <td>28</td>\n",
       "      <td>2000</td>\n",
       "      <td>...</td>\n",
       "      <td>NaN</td>\n",
       "      <td>6000.0</td>\n",
       "      <td>TWO_TPM</td>\n",
       "      <td>PARENTS_HELP</td>\n",
       "      <td>2018-07-07</td>\n",
       "      <td>0.0</td>\n",
       "      <td>NEIGHBORS</td>\n",
       "      <td>1</td>\n",
       "      <td>95</td>\n",
       "      <td>66.0</td>\n",
       "    </tr>\n",
       "    <tr>\n",
       "      <th>20</th>\n",
       "      <td>36091</td>\n",
       "      <td>CLOSED</td>\n",
       "      <td>START</td>\n",
       "      <td>3299</td>\n",
       "      <td>8820bbf4-b715-4848-8b8f-d878e8aa1edc</td>\n",
       "      <td>2018-08-01 16:48:50</td>\n",
       "      <td>2018-08-01 18:24:07</td>\n",
       "      <td>LOAN</td>\n",
       "      <td>15</td>\n",
       "      <td>1000</td>\n",
       "      <td>...</td>\n",
       "      <td>NaN</td>\n",
       "      <td>2500.0</td>\n",
       "      <td>TWO_TPM</td>\n",
       "      <td>OTHER</td>\n",
       "      <td>2018-09-10</td>\n",
       "      <td>500.0</td>\n",
       "      <td>CHILDREN</td>\n",
       "      <td>1</td>\n",
       "      <td>99</td>\n",
       "      <td>67.0</td>\n",
       "    </tr>\n",
       "  </tbody>\n",
       "</table>\n",
       "<p>5 rows × 32 columns</p>\n",
       "</div>"
      ],
      "text/plain": [
       "    profile_id   status   product  Unnamed: 0  \\\n",
       "2       371649  OVERDUE  START_11       50570   \n",
       "3       851470  OVERDUE  START_11      101553   \n",
       "4       157515  OVERDUE  START_11       32614   \n",
       "10        6690   CLOSED     START         213   \n",
       "20       36091   CLOSED     START        3299   \n",
       "\n",
       "                            business_key           start_time  \\\n",
       "2   22b9208c-5e72-4861-b10e-84f77177ad11  2019-03-25 10:38:22   \n",
       "3   0d0327f1-dfbd-47da-95f5-8870566f667c  2019-08-27 09:36:49   \n",
       "4   3e03067a-4bcf-41c9-bdfa-6eb489d9e5a3  2019-02-13 00:55:57   \n",
       "10  2d8885d4-3e99-4014-a8b0-f45bfe33b22e  2018-06-11 15:37:15   \n",
       "20  8820bbf4-b715-4848-8b8f-d878e8aa1edc  2018-08-01 16:48:50   \n",
       "\n",
       "               end_time app_status_code  credit_term  credit_amount  ...  \\\n",
       "2   2019-03-25 11:04:59            LOAN           28           4000  ...   \n",
       "3   2019-08-27 10:32:14            LOAN           28           4000  ...   \n",
       "4   2019-02-15 14:22:09            LOAN           28           2000  ...   \n",
       "10  2018-06-11 16:17:21            LOAN           28           2000  ...   \n",
       "20  2018-08-01 18:24:07            LOAN           15           1000  ...   \n",
       "\n",
       "   emp_position   income income_period      income_source income_next  \\\n",
       "2           NaN  12000.0        WEEKLY       PARENTS_HELP  2019-03-30   \n",
       "3           NaN   7000.0       MONTHLY            PENSION  2019-09-25   \n",
       "4           NaN   7500.0       MONTHLY  SOCIAL_ASSISTANCE  2019-03-08   \n",
       "10          NaN   6000.0       TWO_TPM       PARENTS_HELP  2018-07-07   \n",
       "20          NaN   2500.0       TWO_TPM              OTHER  2018-09-10   \n",
       "\n",
       "   exp_loans cp_relation app_rank mphone_code  cp_phone_code  \n",
       "2     4000.0    SIBLINGS        1          98           97.0  \n",
       "3      500.0    SIBLINGS        1          99           50.0  \n",
       "4     2000.0      SPOUSE        1          63           63.0  \n",
       "10       0.0   NEIGHBORS        1          95           66.0  \n",
       "20     500.0    CHILDREN        1          99           67.0  \n",
       "\n",
       "[5 rows x 32 columns]"
      ]
     },
     "execution_count": 20,
     "metadata": {},
     "output_type": "execute_result"
    }
   ],
   "source": [
    "df_result[(df_result['emp_position'].isnull()==True) & (df_result['emp_position'].isnull()==True)].head()"
   ]
  },
  {
   "cell_type": "markdown",
   "metadata": {},
   "source": [
    "\n"
   ]
  },
  {
   "cell_type": "markdown",
   "metadata": {},
   "source": [
    "# Data cleaning\n"
   ]
  },
  {
   "cell_type": "code",
   "execution_count": 21,
   "metadata": {},
   "outputs": [
    {
     "name": "stderr",
     "output_type": "stream",
     "text": [
      "/Users/romanshevtsiv/anaconda3/envs/devrep-final/lib/python3.8/site-packages/pandas/core/indexing.py:671: SettingWithCopyWarning: \n",
      "A value is trying to be set on a copy of a slice from a DataFrame\n",
      "\n",
      "See the caveats in the documentation: https://pandas.pydata.org/pandas-docs/stable/user_guide/indexing.html#returning-a-view-versus-a-copy\n",
      "  self._setitem_with_indexer(indexer, value)\n"
     ]
    }
   ],
   "source": [
    "# fill NaN values and clean df\n",
    "\n",
    "# drop 4 rows from df\n",
    "df_result.dropna(subset=['income_next','exp_loans'], how='any', inplace = True)\n",
    "\n",
    "# fill with  certain values\n",
    "df_result['faculty'].fillna('OTHER', inplace = True)\n",
    "df_result['cp_relation'].fillna('MYSELF', inplace = True)\n",
    "df_result[\"income_period\"].fillna(\"WORK\", inplace = True) \n",
    "\n",
    "# fill cp_phone_code column:\n",
    "#list with the most popular elements\n",
    "ls = [63, 66,97.0,98.0, 68.0,96.0 ,99.0 ,50.0 ,95.0 ,93.0  ,67.0]\n",
    "#get mask of NaNs\n",
    "mask = df_result['cp_phone_code'].isnull()\n",
    "#count rows with NaNs\n",
    "lendth = mask.sum()\n",
    "#create array with size l\n",
    "set_list = np.random.choice(ls, size=lendth)\n",
    "#set NaNs values\n",
    "df_result.loc[mask, 'cp_phone_code'] = set_list\n",
    "\n",
    "# New column with status of income:\n",
    "# так как в колонке с должностью мы имеем более 2000 значений, соединяем данную колонку с колонкой другого дохода и устанавливаем только статус:\n",
    "# 3 - пользователь имеет и работу и другой источник дохода\n",
    "# 2 - только работу\n",
    "# 1 - только другой источник\n",
    "# 0 - ничего не указал\n",
    "df_result['income_status'] = ''\n",
    "for i in range(len(df_result)):\n",
    "    if ((pd.notnull(df_result['emp_position'].iloc[i])) & (pd.notnull(df_result['income_source'].iloc[i]))):\n",
    "        df_result['income_status'].iloc[i] = 3\n",
    "    elif ((pd.notnull(df_result['emp_position'].iloc[i])) & (pd.isnull(df_result['income_source'].iloc[i]))):\n",
    "        df_result['income_status'].iloc[i] = 2\n",
    "    elif ((pd.isnull(df_result['emp_position'].iloc[i])) & (pd.notnull(df_result['income_source'].iloc[i]))):\n",
    "        df_result['income_status'].iloc[i] = 1\n",
    "    elif ((pd.isnull(df_result['emp_position'].iloc[i])) & (pd.isnull(df_result['income_source'].iloc[i]))):\n",
    "        df_result['income_status'].iloc[i] = 0\n",
    "\n",
    "#drop non-important columns\n",
    "df_result.drop(columns = ['emp_position', 'income_source', 'app_status_code'], axis = 1, inplace = True)\n",
    "\n"
   ]
  },
  {
   "cell_type": "code",
   "execution_count": null,
   "metadata": {},
   "outputs": [],
   "source": []
  },
  {
   "cell_type": "markdown",
   "metadata": {},
   "source": [
    "## Outliers detecting"
   ]
  },
  {
   "cell_type": "code",
   "execution_count": 22,
   "metadata": {},
   "outputs": [],
   "source": [
    "# simple outliers clear\n",
    "# format for date calculating\n",
    "fmt = \"%Y-%m-%d %H:%M:%S\"\n",
    "\n",
    "# get current date and convert it to necessary format\n",
    "current_dt = datetime.now()\n",
    "dt_string = current_dt.strftime(fmt)\n",
    "cur_date = datetime.strptime(dt_string,fmt)\n",
    "\n",
    "# simple detect outliers and them deleting \n",
    "index_list = []\n",
    "for i in range(len(df_result)):\n",
    "    if ((cur_date - datetime.strptime((df_result['income_next'].iloc[i]  + ' 00:00:00'), fmt)).days <-30):\n",
    "            index_list.append(i)\n",
    "        \n",
    "df_result.drop(index_list, axis=0, inplace=True)\n",
    "\n",
    "# delete 12 records\n",
    "df_result.drop((df_result[df_result['children16']>10]).index, axis=0, inplace=True)\n",
    "\n",
    "# many records with clearly inflated incomes\n",
    "#df.drop((df[df['income']>100000]).index, axis=0, inplace=True)\n"
   ]
  },
  {
   "cell_type": "code",
   "execution_count": 23,
   "metadata": {},
   "outputs": [
    {
     "ename": "SyntaxError",
     "evalue": "invalid syntax (<ipython-input-23-32e07870fa05>, line 1)",
     "output_type": "error",
     "traceback": [
      "\u001b[0;36m  File \u001b[0;32m\"<ipython-input-23-32e07870fa05>\"\u001b[0;36m, line \u001b[0;32m1\u001b[0m\n\u001b[0;31m    df_result[]\u001b[0m\n\u001b[0m              ^\u001b[0m\n\u001b[0;31mSyntaxError\u001b[0m\u001b[0;31m:\u001b[0m invalid syntax\n"
     ]
    }
   ],
   "source": []
  },
  {
   "cell_type": "markdown",
   "metadata": {},
   "source": [
    "# Feature engineering"
   ]
  },
  {
   "cell_type": "code",
   "execution_count": 24,
   "metadata": {},
   "outputs": [
    {
     "data": {
      "text/html": [
       "<div>\n",
       "<style scoped>\n",
       "    .dataframe tbody tr th:only-of-type {\n",
       "        vertical-align: middle;\n",
       "    }\n",
       "\n",
       "    .dataframe tbody tr th {\n",
       "        vertical-align: top;\n",
       "    }\n",
       "\n",
       "    .dataframe thead th {\n",
       "        text-align: right;\n",
       "    }\n",
       "</style>\n",
       "<table border=\"1\" class=\"dataframe\">\n",
       "  <thead>\n",
       "    <tr style=\"text-align: right;\">\n",
       "      <th></th>\n",
       "      <th>profile_id</th>\n",
       "      <th>status</th>\n",
       "      <th>product</th>\n",
       "      <th>Unnamed: 0</th>\n",
       "      <th>business_key</th>\n",
       "      <th>start_time</th>\n",
       "      <th>end_time</th>\n",
       "      <th>credit_term</th>\n",
       "      <th>credit_amount</th>\n",
       "      <th>know_source</th>\n",
       "      <th>...</th>\n",
       "      <th>emp_type</th>\n",
       "      <th>income</th>\n",
       "      <th>income_period</th>\n",
       "      <th>income_next</th>\n",
       "      <th>exp_loans</th>\n",
       "      <th>cp_relation</th>\n",
       "      <th>app_rank</th>\n",
       "      <th>mphone_code</th>\n",
       "      <th>cp_phone_code</th>\n",
       "      <th>income_status</th>\n",
       "    </tr>\n",
       "  </thead>\n",
       "  <tbody>\n",
       "    <tr>\n",
       "      <th>0</th>\n",
       "      <td>701636</td>\n",
       "      <td>CLOSED</td>\n",
       "      <td>START_11</td>\n",
       "      <td>80356</td>\n",
       "      <td>ee723eca-b68f-4ebf-aa03-2cda225b06ca</td>\n",
       "      <td>2019-07-07 20:34:15</td>\n",
       "      <td>2019-07-07 21:03:02</td>\n",
       "      <td>28</td>\n",
       "      <td>1400</td>\n",
       "      <td>SN</td>\n",
       "      <td>...</td>\n",
       "      <td>OFFICIAL</td>\n",
       "      <td>950.0</td>\n",
       "      <td>TWO_TPM</td>\n",
       "      <td>2019-07-28</td>\n",
       "      <td>500.0</td>\n",
       "      <td>SIBLINGS</td>\n",
       "      <td>1</td>\n",
       "      <td>97</td>\n",
       "      <td>98.0</td>\n",
       "      <td>2</td>\n",
       "    </tr>\n",
       "    <tr>\n",
       "      <th>1</th>\n",
       "      <td>525268</td>\n",
       "      <td>OVERDUE</td>\n",
       "      <td>START_11</td>\n",
       "      <td>54691</td>\n",
       "      <td>1b2dc61d-311b-40c8-a23d-e99fa0cab17e</td>\n",
       "      <td>2019-04-09 02:39:50</td>\n",
       "      <td>2019-04-09 03:24:27</td>\n",
       "      <td>27</td>\n",
       "      <td>2000</td>\n",
       "      <td>SEARCH</td>\n",
       "      <td>...</td>\n",
       "      <td>OFFICIAL</td>\n",
       "      <td>13000.0</td>\n",
       "      <td>TWO_TPM</td>\n",
       "      <td>2019-04-15</td>\n",
       "      <td>1000.0</td>\n",
       "      <td>COLLEAGUES</td>\n",
       "      <td>1</td>\n",
       "      <td>97</td>\n",
       "      <td>68.0</td>\n",
       "      <td>2</td>\n",
       "    </tr>\n",
       "    <tr>\n",
       "      <th>2</th>\n",
       "      <td>371649</td>\n",
       "      <td>OVERDUE</td>\n",
       "      <td>START_11</td>\n",
       "      <td>50570</td>\n",
       "      <td>22b9208c-5e72-4861-b10e-84f77177ad11</td>\n",
       "      <td>2019-03-25 10:38:22</td>\n",
       "      <td>2019-03-25 11:04:59</td>\n",
       "      <td>28</td>\n",
       "      <td>4000</td>\n",
       "      <td>SEARCH</td>\n",
       "      <td>...</td>\n",
       "      <td>UNEMPLOYED</td>\n",
       "      <td>12000.0</td>\n",
       "      <td>WEEKLY</td>\n",
       "      <td>2019-03-30</td>\n",
       "      <td>4000.0</td>\n",
       "      <td>SIBLINGS</td>\n",
       "      <td>1</td>\n",
       "      <td>98</td>\n",
       "      <td>97.0</td>\n",
       "      <td>1</td>\n",
       "    </tr>\n",
       "    <tr>\n",
       "      <th>3</th>\n",
       "      <td>851470</td>\n",
       "      <td>OVERDUE</td>\n",
       "      <td>START_11</td>\n",
       "      <td>101553</td>\n",
       "      <td>0d0327f1-dfbd-47da-95f5-8870566f667c</td>\n",
       "      <td>2019-08-27 09:36:49</td>\n",
       "      <td>2019-08-27 10:32:14</td>\n",
       "      <td>28</td>\n",
       "      <td>4000</td>\n",
       "      <td>SEARCH</td>\n",
       "      <td>...</td>\n",
       "      <td>UNEMPLOYED</td>\n",
       "      <td>7000.0</td>\n",
       "      <td>MONTHLY</td>\n",
       "      <td>2019-09-25</td>\n",
       "      <td>500.0</td>\n",
       "      <td>SIBLINGS</td>\n",
       "      <td>1</td>\n",
       "      <td>99</td>\n",
       "      <td>50.0</td>\n",
       "      <td>1</td>\n",
       "    </tr>\n",
       "    <tr>\n",
       "      <th>4</th>\n",
       "      <td>157515</td>\n",
       "      <td>OVERDUE</td>\n",
       "      <td>START_11</td>\n",
       "      <td>32614</td>\n",
       "      <td>3e03067a-4bcf-41c9-bdfa-6eb489d9e5a3</td>\n",
       "      <td>2019-02-13 00:55:57</td>\n",
       "      <td>2019-02-15 14:22:09</td>\n",
       "      <td>28</td>\n",
       "      <td>2000</td>\n",
       "      <td>BANNER</td>\n",
       "      <td>...</td>\n",
       "      <td>UNEMPLOYED</td>\n",
       "      <td>7500.0</td>\n",
       "      <td>MONTHLY</td>\n",
       "      <td>2019-03-08</td>\n",
       "      <td>2000.0</td>\n",
       "      <td>SPOUSE</td>\n",
       "      <td>1</td>\n",
       "      <td>63</td>\n",
       "      <td>63.0</td>\n",
       "      <td>1</td>\n",
       "    </tr>\n",
       "  </tbody>\n",
       "</table>\n",
       "<p>5 rows × 30 columns</p>\n",
       "</div>"
      ],
      "text/plain": [
       "   profile_id   status   product  Unnamed: 0  \\\n",
       "0      701636   CLOSED  START_11       80356   \n",
       "1      525268  OVERDUE  START_11       54691   \n",
       "2      371649  OVERDUE  START_11       50570   \n",
       "3      851470  OVERDUE  START_11      101553   \n",
       "4      157515  OVERDUE  START_11       32614   \n",
       "\n",
       "                           business_key           start_time  \\\n",
       "0  ee723eca-b68f-4ebf-aa03-2cda225b06ca  2019-07-07 20:34:15   \n",
       "1  1b2dc61d-311b-40c8-a23d-e99fa0cab17e  2019-04-09 02:39:50   \n",
       "2  22b9208c-5e72-4861-b10e-84f77177ad11  2019-03-25 10:38:22   \n",
       "3  0d0327f1-dfbd-47da-95f5-8870566f667c  2019-08-27 09:36:49   \n",
       "4  3e03067a-4bcf-41c9-bdfa-6eb489d9e5a3  2019-02-13 00:55:57   \n",
       "\n",
       "              end_time  credit_term  credit_amount know_source  ...  \\\n",
       "0  2019-07-07 21:03:02           28           1400          SN  ...   \n",
       "1  2019-04-09 03:24:27           27           2000      SEARCH  ...   \n",
       "2  2019-03-25 11:04:59           28           4000      SEARCH  ...   \n",
       "3  2019-08-27 10:32:14           28           4000      SEARCH  ...   \n",
       "4  2019-02-15 14:22:09           28           2000      BANNER  ...   \n",
       "\n",
       "     emp_type   income income_period income_next exp_loans cp_relation  \\\n",
       "0    OFFICIAL    950.0       TWO_TPM  2019-07-28     500.0    SIBLINGS   \n",
       "1    OFFICIAL  13000.0       TWO_TPM  2019-04-15    1000.0  COLLEAGUES   \n",
       "2  UNEMPLOYED  12000.0        WEEKLY  2019-03-30    4000.0    SIBLINGS   \n",
       "3  UNEMPLOYED   7000.0       MONTHLY  2019-09-25     500.0    SIBLINGS   \n",
       "4  UNEMPLOYED   7500.0       MONTHLY  2019-03-08    2000.0      SPOUSE   \n",
       "\n",
       "  app_rank mphone_code  cp_phone_code income_status  \n",
       "0        1          97           98.0             2  \n",
       "1        1          97           68.0             2  \n",
       "2        1          98           97.0             1  \n",
       "3        1          99           50.0             1  \n",
       "4        1          63           63.0             1  \n",
       "\n",
       "[5 rows x 30 columns]"
      ]
     },
     "execution_count": 24,
     "metadata": {},
     "output_type": "execute_result"
    }
   ],
   "source": [
    "#create new dataframe for preprocessing\n",
    "df = pd.DataFrame.copy(df_result)\n",
    "df.head()"
   ]
  },
  {
   "cell_type": "code",
   "execution_count": 25,
   "metadata": {},
   "outputs": [],
   "source": [
    "# drop not important features\n",
    "df.drop(columns=['Unnamed: 0', 'profile_id', 'business_key'], axis=0, inplace=True)"
   ]
  },
  {
   "cell_type": "markdown",
   "metadata": {},
   "source": [
    "## Date columns"
   ]
  },
  {
   "cell_type": "code",
   "execution_count": 26,
   "metadata": {},
   "outputs": [
    {
     "data": {
      "text/html": [
       "<div>\n",
       "<style scoped>\n",
       "    .dataframe tbody tr th:only-of-type {\n",
       "        vertical-align: middle;\n",
       "    }\n",
       "\n",
       "    .dataframe tbody tr th {\n",
       "        vertical-align: top;\n",
       "    }\n",
       "\n",
       "    .dataframe thead th {\n",
       "        text-align: right;\n",
       "    }\n",
       "</style>\n",
       "<table border=\"1\" class=\"dataframe\">\n",
       "  <thead>\n",
       "    <tr style=\"text-align: right;\">\n",
       "      <th></th>\n",
       "      <th>income_next</th>\n",
       "      <th>birthday</th>\n",
       "    </tr>\n",
       "  </thead>\n",
       "  <tbody>\n",
       "    <tr>\n",
       "      <th>0</th>\n",
       "      <td>2019-07-28 00:00:00</td>\n",
       "      <td>1994-03-30 00:00:00</td>\n",
       "    </tr>\n",
       "    <tr>\n",
       "      <th>1</th>\n",
       "      <td>2019-04-15 00:00:00</td>\n",
       "      <td>1991-12-25 00:00:00</td>\n",
       "    </tr>\n",
       "    <tr>\n",
       "      <th>2</th>\n",
       "      <td>2019-03-30 00:00:00</td>\n",
       "      <td>1997-11-21 00:00:00</td>\n",
       "    </tr>\n",
       "    <tr>\n",
       "      <th>3</th>\n",
       "      <td>2019-09-25 00:00:00</td>\n",
       "      <td>1974-09-26 00:00:00</td>\n",
       "    </tr>\n",
       "    <tr>\n",
       "      <th>4</th>\n",
       "      <td>2019-03-08 00:00:00</td>\n",
       "      <td>1991-01-02 00:00:00</td>\n",
       "    </tr>\n",
       "  </tbody>\n",
       "</table>\n",
       "</div>"
      ],
      "text/plain": [
       "           income_next             birthday\n",
       "0  2019-07-28 00:00:00  1994-03-30 00:00:00\n",
       "1  2019-04-15 00:00:00  1991-12-25 00:00:00\n",
       "2  2019-03-30 00:00:00  1997-11-21 00:00:00\n",
       "3  2019-09-25 00:00:00  1974-09-26 00:00:00\n",
       "4  2019-03-08 00:00:00  1991-01-02 00:00:00"
      ]
     },
     "execution_count": 26,
     "metadata": {},
     "output_type": "execute_result"
    }
   ],
   "source": [
    "df['birthday'] = df['birthday'] + ' 00:00:00'\n",
    "df['income_next'] = df['income_next'] + ' 00:00:00' \n",
    "df[['income_next','birthday' ]].head()"
   ]
  },
  {
   "cell_type": "code",
   "execution_count": 27,
   "metadata": {},
   "outputs": [
    {
     "name": "stderr",
     "output_type": "stream",
     "text": [
      "/Users/romanshevtsiv/anaconda3/envs/devrep-final/lib/python3.8/site-packages/pandas/core/indexing.py:671: SettingWithCopyWarning: \n",
      "A value is trying to be set on a copy of a slice from a DataFrame\n",
      "\n",
      "See the caveats in the documentation: https://pandas.pydata.org/pandas-docs/stable/user_guide/indexing.html#returning-a-view-versus-a-copy\n",
      "  self._setitem_with_indexer(indexer, value)\n"
     ]
    },
    {
     "data": {
      "text/html": [
       "<div>\n",
       "<style scoped>\n",
       "    .dataframe tbody tr th:only-of-type {\n",
       "        vertical-align: middle;\n",
       "    }\n",
       "\n",
       "    .dataframe tbody tr th {\n",
       "        vertical-align: top;\n",
       "    }\n",
       "\n",
       "    .dataframe thead th {\n",
       "        text-align: right;\n",
       "    }\n",
       "</style>\n",
       "<table border=\"1\" class=\"dataframe\">\n",
       "  <thead>\n",
       "    <tr style=\"text-align: right;\">\n",
       "      <th></th>\n",
       "      <th>filling_time</th>\n",
       "      <th>income_next</th>\n",
       "      <th>birthday</th>\n",
       "    </tr>\n",
       "  </thead>\n",
       "  <tbody>\n",
       "    <tr>\n",
       "      <th>0</th>\n",
       "      <td>28.7833</td>\n",
       "      <td>20</td>\n",
       "      <td>26.063</td>\n",
       "    </tr>\n",
       "    <tr>\n",
       "      <th>1</th>\n",
       "      <td>44.6167</td>\n",
       "      <td>5</td>\n",
       "      <td>28.326</td>\n",
       "    </tr>\n",
       "    <tr>\n",
       "      <th>2</th>\n",
       "      <td>26.6167</td>\n",
       "      <td>4</td>\n",
       "      <td>22.4137</td>\n",
       "    </tr>\n",
       "    <tr>\n",
       "      <th>3</th>\n",
       "      <td>55.4167</td>\n",
       "      <td>28</td>\n",
       "      <td>45.5836</td>\n",
       "    </tr>\n",
       "    <tr>\n",
       "      <th>4</th>\n",
       "      <td>806.2</td>\n",
       "      <td>20</td>\n",
       "      <td>29.3041</td>\n",
       "    </tr>\n",
       "  </tbody>\n",
       "</table>\n",
       "</div>"
      ],
      "text/plain": [
       "  filling_time income_next birthday\n",
       "0      28.7833          20   26.063\n",
       "1      44.6167           5   28.326\n",
       "2      26.6167           4  22.4137\n",
       "3      55.4167          28  45.5836\n",
       "4        806.2          20  29.3041"
      ]
     },
     "execution_count": 27,
     "metadata": {},
     "output_type": "execute_result"
    }
   ],
   "source": [
    "# calculate new column 'filling_time'\n",
    "\n",
    "\n",
    "current_dt = datetime.now()\n",
    "dt_string = current_dt.strftime(fmt)\n",
    "var_date = datetime.strptime(dt_string,fmt)\n",
    "df['filling_time'] = ''\n",
    "\n",
    "for i in range(len(df)):\n",
    "    df['filling_time'].iloc[i] = ((datetime.strptime(df['end_time'].iloc[i], fmt) - datetime.strptime(df['start_time'].iloc[i], fmt)).seconds / 60)\n",
    "    \n",
    "    if isinstance(df['birthday'].iloc[i],str):\n",
    "        df['birthday'].iloc[i] = (var_date - datetime.strptime(df['birthday'].iloc[i], fmt)).days / 365\n",
    "    \n",
    "    if isinstance(df['income_next'].iloc[i],str):\n",
    "        df['income_next'].iloc[i] = (datetime.strptime(df['income_next'].iloc[i], fmt) - datetime.strptime(df['end_time'].iloc[i], fmt)).days\n",
    "    \n",
    "    \n",
    "    \n",
    "df[['filling_time', 'income_next', 'birthday']].head()\n",
    "\n"
   ]
  },
  {
   "cell_type": "code",
   "execution_count": 28,
   "metadata": {},
   "outputs": [],
   "source": [
    "df.drop(columns=['end_time', 'start_time'], axis=0, inplace=True)"
   ]
  },
  {
   "cell_type": "code",
   "execution_count": null,
   "metadata": {},
   "outputs": [],
   "source": []
  },
  {
   "cell_type": "markdown",
   "metadata": {},
   "source": [
    "## Category features"
   ]
  },
  {
   "cell_type": "markdown",
   "metadata": {},
   "source": [
    "Family_status\n"
   ]
  },
  {
   "cell_type": "code",
   "execution_count": 29,
   "metadata": {},
   "outputs": [
    {
     "data": {
      "text/plain": [
       "SINGLE           3924\n",
       "MARRIAGE         2949\n",
       "DIVORCED          787\n",
       "LIVE_TOGETHER     759\n",
       "WIDOW              66\n",
       "Name: family_status, dtype: int64"
      ]
     },
     "execution_count": 29,
     "metadata": {},
     "output_type": "execute_result"
    }
   ],
   "source": [
    "df['family_status'].value_counts()"
   ]
  },
  {
   "cell_type": "code",
   "execution_count": 30,
   "metadata": {},
   "outputs": [
    {
     "name": "stdout",
     "output_type": "stream",
     "text": [
      "   family_status  closed_persent\n",
      "3         SINGLE       59.174312\n",
      "2       MARRIAGE       58.765683\n",
      "0       DIVORCED       55.400254\n",
      "1  LIVE_TOGETHER       52.700922\n",
      "4          WIDOW       51.515152\n"
     ]
    }
   ],
   "source": [
    "get_percents(df_result, 'family_status')"
   ]
  },
  {
   "cell_type": "code",
   "execution_count": 31,
   "metadata": {
    "scrolled": false
   },
   "outputs": [
    {
     "data": {
      "text/html": [
       "<div>\n",
       "<style scoped>\n",
       "    .dataframe tbody tr th:only-of-type {\n",
       "        vertical-align: middle;\n",
       "    }\n",
       "\n",
       "    .dataframe tbody tr th {\n",
       "        vertical-align: top;\n",
       "    }\n",
       "\n",
       "    .dataframe thead th {\n",
       "        text-align: right;\n",
       "    }\n",
       "</style>\n",
       "<table border=\"1\" class=\"dataframe\">\n",
       "  <thead>\n",
       "    <tr style=\"text-align: right;\">\n",
       "      <th></th>\n",
       "      <th>status</th>\n",
       "      <th>product</th>\n",
       "      <th>credit_term</th>\n",
       "      <th>credit_amount</th>\n",
       "      <th>know_source</th>\n",
       "      <th>loan_purpose</th>\n",
       "      <th>passport_type</th>\n",
       "      <th>social_status</th>\n",
       "      <th>education</th>\n",
       "      <th>faculty</th>\n",
       "      <th>...</th>\n",
       "      <th>income</th>\n",
       "      <th>income_period</th>\n",
       "      <th>income_next</th>\n",
       "      <th>exp_loans</th>\n",
       "      <th>cp_relation</th>\n",
       "      <th>app_rank</th>\n",
       "      <th>mphone_code</th>\n",
       "      <th>cp_phone_code</th>\n",
       "      <th>income_status</th>\n",
       "      <th>filling_time</th>\n",
       "    </tr>\n",
       "  </thead>\n",
       "  <tbody>\n",
       "    <tr>\n",
       "      <th>0</th>\n",
       "      <td>CLOSED</td>\n",
       "      <td>START_11</td>\n",
       "      <td>28</td>\n",
       "      <td>1400</td>\n",
       "      <td>SN</td>\n",
       "      <td>SMALLP</td>\n",
       "      <td>PASSPORT</td>\n",
       "      <td>NONE</td>\n",
       "      <td>HIGH</td>\n",
       "      <td>FOOD_INDUSTRY</td>\n",
       "      <td>...</td>\n",
       "      <td>950.0</td>\n",
       "      <td>TWO_TPM</td>\n",
       "      <td>20</td>\n",
       "      <td>500.0</td>\n",
       "      <td>SIBLINGS</td>\n",
       "      <td>1</td>\n",
       "      <td>97</td>\n",
       "      <td>98.0</td>\n",
       "      <td>2</td>\n",
       "      <td>28.7833</td>\n",
       "    </tr>\n",
       "  </tbody>\n",
       "</table>\n",
       "<p>1 rows × 26 columns</p>\n",
       "</div>"
      ],
      "text/plain": [
       "   status   product  credit_term  credit_amount know_source loan_purpose  \\\n",
       "0  CLOSED  START_11           28           1400          SN       SMALLP   \n",
       "\n",
       "  passport_type social_status education        faculty  ... income  \\\n",
       "0      PASSPORT          NONE      HIGH  FOOD_INDUSTRY  ...  950.0   \n",
       "\n",
       "  income_period  income_next  exp_loans cp_relation app_rank  mphone_code  \\\n",
       "0       TWO_TPM           20      500.0    SIBLINGS        1           97   \n",
       "\n",
       "  cp_phone_code income_status  filling_time  \n",
       "0          98.0             2       28.7833  \n",
       "\n",
       "[1 rows x 26 columns]"
      ]
     },
     "execution_count": 31,
     "metadata": {},
     "output_type": "execute_result"
    }
   ],
   "source": [
    "# create LabelEncoder object\n",
    "le = LabelEncoder()\n",
    "\n",
    "# set mapping depending on the probability of loan repayment\n",
    "hc_mapping = {'WIDOW': 0, 'LIVE_TOGETHER': 1, 'DIVORCED': 2, 'MARRIAGE': 3, 'SINGLE': 4}\n",
    "\n",
    "# labeled column 'family_status' \n",
    "df['family_status'] = df['family_status'].apply(lambda val: hc_mapping[val])\n",
    "\n",
    "df.head(1)"
   ]
  },
  {
   "cell_type": "code",
   "execution_count": null,
   "metadata": {},
   "outputs": [],
   "source": []
  },
  {
   "cell_type": "code",
   "execution_count": null,
   "metadata": {},
   "outputs": [],
   "source": []
  },
  {
   "cell_type": "markdown",
   "metadata": {},
   "source": [
    " gender"
   ]
  },
  {
   "cell_type": "code",
   "execution_count": 32,
   "metadata": {},
   "outputs": [
    {
     "name": "stdout",
     "output_type": "stream",
     "text": [
      "  gender  closed_persent\n",
      "1      M       58.517555\n",
      "0      F       57.221148\n"
     ]
    }
   ],
   "source": [
    "get_percents(df_result, 'gender')"
   ]
  },
  {
   "cell_type": "code",
   "execution_count": 33,
   "metadata": {},
   "outputs": [
    {
     "data": {
      "text/plain": [
       "0    0\n",
       "1    1\n",
       "2    0\n",
       "3    1\n",
       "4    0\n",
       "Name: gender, dtype: int64"
      ]
     },
     "execution_count": 33,
     "metadata": {},
     "output_type": "execute_result"
    }
   ],
   "source": [
    "le = LabelEncoder()\n",
    "\n",
    "df['gender'] = le.fit_transform(df['gender']) # transorming feature\n",
    "df['gender'].head()"
   ]
  },
  {
   "cell_type": "code",
   "execution_count": null,
   "metadata": {},
   "outputs": [],
   "source": []
  },
  {
   "cell_type": "markdown",
   "metadata": {},
   "source": [
    "know_source"
   ]
  },
  {
   "cell_type": "code",
   "execution_count": 34,
   "metadata": {},
   "outputs": [
    {
     "name": "stdout",
     "output_type": "stream",
     "text": [
      "  know_source  closed_persent\n",
      "6       PRESS       76.470588\n",
      "5       OTHER       63.054187\n",
      "1       BOARD       60.000000\n",
      "7      SEARCH       58.653622\n",
      "0      BANNER       58.380202\n",
      "2       FORUM       54.455446\n",
      "3     FRIENDS       54.451039\n",
      "8          SN       54.371002\n",
      "4       METRO       47.222222\n"
     ]
    }
   ],
   "source": [
    "get_percents(df_result, 'know_source')"
   ]
  },
  {
   "cell_type": "code",
   "execution_count": 35,
   "metadata": {},
   "outputs": [
    {
     "data": {
      "text/plain": [
       "0    2\n",
       "Name: know_source, dtype: int64"
      ]
     },
     "execution_count": 35,
     "metadata": {},
     "output_type": "execute_result"
    }
   ],
   "source": [
    "# set mapping depending on the probability of loan repayment\n",
    "hc_mapping = {'METRO': 0, 'FORUM': 1, 'SN': 2, 'FRIENDS': 3, 'BANNER': 4, 'SEARCH': 5, 'BOARD': 6, 'OTHER': 7, 'PRESS': 8 }\n",
    "\n",
    "# labeled column 'know_source' \n",
    "df['know_source'] = df['know_source'].apply(lambda val: hc_mapping[val])\n",
    "df['know_source'].head(1)"
   ]
  },
  {
   "cell_type": "code",
   "execution_count": null,
   "metadata": {},
   "outputs": [],
   "source": []
  },
  {
   "cell_type": "markdown",
   "metadata": {},
   "source": [
    "loan_purpose"
   ]
  },
  {
   "cell_type": "code",
   "execution_count": 36,
   "metadata": {},
   "outputs": [
    {
     "name": "stdout",
     "output_type": "stream",
     "text": [
      "  loan_purpose  closed_persent\n",
      "9   TRAVELLING       64.596273\n",
      "8       SMALLP       62.485277\n",
      "2         DEBT       59.241706\n",
      "1  CELEBRATION       58.974359\n",
      "0         BIGP       58.123953\n",
      "7       REPAIR       57.863850\n",
      "5        OTHER       56.762749\n",
      "3    EDUCATION       56.281407\n",
      "6         RENT       54.117647\n",
      "4       HEALTH       52.988691\n"
     ]
    }
   ],
   "source": [
    "get_percents(df_result, 'loan_purpose')"
   ]
  },
  {
   "cell_type": "code",
   "execution_count": 37,
   "metadata": {},
   "outputs": [
    {
     "data": {
      "text/plain": [
       "0    8\n",
       "1    6\n",
       "2    5\n",
       "Name: loan_purpose, dtype: int64"
      ]
     },
     "execution_count": 37,
     "metadata": {},
     "output_type": "execute_result"
    }
   ],
   "source": [
    "# set mapping depending on the probability of loan repayment\n",
    "hc_mapping = {'HEALTH': 0, 'RENT': 1, 'EDUCATION': 2, 'OTHER': 3, 'REPAIR': 4, 'BIGP': 5, 'CELEBRATION': 6, 'DEBT': 7, 'SMALLP': 8, 'TRAVELLING': 9}\n",
    "\n",
    "# labeled column 'loan_purpose' \n",
    "df['loan_purpose'] = df['loan_purpose'].apply(lambda val: hc_mapping[val])\n",
    "df['loan_purpose'].head(3)"
   ]
  },
  {
   "cell_type": "code",
   "execution_count": null,
   "metadata": {},
   "outputs": [],
   "source": []
  },
  {
   "cell_type": "markdown",
   "metadata": {},
   "source": [
    "pass_type"
   ]
  },
  {
   "cell_type": "code",
   "execution_count": 38,
   "metadata": {},
   "outputs": [
    {
     "data": {
      "text/plain": [
       "PASSPORT    7482\n",
       "IDCARD      1003\n",
       "Name: passport_type, dtype: int64"
      ]
     },
     "execution_count": 38,
     "metadata": {},
     "output_type": "execute_result"
    }
   ],
   "source": [
    "df['passport_type'].value_counts()"
   ]
  },
  {
   "cell_type": "code",
   "execution_count": 39,
   "metadata": {},
   "outputs": [],
   "source": [
    "df['passport_type'] = le.fit_transform(df['passport_type']) # transorming feature"
   ]
  },
  {
   "cell_type": "code",
   "execution_count": 40,
   "metadata": {},
   "outputs": [
    {
     "data": {
      "text/plain": [
       "1    7482\n",
       "0    1003\n",
       "Name: passport_type, dtype: int64"
      ]
     },
     "execution_count": 40,
     "metadata": {},
     "output_type": "execute_result"
    }
   ],
   "source": [
    "df['passport_type'].value_counts()"
   ]
  },
  {
   "cell_type": "code",
   "execution_count": null,
   "metadata": {},
   "outputs": [],
   "source": []
  },
  {
   "cell_type": "markdown",
   "metadata": {},
   "source": [
    "social_status"
   ]
  },
  {
   "cell_type": "code",
   "execution_count": 41,
   "metadata": {},
   "outputs": [
    {
     "name": "stdout",
     "output_type": "stream",
     "text": [
      "     social_status  closed_persent\n",
      "4          STUDENT       63.987138\n",
      "1             NONE       58.392704\n",
      "2        PENSIONER       53.125000\n",
      "3  SOCIAL_BENEFITS       50.539957\n",
      "0        MATERNITY       50.349650\n"
     ]
    }
   ],
   "source": [
    "get_percents(df_result, 'social_status')"
   ]
  },
  {
   "cell_type": "code",
   "execution_count": 42,
   "metadata": {},
   "outputs": [],
   "source": [
    "hc_mapping = {'MATERNITY': 0, 'SOCIAL_BENEFITS': 1, 'PENSIONER': 2, 'NONE': 3, 'STUDENT': 4}\n",
    "\n",
    "# labeled column 'know_source' \n",
    "df['social_status'] = df['social_status'].apply(lambda val: hc_mapping[val])"
   ]
  },
  {
   "cell_type": "code",
   "execution_count": null,
   "metadata": {},
   "outputs": [],
   "source": []
  },
  {
   "cell_type": "markdown",
   "metadata": {},
   "source": [
    "##### education"
   ]
  },
  {
   "cell_type": "code",
   "execution_count": 43,
   "metadata": {},
   "outputs": [
    {
     "name": "stdout",
     "output_type": "stream",
     "text": [
      "  education  closed_persent\n",
      "0    DEGREE       75.510204\n",
      "1      HIGH       64.356172\n",
      "4     UHIGH       60.723090\n",
      "5      USCH       52.941176\n",
      "3      SSCH       50.346687\n",
      "2       SCH       48.926014\n"
     ]
    }
   ],
   "source": [
    "get_percents(df_result, 'education')"
   ]
  },
  {
   "cell_type": "code",
   "execution_count": 44,
   "metadata": {},
   "outputs": [],
   "source": [
    "# labeled with the dependencies of education level\n",
    "hc_mapping = {'USCH': 0, 'SCH': 1, 'SSCH': 2, 'UHIGH': 3, 'HIGH': 4, 'DEGREE': 5}\n",
    "\n",
    "# labeled column 'education' \n",
    "df['education'] = df['education'].apply(lambda val: hc_mapping[val])"
   ]
  },
  {
   "cell_type": "code",
   "execution_count": null,
   "metadata": {},
   "outputs": [],
   "source": []
  },
  {
   "cell_type": "markdown",
   "metadata": {},
   "source": [
    "##### faculty"
   ]
  },
  {
   "cell_type": "code",
   "execution_count": 196,
   "metadata": {},
   "outputs": [
    {
     "name": "stdout",
     "output_type": "stream",
     "text": [
      "          faculty  closed_persent\n",
      "7        MILITARY       65.555556\n",
      "5            MATH       64.317181\n",
      "1         ECONOMY       62.721088\n",
      "6        MEDICINE       62.322946\n",
      "3      HUMANITIES       61.055635\n",
      "4             LAW       61.050725\n",
      "10      TECHNICAL       60.253365\n",
      "9         SCIENCE       58.196721\n",
      "8           OTHER       55.181159\n",
      "0    CONSTRUCTION       48.491379\n",
      "2   FOOD_INDUSTRY       48.240166\n"
     ]
    }
   ],
   "source": [
    "temp_df = get_percents(df_result, 'faculty')\n",
    "temp_df"
   ]
  },
  {
   "cell_type": "code",
   "execution_count": 198,
   "metadata": {},
   "outputs": [
    {
     "ename": "TypeError",
     "evalue": "'NoneType' object is not subscriptable",
     "output_type": "error",
     "traceback": [
      "\u001b[0;31m---------------------------------------------------------------------------\u001b[0m",
      "\u001b[0;31mTypeError\u001b[0m                                 Traceback (most recent call last)",
      "\u001b[0;32m<ipython-input-198-36580b017840>\u001b[0m in \u001b[0;36m<module>\u001b[0;34m\u001b[0m\n\u001b[0;32m----> 1\u001b[0;31m \u001b[0mplt\u001b[0m\u001b[0;34m.\u001b[0m\u001b[0mplot\u001b[0m\u001b[0;34m(\u001b[0m\u001b[0mtemp_df\u001b[0m\u001b[0;34m[\u001b[0m\u001b[0;34m'faculty'\u001b[0m\u001b[0;34m]\u001b[0m\u001b[0;34m,\u001b[0m \u001b[0mtemp_df\u001b[0m\u001b[0;34m[\u001b[0m\u001b[0;34m'closed_persent'\u001b[0m\u001b[0;34m]\u001b[0m\u001b[0;34m)\u001b[0m\u001b[0;34m\u001b[0m\u001b[0;34m\u001b[0m\u001b[0m\n\u001b[0m",
      "\u001b[0;31mTypeError\u001b[0m: 'NoneType' object is not subscriptable"
     ]
    }
   ],
   "source": [
    "plt.plot(temp_df['faculty'], temp_df['closed_persent'])"
   ]
  },
  {
   "cell_type": "code",
   "execution_count": 46,
   "metadata": {},
   "outputs": [],
   "source": [
    "# labeled with the dependencies of education level\n",
    "hc_mapping = {'FOOD_INDUSTRY': 0, 'CONSTRUCTION': 1, 'OTHER': 2, 'SCIENCE': 3, 'TECHNICAL': 4, 'LAW': 5, 'HUMANITIES': 6, 'MEDICINE': 7, 'ECONOMY': 8, 'MATH': 9, 'MILITARY': 10}\n",
    "\n",
    "# labeled column 'faculty' \n",
    "df['faculty'] = df['faculty'].apply(lambda val: hc_mapping[val])"
   ]
  },
  {
   "cell_type": "markdown",
   "metadata": {},
   "source": [
    "        G      B\n",
    "Cat1   10      160\n",
    "Cat2   90      40\n",
    "Cat3   100     200\n",
    "\n",
    "        G      B\n",
    "Cat1   0.05      0.4\n",
    "Cat2   0.45     0.1\n",
    "Cat3   0.5.     0.5"
   ]
  },
  {
   "cell_type": "code",
   "execution_count": 210,
   "metadata": {},
   "outputs": [
    {
     "data": {
      "text/plain": [
       "-2.0794415416798357"
      ]
     },
     "execution_count": 210,
     "metadata": {},
     "output_type": "execute_result"
    }
   ],
   "source": [
    "np.log(0.05/0.4)"
   ]
  },
  {
   "cell_type": "code",
   "execution_count": 209,
   "metadata": {},
   "outputs": [
    {
     "data": {
      "text/plain": [
       "1.5040773967762742"
      ]
     },
     "execution_count": 209,
     "metadata": {},
     "output_type": "execute_result"
    }
   ],
   "source": [
    "np.log(0.45/0.1)"
   ]
  },
  {
   "cell_type": "code",
   "execution_count": 208,
   "metadata": {},
   "outputs": [
    {
     "data": {
      "text/plain": [
       "0.0"
      ]
     },
     "execution_count": 208,
     "metadata": {},
     "output_type": "execute_result"
    }
   ],
   "source": [
    "np.log(0.5/0.5)"
   ]
  },
  {
   "cell_type": "markdown",
   "metadata": {},
   "source": [
    "##### live_equal"
   ]
  },
  {
   "cell_type": "code",
   "execution_count": 47,
   "metadata": {},
   "outputs": [],
   "source": [
    "df['liv_equal'] = le.fit_transform(df['liv_equal']) # transorming feature"
   ]
  },
  {
   "cell_type": "code",
   "execution_count": null,
   "metadata": {},
   "outputs": [],
   "source": []
  },
  {
   "cell_type": "markdown",
   "metadata": {},
   "source": [
    "##### emp_type"
   ]
  },
  {
   "cell_type": "code",
   "execution_count": 48,
   "metadata": {},
   "outputs": [
    {
     "name": "stdout",
     "output_type": "stream",
     "text": [
      "            emp_type  closed_persent\n",
      "3                SPD       62.574257\n",
      "1           OFFICIAL       61.286550\n",
      "4         UNEMPLOYED       57.678571\n",
      "2              OWNER       54.748603\n",
      "5         UNOFFICIAL       52.879944\n",
      "0  EMPLOYMENT_CENTER       52.380952\n"
     ]
    }
   ],
   "source": [
    "get_percents(df_result, 'emp_type')"
   ]
  },
  {
   "cell_type": "code",
   "execution_count": 49,
   "metadata": {},
   "outputs": [],
   "source": [
    "# labeled with the dependencies of education level\n",
    "hc_mapping = {'EMPLOYMENT_CENTER': 0, 'UNOFFICIAL': 1, 'OWNER': 2, 'UNEMPLOYED': 3, 'OFFICIAL': 4, 'SPD': 5}\n",
    "\n",
    "# labeled column 'emp_type' \n",
    "df['emp_type'] = df['emp_type'].apply(lambda val: hc_mapping[val])"
   ]
  },
  {
   "cell_type": "code",
   "execution_count": null,
   "metadata": {},
   "outputs": [],
   "source": []
  },
  {
   "cell_type": "markdown",
   "metadata": {},
   "source": [
    "income_period"
   ]
  },
  {
   "cell_type": "code",
   "execution_count": 50,
   "metadata": {},
   "outputs": [
    {
     "name": "stdout",
     "output_type": "stream",
     "text": [
      "  income_period  closed_persent\n",
      "2       TWO_TPM       58.429339\n",
      "1       MONTHLY       58.377897\n",
      "3        WEEKLY       56.739409\n",
      "4          WORK       51.219512\n",
      "0         DAILY       51.173709\n"
     ]
    }
   ],
   "source": [
    "get_percents(df_result, 'income_period')"
   ]
  },
  {
   "cell_type": "code",
   "execution_count": 51,
   "metadata": {},
   "outputs": [],
   "source": [
    "# labeled with the dependencies of education level\n",
    "hc_mapping = {'DAILY': 0, 'WORK': 1, 'WEEKLY': 2, 'TWO_TPM': 3, 'MONTHLY': 4}\n",
    "\n",
    "# labeled column 'income_period' \n",
    "df['income_period'] = df['income_period'].apply(lambda val: hc_mapping[val])"
   ]
  },
  {
   "cell_type": "code",
   "execution_count": null,
   "metadata": {},
   "outputs": [],
   "source": []
  },
  {
   "cell_type": "markdown",
   "metadata": {},
   "source": [
    "cp_relation"
   ]
  },
  {
   "cell_type": "code",
   "execution_count": 52,
   "metadata": {},
   "outputs": [
    {
     "name": "stdout",
     "output_type": "stream",
     "text": [
      "  cp_relation  closed_persent\n",
      "3      MYSELF       64.873838\n",
      "2     FRIENDS       59.938462\n",
      "4   NEIGHBORS       59.803922\n",
      "7    SIBLINGS       58.064516\n",
      "1  COLLEAGUES       58.017041\n",
      "6   RELATIVES       56.925996\n",
      "0    CHILDREN       54.014599\n",
      "5     PARENTS       51.755725\n",
      "8      SPOUSE       50.457875\n"
     ]
    }
   ],
   "source": [
    "get_percents(df_result, 'cp_relation')"
   ]
  },
  {
   "cell_type": "code",
   "execution_count": 53,
   "metadata": {},
   "outputs": [],
   "source": [
    "# labeled with the dependencies of education level\n",
    "hc_mapping = {'SPOUSE': 0, 'PARENTS': 1, 'CHILDREN': 2,'RELATIVES': 3, 'COLLEAGUES': 4, 'SIBLINGS': 5, 'NEIGHBORS': 6, 'FRIENDS': 7, 'MYSELF': 8 }\n",
    "\n",
    "# labeled column 'cp_relation' \n",
    "df['cp_relation'] = df['cp_relation'].apply(lambda val: hc_mapping[val])"
   ]
  },
  {
   "cell_type": "code",
   "execution_count": 54,
   "metadata": {},
   "outputs": [
    {
     "data": {
      "text/html": [
       "<div>\n",
       "<style scoped>\n",
       "    .dataframe tbody tr th:only-of-type {\n",
       "        vertical-align: middle;\n",
       "    }\n",
       "\n",
       "    .dataframe tbody tr th {\n",
       "        vertical-align: top;\n",
       "    }\n",
       "\n",
       "    .dataframe thead th {\n",
       "        text-align: right;\n",
       "    }\n",
       "</style>\n",
       "<table border=\"1\" class=\"dataframe\">\n",
       "  <thead>\n",
       "    <tr style=\"text-align: right;\">\n",
       "      <th></th>\n",
       "      <th>status</th>\n",
       "      <th>product</th>\n",
       "      <th>credit_term</th>\n",
       "      <th>credit_amount</th>\n",
       "      <th>know_source</th>\n",
       "      <th>loan_purpose</th>\n",
       "      <th>passport_type</th>\n",
       "      <th>social_status</th>\n",
       "      <th>education</th>\n",
       "      <th>faculty</th>\n",
       "      <th>...</th>\n",
       "      <th>income</th>\n",
       "      <th>income_period</th>\n",
       "      <th>income_next</th>\n",
       "      <th>exp_loans</th>\n",
       "      <th>cp_relation</th>\n",
       "      <th>app_rank</th>\n",
       "      <th>mphone_code</th>\n",
       "      <th>cp_phone_code</th>\n",
       "      <th>income_status</th>\n",
       "      <th>filling_time</th>\n",
       "    </tr>\n",
       "  </thead>\n",
       "  <tbody>\n",
       "    <tr>\n",
       "      <th>0</th>\n",
       "      <td>CLOSED</td>\n",
       "      <td>START_11</td>\n",
       "      <td>28</td>\n",
       "      <td>1400</td>\n",
       "      <td>2</td>\n",
       "      <td>8</td>\n",
       "      <td>1</td>\n",
       "      <td>3</td>\n",
       "      <td>4</td>\n",
       "      <td>0</td>\n",
       "      <td>...</td>\n",
       "      <td>950.0</td>\n",
       "      <td>3</td>\n",
       "      <td>20</td>\n",
       "      <td>500.0</td>\n",
       "      <td>5</td>\n",
       "      <td>1</td>\n",
       "      <td>97</td>\n",
       "      <td>98.0</td>\n",
       "      <td>2</td>\n",
       "      <td>28.7833</td>\n",
       "    </tr>\n",
       "    <tr>\n",
       "      <th>1</th>\n",
       "      <td>OVERDUE</td>\n",
       "      <td>START_11</td>\n",
       "      <td>27</td>\n",
       "      <td>2000</td>\n",
       "      <td>5</td>\n",
       "      <td>6</td>\n",
       "      <td>0</td>\n",
       "      <td>3</td>\n",
       "      <td>2</td>\n",
       "      <td>4</td>\n",
       "      <td>...</td>\n",
       "      <td>13000.0</td>\n",
       "      <td>3</td>\n",
       "      <td>5</td>\n",
       "      <td>1000.0</td>\n",
       "      <td>4</td>\n",
       "      <td>1</td>\n",
       "      <td>97</td>\n",
       "      <td>68.0</td>\n",
       "      <td>2</td>\n",
       "      <td>44.6167</td>\n",
       "    </tr>\n",
       "    <tr>\n",
       "      <th>2</th>\n",
       "      <td>OVERDUE</td>\n",
       "      <td>START_11</td>\n",
       "      <td>28</td>\n",
       "      <td>4000</td>\n",
       "      <td>5</td>\n",
       "      <td>5</td>\n",
       "      <td>1</td>\n",
       "      <td>4</td>\n",
       "      <td>1</td>\n",
       "      <td>6</td>\n",
       "      <td>...</td>\n",
       "      <td>12000.0</td>\n",
       "      <td>2</td>\n",
       "      <td>4</td>\n",
       "      <td>4000.0</td>\n",
       "      <td>5</td>\n",
       "      <td>1</td>\n",
       "      <td>98</td>\n",
       "      <td>97.0</td>\n",
       "      <td>1</td>\n",
       "      <td>26.6167</td>\n",
       "    </tr>\n",
       "    <tr>\n",
       "      <th>3</th>\n",
       "      <td>OVERDUE</td>\n",
       "      <td>START_11</td>\n",
       "      <td>28</td>\n",
       "      <td>4000</td>\n",
       "      <td>5</td>\n",
       "      <td>0</td>\n",
       "      <td>1</td>\n",
       "      <td>2</td>\n",
       "      <td>3</td>\n",
       "      <td>4</td>\n",
       "      <td>...</td>\n",
       "      <td>7000.0</td>\n",
       "      <td>4</td>\n",
       "      <td>28</td>\n",
       "      <td>500.0</td>\n",
       "      <td>5</td>\n",
       "      <td>1</td>\n",
       "      <td>99</td>\n",
       "      <td>50.0</td>\n",
       "      <td>1</td>\n",
       "      <td>55.4167</td>\n",
       "    </tr>\n",
       "    <tr>\n",
       "      <th>4</th>\n",
       "      <td>OVERDUE</td>\n",
       "      <td>START_11</td>\n",
       "      <td>28</td>\n",
       "      <td>2000</td>\n",
       "      <td>4</td>\n",
       "      <td>5</td>\n",
       "      <td>1</td>\n",
       "      <td>0</td>\n",
       "      <td>2</td>\n",
       "      <td>2</td>\n",
       "      <td>...</td>\n",
       "      <td>7500.0</td>\n",
       "      <td>4</td>\n",
       "      <td>20</td>\n",
       "      <td>2000.0</td>\n",
       "      <td>0</td>\n",
       "      <td>1</td>\n",
       "      <td>63</td>\n",
       "      <td>63.0</td>\n",
       "      <td>1</td>\n",
       "      <td>806.2</td>\n",
       "    </tr>\n",
       "  </tbody>\n",
       "</table>\n",
       "<p>5 rows × 26 columns</p>\n",
       "</div>"
      ],
      "text/plain": [
       "    status   product  credit_term  credit_amount  know_source  loan_purpose  \\\n",
       "0   CLOSED  START_11           28           1400            2             8   \n",
       "1  OVERDUE  START_11           27           2000            5             6   \n",
       "2  OVERDUE  START_11           28           4000            5             5   \n",
       "3  OVERDUE  START_11           28           4000            5             0   \n",
       "4  OVERDUE  START_11           28           2000            4             5   \n",
       "\n",
       "   passport_type  social_status  education  faculty  ...   income  \\\n",
       "0              1              3          4        0  ...    950.0   \n",
       "1              0              3          2        4  ...  13000.0   \n",
       "2              1              4          1        6  ...  12000.0   \n",
       "3              1              2          3        4  ...   7000.0   \n",
       "4              1              0          2        2  ...   7500.0   \n",
       "\n",
       "   income_period  income_next  exp_loans  cp_relation  app_rank  mphone_code  \\\n",
       "0              3           20      500.0            5         1           97   \n",
       "1              3            5     1000.0            4         1           97   \n",
       "2              2            4     4000.0            5         1           98   \n",
       "3              4           28      500.0            5         1           99   \n",
       "4              4           20     2000.0            0         1           63   \n",
       "\n",
       "   cp_phone_code income_status  filling_time  \n",
       "0           98.0             2       28.7833  \n",
       "1           68.0             2       44.6167  \n",
       "2           97.0             1       26.6167  \n",
       "3           50.0             1       55.4167  \n",
       "4           63.0             1         806.2  \n",
       "\n",
       "[5 rows x 26 columns]"
      ]
     },
     "execution_count": 54,
     "metadata": {},
     "output_type": "execute_result"
    }
   ],
   "source": [
    "df.head()"
   ]
  },
  {
   "cell_type": "markdown",
   "metadata": {},
   "source": [
    "product"
   ]
  },
  {
   "cell_type": "code",
   "execution_count": 55,
   "metadata": {},
   "outputs": [],
   "source": [
    "# labeled with the dependencies of education level\n",
    "hc_mapping = {'START_11': 0, 'START': 1}\n",
    "\n",
    "# labeled column 'product' \n",
    "df['product'] = df['product'].apply(lambda val: hc_mapping[val])"
   ]
  },
  {
   "cell_type": "markdown",
   "metadata": {},
   "source": [
    "Target - status"
   ]
  },
  {
   "cell_type": "code",
   "execution_count": 56,
   "metadata": {},
   "outputs": [],
   "source": [
    "# labeled with the dependencies of education level\n",
    "hc_mapping = {'OVERDUE': 0, 'CLOSED': 1}\n",
    "\n",
    "# labeled column 'status' \n",
    "df['status'] = df['status'].apply(lambda val: hc_mapping[val])"
   ]
  },
  {
   "cell_type": "markdown",
   "metadata": {},
   "source": [
    "maybe later I will write a function to features engineering"
   ]
  },
  {
   "cell_type": "markdown",
   "metadata": {},
   "source": [
    "### Normalize"
   ]
  },
  {
   "cell_type": "code",
   "execution_count": 57,
   "metadata": {},
   "outputs": [],
   "source": [
    "df = df.apply(lambda x: x/x.max(), axis=0)"
   ]
  },
  {
   "cell_type": "code",
   "execution_count": 58,
   "metadata": {},
   "outputs": [
    {
     "data": {
      "text/html": [
       "<div>\n",
       "<style scoped>\n",
       "    .dataframe tbody tr th:only-of-type {\n",
       "        vertical-align: middle;\n",
       "    }\n",
       "\n",
       "    .dataframe tbody tr th {\n",
       "        vertical-align: top;\n",
       "    }\n",
       "\n",
       "    .dataframe thead th {\n",
       "        text-align: right;\n",
       "    }\n",
       "</style>\n",
       "<table border=\"1\" class=\"dataframe\">\n",
       "  <thead>\n",
       "    <tr style=\"text-align: right;\">\n",
       "      <th></th>\n",
       "      <th>status</th>\n",
       "      <th>product</th>\n",
       "      <th>credit_term</th>\n",
       "      <th>credit_amount</th>\n",
       "      <th>know_source</th>\n",
       "      <th>loan_purpose</th>\n",
       "      <th>passport_type</th>\n",
       "      <th>social_status</th>\n",
       "      <th>education</th>\n",
       "      <th>faculty</th>\n",
       "      <th>...</th>\n",
       "      <th>income</th>\n",
       "      <th>income_period</th>\n",
       "      <th>income_next</th>\n",
       "      <th>exp_loans</th>\n",
       "      <th>cp_relation</th>\n",
       "      <th>app_rank</th>\n",
       "      <th>mphone_code</th>\n",
       "      <th>cp_phone_code</th>\n",
       "      <th>income_status</th>\n",
       "      <th>filling_time</th>\n",
       "    </tr>\n",
       "  </thead>\n",
       "  <tbody>\n",
       "    <tr>\n",
       "      <th>0</th>\n",
       "      <td>1.0</td>\n",
       "      <td>0.0</td>\n",
       "      <td>1.000000</td>\n",
       "      <td>0.35</td>\n",
       "      <td>0.250</td>\n",
       "      <td>0.888889</td>\n",
       "      <td>1.0</td>\n",
       "      <td>0.75</td>\n",
       "      <td>0.8</td>\n",
       "      <td>0.0</td>\n",
       "      <td>...</td>\n",
       "      <td>0.003167</td>\n",
       "      <td>0.75</td>\n",
       "      <td>2.73781e-05</td>\n",
       "      <td>0.008333</td>\n",
       "      <td>0.625</td>\n",
       "      <td>0.043478</td>\n",
       "      <td>0.979798</td>\n",
       "      <td>0.989899</td>\n",
       "      <td>0.666667</td>\n",
       "      <td>0.0200176</td>\n",
       "    </tr>\n",
       "    <tr>\n",
       "      <th>1</th>\n",
       "      <td>0.0</td>\n",
       "      <td>0.0</td>\n",
       "      <td>0.964286</td>\n",
       "      <td>0.50</td>\n",
       "      <td>0.625</td>\n",
       "      <td>0.666667</td>\n",
       "      <td>0.0</td>\n",
       "      <td>0.75</td>\n",
       "      <td>0.4</td>\n",
       "      <td>0.4</td>\n",
       "      <td>...</td>\n",
       "      <td>0.043333</td>\n",
       "      <td>0.75</td>\n",
       "      <td>6.84453e-06</td>\n",
       "      <td>0.016667</td>\n",
       "      <td>0.500</td>\n",
       "      <td>0.043478</td>\n",
       "      <td>0.979798</td>\n",
       "      <td>0.686869</td>\n",
       "      <td>0.666667</td>\n",
       "      <td>0.031029</td>\n",
       "    </tr>\n",
       "    <tr>\n",
       "      <th>2</th>\n",
       "      <td>0.0</td>\n",
       "      <td>0.0</td>\n",
       "      <td>1.000000</td>\n",
       "      <td>1.00</td>\n",
       "      <td>0.625</td>\n",
       "      <td>0.555556</td>\n",
       "      <td>1.0</td>\n",
       "      <td>1.00</td>\n",
       "      <td>0.2</td>\n",
       "      <td>0.6</td>\n",
       "      <td>...</td>\n",
       "      <td>0.040000</td>\n",
       "      <td>0.50</td>\n",
       "      <td>5.47563e-06</td>\n",
       "      <td>0.066667</td>\n",
       "      <td>0.625</td>\n",
       "      <td>0.043478</td>\n",
       "      <td>0.989899</td>\n",
       "      <td>0.979798</td>\n",
       "      <td>0.333333</td>\n",
       "      <td>0.0185108</td>\n",
       "    </tr>\n",
       "    <tr>\n",
       "      <th>3</th>\n",
       "      <td>0.0</td>\n",
       "      <td>0.0</td>\n",
       "      <td>1.000000</td>\n",
       "      <td>1.00</td>\n",
       "      <td>0.625</td>\n",
       "      <td>0.000000</td>\n",
       "      <td>1.0</td>\n",
       "      <td>0.50</td>\n",
       "      <td>0.6</td>\n",
       "      <td>0.4</td>\n",
       "      <td>...</td>\n",
       "      <td>0.023333</td>\n",
       "      <td>1.00</td>\n",
       "      <td>3.83294e-05</td>\n",
       "      <td>0.008333</td>\n",
       "      <td>0.625</td>\n",
       "      <td>0.043478</td>\n",
       "      <td>1.000000</td>\n",
       "      <td>0.505051</td>\n",
       "      <td>0.333333</td>\n",
       "      <td>0.03854</td>\n",
       "    </tr>\n",
       "    <tr>\n",
       "      <th>4</th>\n",
       "      <td>0.0</td>\n",
       "      <td>0.0</td>\n",
       "      <td>1.000000</td>\n",
       "      <td>0.50</td>\n",
       "      <td>0.500</td>\n",
       "      <td>0.555556</td>\n",
       "      <td>1.0</td>\n",
       "      <td>0.00</td>\n",
       "      <td>0.4</td>\n",
       "      <td>0.2</td>\n",
       "      <td>...</td>\n",
       "      <td>0.025000</td>\n",
       "      <td>1.00</td>\n",
       "      <td>2.73781e-05</td>\n",
       "      <td>0.033333</td>\n",
       "      <td>0.000</td>\n",
       "      <td>0.043478</td>\n",
       "      <td>0.636364</td>\n",
       "      <td>0.636364</td>\n",
       "      <td>0.333333</td>\n",
       "      <td>0.560679</td>\n",
       "    </tr>\n",
       "    <tr>\n",
       "      <th>...</th>\n",
       "      <td>...</td>\n",
       "      <td>...</td>\n",
       "      <td>...</td>\n",
       "      <td>...</td>\n",
       "      <td>...</td>\n",
       "      <td>...</td>\n",
       "      <td>...</td>\n",
       "      <td>...</td>\n",
       "      <td>...</td>\n",
       "      <td>...</td>\n",
       "      <td>...</td>\n",
       "      <td>...</td>\n",
       "      <td>...</td>\n",
       "      <td>...</td>\n",
       "      <td>...</td>\n",
       "      <td>...</td>\n",
       "      <td>...</td>\n",
       "      <td>...</td>\n",
       "      <td>...</td>\n",
       "      <td>...</td>\n",
       "      <td>...</td>\n",
       "    </tr>\n",
       "    <tr>\n",
       "      <th>8559</th>\n",
       "      <td>1.0</td>\n",
       "      <td>0.0</td>\n",
       "      <td>1.000000</td>\n",
       "      <td>0.50</td>\n",
       "      <td>0.875</td>\n",
       "      <td>0.222222</td>\n",
       "      <td>1.0</td>\n",
       "      <td>0.75</td>\n",
       "      <td>1.0</td>\n",
       "      <td>0.2</td>\n",
       "      <td>...</td>\n",
       "      <td>0.043333</td>\n",
       "      <td>0.75</td>\n",
       "      <td>1.5058e-05</td>\n",
       "      <td>0.100000</td>\n",
       "      <td>0.625</td>\n",
       "      <td>0.086957</td>\n",
       "      <td>0.989899</td>\n",
       "      <td>0.979798</td>\n",
       "      <td>0.666667</td>\n",
       "      <td>0.0267172</td>\n",
       "    </tr>\n",
       "    <tr>\n",
       "      <th>8560</th>\n",
       "      <td>1.0</td>\n",
       "      <td>0.0</td>\n",
       "      <td>1.000000</td>\n",
       "      <td>1.00</td>\n",
       "      <td>0.625</td>\n",
       "      <td>0.555556</td>\n",
       "      <td>1.0</td>\n",
       "      <td>0.75</td>\n",
       "      <td>0.8</td>\n",
       "      <td>0.8</td>\n",
       "      <td>...</td>\n",
       "      <td>0.046667</td>\n",
       "      <td>1.00</td>\n",
       "      <td>1.36891e-05</td>\n",
       "      <td>0.000000</td>\n",
       "      <td>0.375</td>\n",
       "      <td>0.086957</td>\n",
       "      <td>0.959596</td>\n",
       "      <td>1.000000</td>\n",
       "      <td>0.666667</td>\n",
       "      <td>0.0101653</td>\n",
       "    </tr>\n",
       "    <tr>\n",
       "      <th>8561</th>\n",
       "      <td>0.0</td>\n",
       "      <td>0.0</td>\n",
       "      <td>0.714286</td>\n",
       "      <td>0.75</td>\n",
       "      <td>0.375</td>\n",
       "      <td>1.000000</td>\n",
       "      <td>0.0</td>\n",
       "      <td>0.75</td>\n",
       "      <td>0.4</td>\n",
       "      <td>0.1</td>\n",
       "      <td>...</td>\n",
       "      <td>0.025000</td>\n",
       "      <td>0.75</td>\n",
       "      <td>1.77958e-05</td>\n",
       "      <td>0.025000</td>\n",
       "      <td>0.000</td>\n",
       "      <td>0.043478</td>\n",
       "      <td>1.000000</td>\n",
       "      <td>1.000000</td>\n",
       "      <td>0.666667</td>\n",
       "      <td>0.0203538</td>\n",
       "    </tr>\n",
       "    <tr>\n",
       "      <th>8562</th>\n",
       "      <td>1.0</td>\n",
       "      <td>0.0</td>\n",
       "      <td>1.000000</td>\n",
       "      <td>1.00</td>\n",
       "      <td>0.250</td>\n",
       "      <td>0.888889</td>\n",
       "      <td>1.0</td>\n",
       "      <td>0.75</td>\n",
       "      <td>0.8</td>\n",
       "      <td>0.8</td>\n",
       "      <td>...</td>\n",
       "      <td>0.020000</td>\n",
       "      <td>0.75</td>\n",
       "      <td>1.91647e-05</td>\n",
       "      <td>0.000000</td>\n",
       "      <td>0.875</td>\n",
       "      <td>0.173913</td>\n",
       "      <td>0.505051</td>\n",
       "      <td>0.505051</td>\n",
       "      <td>0.666667</td>\n",
       "      <td>0.00949301</td>\n",
       "    </tr>\n",
       "    <tr>\n",
       "      <th>8563</th>\n",
       "      <td>0.0</td>\n",
       "      <td>0.0</td>\n",
       "      <td>1.000000</td>\n",
       "      <td>0.25</td>\n",
       "      <td>0.250</td>\n",
       "      <td>0.444444</td>\n",
       "      <td>0.0</td>\n",
       "      <td>0.75</td>\n",
       "      <td>0.8</td>\n",
       "      <td>0.6</td>\n",
       "      <td>...</td>\n",
       "      <td>0.040000</td>\n",
       "      <td>1.00</td>\n",
       "      <td>2.73781e-05</td>\n",
       "      <td>0.000000</td>\n",
       "      <td>0.625</td>\n",
       "      <td>0.043478</td>\n",
       "      <td>0.959596</td>\n",
       "      <td>0.666667</td>\n",
       "      <td>0.666667</td>\n",
       "      <td>0.0103392</td>\n",
       "    </tr>\n",
       "  </tbody>\n",
       "</table>\n",
       "<p>8485 rows × 26 columns</p>\n",
       "</div>"
      ],
      "text/plain": [
       "      status  product  credit_term  credit_amount  know_source  loan_purpose  \\\n",
       "0        1.0      0.0     1.000000           0.35        0.250      0.888889   \n",
       "1        0.0      0.0     0.964286           0.50        0.625      0.666667   \n",
       "2        0.0      0.0     1.000000           1.00        0.625      0.555556   \n",
       "3        0.0      0.0     1.000000           1.00        0.625      0.000000   \n",
       "4        0.0      0.0     1.000000           0.50        0.500      0.555556   \n",
       "...      ...      ...          ...            ...          ...           ...   \n",
       "8559     1.0      0.0     1.000000           0.50        0.875      0.222222   \n",
       "8560     1.0      0.0     1.000000           1.00        0.625      0.555556   \n",
       "8561     0.0      0.0     0.714286           0.75        0.375      1.000000   \n",
       "8562     1.0      0.0     1.000000           1.00        0.250      0.888889   \n",
       "8563     0.0      0.0     1.000000           0.25        0.250      0.444444   \n",
       "\n",
       "      passport_type  social_status  education  faculty  ...    income  \\\n",
       "0               1.0           0.75        0.8      0.0  ...  0.003167   \n",
       "1               0.0           0.75        0.4      0.4  ...  0.043333   \n",
       "2               1.0           1.00        0.2      0.6  ...  0.040000   \n",
       "3               1.0           0.50        0.6      0.4  ...  0.023333   \n",
       "4               1.0           0.00        0.4      0.2  ...  0.025000   \n",
       "...             ...            ...        ...      ...  ...       ...   \n",
       "8559            1.0           0.75        1.0      0.2  ...  0.043333   \n",
       "8560            1.0           0.75        0.8      0.8  ...  0.046667   \n",
       "8561            0.0           0.75        0.4      0.1  ...  0.025000   \n",
       "8562            1.0           0.75        0.8      0.8  ...  0.020000   \n",
       "8563            0.0           0.75        0.8      0.6  ...  0.040000   \n",
       "\n",
       "      income_period  income_next  exp_loans  cp_relation  app_rank  \\\n",
       "0              0.75  2.73781e-05   0.008333        0.625  0.043478   \n",
       "1              0.75  6.84453e-06   0.016667        0.500  0.043478   \n",
       "2              0.50  5.47563e-06   0.066667        0.625  0.043478   \n",
       "3              1.00  3.83294e-05   0.008333        0.625  0.043478   \n",
       "4              1.00  2.73781e-05   0.033333        0.000  0.043478   \n",
       "...             ...          ...        ...          ...       ...   \n",
       "8559           0.75   1.5058e-05   0.100000        0.625  0.086957   \n",
       "8560           1.00  1.36891e-05   0.000000        0.375  0.086957   \n",
       "8561           0.75  1.77958e-05   0.025000        0.000  0.043478   \n",
       "8562           0.75  1.91647e-05   0.000000        0.875  0.173913   \n",
       "8563           1.00  2.73781e-05   0.000000        0.625  0.043478   \n",
       "\n",
       "      mphone_code  cp_phone_code income_status  filling_time  \n",
       "0        0.979798       0.989899      0.666667     0.0200176  \n",
       "1        0.979798       0.686869      0.666667      0.031029  \n",
       "2        0.989899       0.979798      0.333333     0.0185108  \n",
       "3        1.000000       0.505051      0.333333       0.03854  \n",
       "4        0.636364       0.636364      0.333333      0.560679  \n",
       "...           ...            ...           ...           ...  \n",
       "8559     0.989899       0.979798      0.666667     0.0267172  \n",
       "8560     0.959596       1.000000      0.666667     0.0101653  \n",
       "8561     1.000000       1.000000      0.666667     0.0203538  \n",
       "8562     0.505051       0.505051      0.666667    0.00949301  \n",
       "8563     0.959596       0.666667      0.666667     0.0103392  \n",
       "\n",
       "[8485 rows x 26 columns]"
      ]
     },
     "execution_count": 58,
     "metadata": {},
     "output_type": "execute_result"
    }
   ],
   "source": [
    "df"
   ]
  },
  {
   "cell_type": "code",
   "execution_count": 59,
   "metadata": {},
   "outputs": [],
   "source": [
    "df.to_csv('scaled_loans.csv', index = False)"
   ]
  },
  {
   "cell_type": "code",
   "execution_count": 65,
   "metadata": {},
   "outputs": [],
   "source": [
    "from sklearn.linear_model import LogisticRegressionCV\n",
    "from sklearn.metrics import classification_report, roc_auc_score"
   ]
  },
  {
   "cell_type": "code",
   "execution_count": 61,
   "metadata": {},
   "outputs": [],
   "source": [
    "X = df.drop('status', axis='columns')\n",
    "y = df['status']"
   ]
  },
  {
   "cell_type": "code",
   "execution_count": 63,
   "metadata": {},
   "outputs": [
    {
     "name": "stderr",
     "output_type": "stream",
     "text": [
      "/Users/romanshevtsiv/anaconda3/envs/devrep-final/lib/python3.8/site-packages/sklearn/linear_model/_logistic.py:938: ConvergenceWarning: lbfgs failed to converge (status=1):\n",
      "STOP: TOTAL NO. of ITERATIONS REACHED LIMIT.\n",
      "\n",
      "Increase the number of iterations (max_iter) or scale the data as shown in:\n",
      "    https://scikit-learn.org/stable/modules/preprocessing.html\n",
      "Please also refer to the documentation for alternative solver options:\n",
      "    https://scikit-learn.org/stable/modules/linear_model.html#logistic-regression\n",
      "  n_iter_i = _check_optimize_result(\n",
      "/Users/romanshevtsiv/anaconda3/envs/devrep-final/lib/python3.8/site-packages/sklearn/linear_model/_logistic.py:938: ConvergenceWarning: lbfgs failed to converge (status=1):\n",
      "STOP: TOTAL NO. of ITERATIONS REACHED LIMIT.\n",
      "\n",
      "Increase the number of iterations (max_iter) or scale the data as shown in:\n",
      "    https://scikit-learn.org/stable/modules/preprocessing.html\n",
      "Please also refer to the documentation for alternative solver options:\n",
      "    https://scikit-learn.org/stable/modules/linear_model.html#logistic-regression\n",
      "  n_iter_i = _check_optimize_result(\n",
      "/Users/romanshevtsiv/anaconda3/envs/devrep-final/lib/python3.8/site-packages/sklearn/linear_model/_logistic.py:938: ConvergenceWarning: lbfgs failed to converge (status=1):\n",
      "STOP: TOTAL NO. of ITERATIONS REACHED LIMIT.\n",
      "\n",
      "Increase the number of iterations (max_iter) or scale the data as shown in:\n",
      "    https://scikit-learn.org/stable/modules/preprocessing.html\n",
      "Please also refer to the documentation for alternative solver options:\n",
      "    https://scikit-learn.org/stable/modules/linear_model.html#logistic-regression\n",
      "  n_iter_i = _check_optimize_result(\n",
      "/Users/romanshevtsiv/anaconda3/envs/devrep-final/lib/python3.8/site-packages/sklearn/linear_model/_logistic.py:938: ConvergenceWarning: lbfgs failed to converge (status=1):\n",
      "STOP: TOTAL NO. of ITERATIONS REACHED LIMIT.\n",
      "\n",
      "Increase the number of iterations (max_iter) or scale the data as shown in:\n",
      "    https://scikit-learn.org/stable/modules/preprocessing.html\n",
      "Please also refer to the documentation for alternative solver options:\n",
      "    https://scikit-learn.org/stable/modules/linear_model.html#logistic-regression\n",
      "  n_iter_i = _check_optimize_result(\n",
      "/Users/romanshevtsiv/anaconda3/envs/devrep-final/lib/python3.8/site-packages/sklearn/linear_model/_logistic.py:938: ConvergenceWarning: lbfgs failed to converge (status=1):\n",
      "STOP: TOTAL NO. of ITERATIONS REACHED LIMIT.\n",
      "\n",
      "Increase the number of iterations (max_iter) or scale the data as shown in:\n",
      "    https://scikit-learn.org/stable/modules/preprocessing.html\n",
      "Please also refer to the documentation for alternative solver options:\n",
      "    https://scikit-learn.org/stable/modules/linear_model.html#logistic-regression\n",
      "  n_iter_i = _check_optimize_result(\n",
      "/Users/romanshevtsiv/anaconda3/envs/devrep-final/lib/python3.8/site-packages/sklearn/linear_model/_logistic.py:938: ConvergenceWarning: lbfgs failed to converge (status=1):\n",
      "STOP: TOTAL NO. of ITERATIONS REACHED LIMIT.\n",
      "\n",
      "Increase the number of iterations (max_iter) or scale the data as shown in:\n",
      "    https://scikit-learn.org/stable/modules/preprocessing.html\n",
      "Please also refer to the documentation for alternative solver options:\n",
      "    https://scikit-learn.org/stable/modules/linear_model.html#logistic-regression\n",
      "  n_iter_i = _check_optimize_result(\n",
      "/Users/romanshevtsiv/anaconda3/envs/devrep-final/lib/python3.8/site-packages/sklearn/linear_model/_logistic.py:938: ConvergenceWarning: lbfgs failed to converge (status=1):\n",
      "STOP: TOTAL NO. of ITERATIONS REACHED LIMIT.\n",
      "\n",
      "Increase the number of iterations (max_iter) or scale the data as shown in:\n",
      "    https://scikit-learn.org/stable/modules/preprocessing.html\n",
      "Please also refer to the documentation for alternative solver options:\n",
      "    https://scikit-learn.org/stable/modules/linear_model.html#logistic-regression\n",
      "  n_iter_i = _check_optimize_result(\n",
      "/Users/romanshevtsiv/anaconda3/envs/devrep-final/lib/python3.8/site-packages/sklearn/linear_model/_logistic.py:938: ConvergenceWarning: lbfgs failed to converge (status=1):\n",
      "STOP: TOTAL NO. of ITERATIONS REACHED LIMIT.\n",
      "\n",
      "Increase the number of iterations (max_iter) or scale the data as shown in:\n",
      "    https://scikit-learn.org/stable/modules/preprocessing.html\n",
      "Please also refer to the documentation for alternative solver options:\n",
      "    https://scikit-learn.org/stable/modules/linear_model.html#logistic-regression\n",
      "  n_iter_i = _check_optimize_result(\n",
      "/Users/romanshevtsiv/anaconda3/envs/devrep-final/lib/python3.8/site-packages/sklearn/linear_model/_logistic.py:938: ConvergenceWarning: lbfgs failed to converge (status=1):\n",
      "STOP: TOTAL NO. of ITERATIONS REACHED LIMIT.\n",
      "\n",
      "Increase the number of iterations (max_iter) or scale the data as shown in:\n",
      "    https://scikit-learn.org/stable/modules/preprocessing.html\n",
      "Please also refer to the documentation for alternative solver options:\n",
      "    https://scikit-learn.org/stable/modules/linear_model.html#logistic-regression\n",
      "  n_iter_i = _check_optimize_result(\n",
      "/Users/romanshevtsiv/anaconda3/envs/devrep-final/lib/python3.8/site-packages/sklearn/linear_model/_logistic.py:938: ConvergenceWarning: lbfgs failed to converge (status=1):\n",
      "STOP: TOTAL NO. of ITERATIONS REACHED LIMIT.\n",
      "\n",
      "Increase the number of iterations (max_iter) or scale the data as shown in:\n",
      "    https://scikit-learn.org/stable/modules/preprocessing.html\n",
      "Please also refer to the documentation for alternative solver options:\n",
      "    https://scikit-learn.org/stable/modules/linear_model.html#logistic-regression\n",
      "  n_iter_i = _check_optimize_result(\n",
      "/Users/romanshevtsiv/anaconda3/envs/devrep-final/lib/python3.8/site-packages/sklearn/linear_model/_logistic.py:938: ConvergenceWarning: lbfgs failed to converge (status=1):\n",
      "STOP: TOTAL NO. of ITERATIONS REACHED LIMIT.\n",
      "\n",
      "Increase the number of iterations (max_iter) or scale the data as shown in:\n",
      "    https://scikit-learn.org/stable/modules/preprocessing.html\n",
      "Please also refer to the documentation for alternative solver options:\n",
      "    https://scikit-learn.org/stable/modules/linear_model.html#logistic-regression\n",
      "  n_iter_i = _check_optimize_result(\n",
      "/Users/romanshevtsiv/anaconda3/envs/devrep-final/lib/python3.8/site-packages/sklearn/linear_model/_logistic.py:938: ConvergenceWarning: lbfgs failed to converge (status=1):\n",
      "STOP: TOTAL NO. of ITERATIONS REACHED LIMIT.\n",
      "\n",
      "Increase the number of iterations (max_iter) or scale the data as shown in:\n",
      "    https://scikit-learn.org/stable/modules/preprocessing.html\n",
      "Please also refer to the documentation for alternative solver options:\n",
      "    https://scikit-learn.org/stable/modules/linear_model.html#logistic-regression\n",
      "  n_iter_i = _check_optimize_result(\n",
      "/Users/romanshevtsiv/anaconda3/envs/devrep-final/lib/python3.8/site-packages/sklearn/linear_model/_logistic.py:938: ConvergenceWarning: lbfgs failed to converge (status=1):\n",
      "STOP: TOTAL NO. of ITERATIONS REACHED LIMIT.\n",
      "\n",
      "Increase the number of iterations (max_iter) or scale the data as shown in:\n",
      "    https://scikit-learn.org/stable/modules/preprocessing.html\n",
      "Please also refer to the documentation for alternative solver options:\n",
      "    https://scikit-learn.org/stable/modules/linear_model.html#logistic-regression\n",
      "  n_iter_i = _check_optimize_result(\n",
      "/Users/romanshevtsiv/anaconda3/envs/devrep-final/lib/python3.8/site-packages/sklearn/linear_model/_logistic.py:938: ConvergenceWarning: lbfgs failed to converge (status=1):\n",
      "STOP: TOTAL NO. of ITERATIONS REACHED LIMIT.\n",
      "\n",
      "Increase the number of iterations (max_iter) or scale the data as shown in:\n",
      "    https://scikit-learn.org/stable/modules/preprocessing.html\n",
      "Please also refer to the documentation for alternative solver options:\n",
      "    https://scikit-learn.org/stable/modules/linear_model.html#logistic-regression\n",
      "  n_iter_i = _check_optimize_result(\n"
     ]
    }
   ],
   "source": [
    "clf = LogisticRegressionCV(cv=5).fit(X,y)"
   ]
  },
  {
   "cell_type": "code",
   "execution_count": 64,
   "metadata": {},
   "outputs": [],
   "source": [
    "y_pred = clf.predict(X)"
   ]
  },
  {
   "cell_type": "code",
   "execution_count": 66,
   "metadata": {},
   "outputs": [
    {
     "name": "stdout",
     "output_type": "stream",
     "text": [
      "              precision    recall  f1-score   support\n",
      "\n",
      "         0.0       0.58      0.52      0.55      3560\n",
      "         1.0       0.68      0.73      0.71      4925\n",
      "\n",
      "    accuracy                           0.64      8485\n",
      "   macro avg       0.63      0.63      0.63      8485\n",
      "weighted avg       0.64      0.64      0.64      8485\n",
      "\n"
     ]
    }
   ],
   "source": [
    "print(classification_report(y, y_pred))"
   ]
  },
  {
   "cell_type": "code",
   "execution_count": 69,
   "metadata": {},
   "outputs": [
    {
     "data": {
      "text/plain": [
       "0.2525494781269606"
      ]
     },
     "execution_count": 69,
     "metadata": {},
     "output_type": "execute_result"
    }
   ],
   "source": [
    "2 * roc_auc_score(y, y_pred) - 1"
   ]
  },
  {
   "cell_type": "code",
   "execution_count": 71,
   "metadata": {},
   "outputs": [
    {
     "data": {
      "text/plain": [
       "0.3999999999999999"
      ]
     },
     "execution_count": 71,
     "metadata": {},
     "output_type": "execute_result"
    }
   ],
   "source": [
    "2*0.7 - 1"
   ]
  },
  {
   "cell_type": "code",
   "execution_count": 76,
   "metadata": {},
   "outputs": [
    {
     "data": {
      "text/plain": [
       "0.25"
      ]
     },
     "execution_count": 76,
     "metadata": {},
     "output_type": "execute_result"
    }
   ],
   "source": [
    "2*0.625-1"
   ]
  },
  {
   "cell_type": "code",
   "execution_count": 77,
   "metadata": {},
   "outputs": [
    {
     "data": {
      "text/plain": [
       "Index(['status', 'product', 'credit_term', 'credit_amount', 'know_source',\n",
       "       'loan_purpose', 'passport_type', 'social_status', 'education',\n",
       "       'faculty', 'birthday', 'gender', 'family_status', 'children16',\n",
       "       'liv_equal', 'emp_type', 'income', 'income_period', 'income_next',\n",
       "       'exp_loans', 'cp_relation', 'app_rank', 'mphone_code', 'cp_phone_code',\n",
       "       'income_status', 'filling_time'],\n",
       "      dtype='object')"
      ]
     },
     "execution_count": 77,
     "metadata": {},
     "output_type": "execute_result"
    }
   ],
   "source": [
    "df.columns"
   ]
  },
  {
   "cell_type": "code",
   "execution_count": 78,
   "metadata": {},
   "outputs": [],
   "source": [
    "from sklearn.decomposition import PCA"
   ]
  },
  {
   "cell_type": "code",
   "execution_count": 82,
   "metadata": {},
   "outputs": [],
   "source": [
    "pca = PCA(n_components=2).fit(X)"
   ]
  },
  {
   "cell_type": "code",
   "execution_count": 83,
   "metadata": {},
   "outputs": [],
   "source": [
    "x_pca = pca.transform(X)"
   ]
  },
  {
   "cell_type": "code",
   "execution_count": 86,
   "metadata": {},
   "outputs": [
    {
     "data": {
      "image/png": "[encoded data removed]",
      "text/plain": [
       "<Figure size 720x720 with 1 Axes>"
      ]
     },
     "metadata": {
      "needs_background": "light"
     },
     "output_type": "display_data"
    }
   ],
   "source": [
    "plt.figure(figsize=(10,10))\n",
    "plt.scatter(x_pca[:,0],x_pca[:,1], c=y, alpha=0.5)\n",
    "plt.show()"
   ]
  },
  {
   "cell_type": "code",
   "execution_count": 106,
   "metadata": {},
   "outputs": [
    {
     "data": {
      "text/plain": [
       "array([[ 0.44398889, -0.1337471 ,  1.        ],\n",
       "       [-0.33712884, -0.29608679,  0.        ],\n",
       "       [ 0.52850383, -0.33542803,  0.        ],\n",
       "       ...,\n",
       "       [-0.13803566, -0.3560216 ,  0.        ],\n",
       "       [ 0.52339115, -0.39165128,  1.        ],\n",
       "       [-0.35771005, -0.23740105,  0.        ]])"
      ]
     },
     "execution_count": 106,
     "metadata": {},
     "output_type": "execute_result"
    }
   ],
   "source": [
    "np.append(x_pca, y.to_numpy().reshape(-1,1), axis=1)"
   ]
  },
  {
   "cell_type": "code",
   "execution_count": 107,
   "metadata": {},
   "outputs": [],
   "source": [
    "from sklearn.cluster import KMeans"
   ]
  },
  {
   "cell_type": "code",
   "execution_count": 114,
   "metadata": {},
   "outputs": [],
   "source": [
    "km_clust = KMeans(n_clusters=4).fit(x_pca)"
   ]
  },
  {
   "cell_type": "code",
   "execution_count": 115,
   "metadata": {},
   "outputs": [],
   "source": [
    "y_pred = km_clust.predict(x_pca)"
   ]
  },
  {
   "cell_type": "code",
   "execution_count": 125,
   "metadata": {},
   "outputs": [],
   "source": [
    "cl_df = pd.DataFrame(zip(y, y_pred), columns=['status', 'cluster'])"
   ]
  },
  {
   "cell_type": "code",
   "execution_count": 134,
   "metadata": {},
   "outputs": [
    {
     "data": {
      "text/html": [
       "<div>\n",
       "<style scoped>\n",
       "    .dataframe tbody tr th:only-of-type {\n",
       "        vertical-align: middle;\n",
       "    }\n",
       "\n",
       "    .dataframe tbody tr th {\n",
       "        vertical-align: top;\n",
       "    }\n",
       "\n",
       "    .dataframe thead th {\n",
       "        text-align: right;\n",
       "    }\n",
       "</style>\n",
       "<table border=\"1\" class=\"dataframe\">\n",
       "  <thead>\n",
       "    <tr style=\"text-align: right;\">\n",
       "      <th></th>\n",
       "      <th>mean</th>\n",
       "      <th>count</th>\n",
       "    </tr>\n",
       "    <tr>\n",
       "      <th>cluster</th>\n",
       "      <th></th>\n",
       "      <th></th>\n",
       "    </tr>\n",
       "  </thead>\n",
       "  <tbody>\n",
       "    <tr>\n",
       "      <th>0</th>\n",
       "      <td>0.547849</td>\n",
       "      <td>2278</td>\n",
       "    </tr>\n",
       "    <tr>\n",
       "      <th>1</th>\n",
       "      <td>0.578652</td>\n",
       "      <td>4094</td>\n",
       "    </tr>\n",
       "    <tr>\n",
       "      <th>2</th>\n",
       "      <td>0.639563</td>\n",
       "      <td>824</td>\n",
       "    </tr>\n",
       "    <tr>\n",
       "      <th>3</th>\n",
       "      <td>0.605896</td>\n",
       "      <td>1289</td>\n",
       "    </tr>\n",
       "  </tbody>\n",
       "</table>\n",
       "</div>"
      ],
      "text/plain": [
       "             mean  count\n",
       "cluster                 \n",
       "0        0.547849   2278\n",
       "1        0.578652   4094\n",
       "2        0.639563    824\n",
       "3        0.605896   1289"
      ]
     },
     "execution_count": 134,
     "metadata": {},
     "output_type": "execute_result"
    }
   ],
   "source": [
    "cl_df.groupby('cluster')['status'].aggregate([np.mean,'count'])"
   ]
  },
  {
   "cell_type": "code",
   "execution_count": 188,
   "metadata": {},
   "outputs": [],
   "source": [
    "from sklearn.manifold import TSNE"
   ]
  },
  {
   "cell_type": "code",
   "execution_count": 189,
   "metadata": {},
   "outputs": [],
   "source": [
    "tnse_clust = KMeans(n_clusters=2).fit(X)"
   ]
  },
  {
   "cell_type": "code",
   "execution_count": 192,
   "metadata": {},
   "outputs": [],
   "source": [
    "x_tnse = tnse_clust.transform(X)"
   ]
  },
  {
   "cell_type": "code",
   "execution_count": 193,
   "metadata": {},
   "outputs": [
    {
     "data": {
      "text/plain": [
       "(8485, 2)"
      ]
     },
     "execution_count": 193,
     "metadata": {},
     "output_type": "execute_result"
    }
   ],
   "source": [
    "x_tnse.shape"
   ]
  },
  {
   "cell_type": "code",
   "execution_count": 194,
   "metadata": {},
   "outputs": [
    {
     "data": {
      "image/png": "[encoded data removed]",
      "text/plain": [
       "<Figure size 720x720 with 1 Axes>"
      ]
     },
     "metadata": {
      "needs_background": "light"
     },
     "output_type": "display_data"
    }
   ],
   "source": [
    "plt.figure(figsize=(10,10))\n",
    "plt.scatter(x_tnse[:,0],x_tnse[:,1], c=y, alpha=0.5)\n",
    "plt.show()"
   ]
  },
  {
   "cell_type": "code",
   "execution_count": null,
   "metadata": {},
   "outputs": [],
   "source": []
  }
 ],
 "metadata": {
  "kernelspec": {
   "display_name": "Python 3",
   "language": "python",
   "name": "python3"
  },
  "language_info": {
   "codemirror_mode": {
    "name": "ipython",
    "version": 3
   },
   "file_extension": ".py",
   "mimetype": "text/x-python",
   "name": "python",
   "nbconvert_exporter": "python",
   "pygments_lexer": "ipython3",
   "version": "3.8.2"
  }
 },
 "nbformat": 4,
 "nbformat_minor": 2
}
